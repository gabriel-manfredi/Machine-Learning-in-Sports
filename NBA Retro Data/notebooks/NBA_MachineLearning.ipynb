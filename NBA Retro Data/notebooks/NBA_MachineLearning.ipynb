{
 "cells": [
  {
   "cell_type": "code",
   "execution_count": 1,
   "metadata": {
    "scrolled": false
   },
   "outputs": [
    {
     "name": "stderr",
     "output_type": "stream",
     "text": [
      "C:\\Users\\gmanf\\anaconda3\\lib\\site-packages\\sklearn\\utils\\deprecation.py:144: FutureWarning: The sklearn.metrics.scorer module is  deprecated in version 0.22 and will be removed in version 0.24. The corresponding classes / functions should instead be imported from sklearn.metrics. Anything that cannot be imported from sklearn.metrics is now part of the private API.\n",
      "  warnings.warn(message, FutureWarning)\n",
      "C:\\Users\\gmanf\\anaconda3\\lib\\site-packages\\sklearn\\utils\\deprecation.py:144: FutureWarning: The sklearn.feature_selection.base module is  deprecated in version 0.22 and will be removed in version 0.24. The corresponding classes / functions should instead be imported from sklearn.feature_selection. Anything that cannot be imported from sklearn.feature_selection is now part of the private API.\n",
      "  warnings.warn(message, FutureWarning)\n"
     ]
    }
   ],
   "source": [
    "import pandas as pd\n",
    "import numpy as np\n",
    "import matplotlib.pyplot as plt\n",
    "import seaborn as sns\n",
    "pd.set_option('display.max_rows', 990)\n",
    "pd.set_option('display.max_columns', 990)\n",
    "import lightgbm as lgbm\n",
    "from hyperopt import fmin, tpe, hp, STATUS_OK, Trials\n",
    "from sklearn.metrics import roc_auc_score, auc, precision_recall_curve, average_precision_score, precision_score, recall_score, fbeta_score\n",
    "from sklearn.model_selection import cross_validate, cross_val_predict, train_test_split\n",
    "import eli5\n",
    "from sklearn.dummy import DummyClassifier\n",
    "class color:\n",
    "   PURPLE = '\\033[95m'\n",
    "   CYAN = '\\033[96m'\n",
    "   DARKCYAN = '\\033[36m'\n",
    "   BLUE = '\\033[94m'\n",
    "   GREEN = '\\033[92m'\n",
    "   YELLOW = '\\033[93m'\n",
    "   RED = '\\033[91m'\n",
    "   BOLD = '\\033[1m'\n",
    "   UNDERLINE = '\\033[4m'\n",
    "   END = '\\033[0m'"
   ]
  },
  {
   "cell_type": "markdown",
   "metadata": {},
   "source": [
    "## Load Data"
   ]
  },
  {
   "cell_type": "code",
   "execution_count": 3,
   "metadata": {
    "scrolled": false
   },
   "outputs": [],
   "source": [
    "players4factors = pd.read_csv('players4factors.csv')"
   ]
  },
  {
   "cell_type": "code",
   "execution_count": 4,
   "metadata": {
    "scrolled": false
   },
   "outputs": [],
   "source": [
    "teams4factors = pd.read_csv('teams4factors.csv')"
   ]
  },
  {
   "cell_type": "code",
   "execution_count": 5,
   "metadata": {
    "scrolled": false
   },
   "outputs": [],
   "source": [
    "teams_stats = pd.read_csv('teams_stats.csv')"
   ]
  },
  {
   "cell_type": "code",
   "execution_count": 6,
   "metadata": {
    "scrolled": false
   },
   "outputs": [],
   "source": [
    "players_stats = pd.read_csv('players_stats.csv')"
   ]
  },
  {
   "cell_type": "code",
   "execution_count": 7,
   "metadata": {
    "scrolled": false
   },
   "outputs": [],
   "source": [
    "shots = pd.read_csv('shots_log.csv')"
   ]
  },
  {
   "cell_type": "code",
   "execution_count": 108,
   "metadata": {},
   "outputs": [],
   "source": [
    "nba_teams = pd.read_csv('nba_teams.csv')"
   ]
  },
  {
   "cell_type": "markdown",
   "metadata": {},
   "source": [
    "## Useful Functions"
   ]
  },
  {
   "cell_type": "code",
   "execution_count": 8,
   "metadata": {
    "scrolled": false
   },
   "outputs": [],
   "source": [
    "# This function uses Hyperopt for finding the best parameters of a LightGBM Classifier through cross-validation\n",
    "def search_best_lgbm(X,y,n_trials, max_max_depth=20, max_max_bin=400, max_num_leaves=220, max_lrate=0.1):\n",
    "    def evaluate_model(params):\n",
    "\n",
    "        model = lgbm.LGBMClassifier(max_depth=params['max_depth'], \n",
    "                                    num_leaves=params['num_leaves'],\n",
    "                                    learning_rate =params['learning_rate'],\n",
    "                                    max_bin= params['max_bin'], \n",
    "                                    metric= ['auc', 'binary_logloss']\n",
    "                                     )\n",
    "        cv = cross_validate(model, X, y, cv=5, return_train_score=True)\n",
    "        \n",
    "\n",
    "        return {\n",
    "            'num_leaves': params['num_leaves'],\n",
    "            'max_depth': params['max_depth'],\n",
    "            'learning_rate': params['learning_rate'],\n",
    "            'max_bin': params['max_bin'],\n",
    "            'Accuracy_TRAIN': cv['train_score'].mean(),\n",
    "            'Accuracy_CVAL': cv['test_score'].mean(),\n",
    "            \n",
    "            }\n",
    "    def objective(params):\n",
    "        res = evaluate_model(params)\n",
    "        res['loss'] = - res['Accuracy_CVAL']\n",
    "        res['status'] = STATUS_OK\n",
    "        return res \n",
    "\n",
    "    hyperparameter_space = {\n",
    "            'learning_rate': hp.uniform('learning_rate', 0.0005, max_lrate),\n",
    "            'num_leaves': hp.choice('num_leaves', range(40, max_num_leaves)),\n",
    "            'max_depth': hp.choice('max_depth', range(2, max_max_depth)),\n",
    "            'max_bin': hp.choice('max_bin', range(5, max_max_bin)),\n",
    "    }\n",
    "    trials = Trials()\n",
    "    best = fmin(\n",
    "        objective,\n",
    "        space=hyperparameter_space,\n",
    "        algo=tpe.suggest,\n",
    "        max_evals=n_trials,\n",
    "        trials=trials\n",
    "    )\n",
    "    experiment_results = pd.DataFrame(trials.results).sort_values(by='loss').reset_index(drop=True)\n",
    "    return experiment_results\n",
    "    "
   ]
  },
  {
   "cell_type": "code",
   "execution_count": 9,
   "metadata": {
    "scrolled": false
   },
   "outputs": [],
   "source": [
    "def model_evaluation(model, X, y):\n",
    "    cv = cross_validate(model, X, y, cv=5)\n",
    "    accuracy = cv['test_score'].mean()\n",
    "    print(color.GREEN+color.BOLD+color.UNDERLINE+'Validation Results:'+color.END)\n",
    "    print('Accuracy: '+color.BOLD+'{} %'.format(round(accuracy*100,2))+color.END)\n",
    "    probas = cross_val_predict(model, X, y, cv=5,  method='predict_proba')\n",
    "    roc_auc = roc_auc_score(y, probas[:,1])\n",
    "    print('ROC-Area Under the Curve: '+color.BOLD+'{} %'.format(round(roc_auc*100,2))+color.END)\n",
    "    precision, recall,_ = precision_recall_curve(y, probas[:,1])\n",
    "    pr_auc = auc(recall, precision)\n",
    "    print('Precision-Recall Area Under the Curve: '+color.BOLD+'{} %'.format(round(pr_auc*100,2))+color.END)\n",
    "    return probas, accuracy, roc_auc, pr_auc\n",
    "\n",
    "def model_evaluation_noprint(model, X, y):\n",
    "    cv = cross_validate(model, X, y, cv=5)\n",
    "    accuracy = cv['test_score'].mean()\n",
    "    probas = cross_val_predict(model, X, y, cv=3,  method='predict_proba')\n",
    "    roc_auc = roc_auc_score(y, probas[:,1])\n",
    "    precision, recall,_ = precision_recall_curve(y, probas[:,1])\n",
    "    pr_auc = auc(recall, precision)\n",
    "    return probas, accuracy, roc_auc, pr_auc\n",
    "    \n",
    "def plot_prcurve(probas, X, y):\n",
    "    sns.set_style('whitegrid')\n",
    "    fig, ax = plt.subplots(figsize=(8,4))\n",
    "    naive_model = DummyClassifier(strategy='stratified')\n",
    "    naive_probas = cross_val_predict(naive_model, X, y, cv=5,  method='predict_proba')\n",
    "    precision_naive, recall_naive, _ = precision_recall_curve(y, naive_probas[:,1])\n",
    "    ax = sns.lineplot(recall_naive, precision_naive, label='No Skill Model', ci=False)\n",
    "    precision, recall,_ = precision_recall_curve(y, probas[:,1])\n",
    "    ax = sns.lineplot(recall, precision, markers=True, ci=False, label='Our Model')\n",
    "    ax.set_xlabel('Recall', fontsize=12)\n",
    "    ax.set_ylabel('Precision', fontsize=12)\n",
    "    ax.set_yticks(np.arange(0,1.1,0.1))\n",
    "    ax.set_xticks(np.arange(0,1.1,0.1))\n",
    "    ax.set_xlim(xmin=0, xmax=1)\n",
    "    ax.grid(color='black', linestyle='-', linewidth=0.1)\n",
    "    plt.legend()\n",
    "    plt.title('Precision-Recall Curves', fontsize=20)\n",
    "    plt.show()\n",
    "    "
   ]
  },
  {
   "cell_type": "code",
   "execution_count": 10,
   "metadata": {
    "scrolled": false
   },
   "outputs": [],
   "source": [
    "def show_values_on_bars(axs):\n",
    "    def _show_on_single_plot(ax):        \n",
    "        for p in ax.patches:\n",
    "            _y = p.get_y() + p.get_height() / 2\n",
    "            _x = p.get_x() + p.get_width()\n",
    "            value = '{:.2f}%'.format(p.get_width())\n",
    "            ax.text(_x+2.5, _y, value, ha=\"center\", fontsize=13, \n",
    "                   # color='darkblue'\n",
    "                   ) \n",
    "\n",
    "    if isinstance(axs, np.ndarray):\n",
    "        for idx, ax in np.ndenumerate(axs):\n",
    "            _show_on_single_plot(ax)\n",
    "    else:\n",
    "        _show_on_single_plot(axs)\n",
    "        \n",
    "def myround(x, prec=2, base=.05):\n",
    "    return round(base * round(float(x)/base),prec)"
   ]
  },
  {
   "cell_type": "code",
   "execution_count": 11,
   "metadata": {
    "scrolled": false
   },
   "outputs": [],
   "source": [
    "# I add final outcome of games to the teams4factors dataframe\n",
    "teams4factors = teams4factors.merge(teams_stats[['GAME_ID', 'TEAM_ID', 'WL']], on=['GAME_ID', 'TEAM_ID'], how='left')"
   ]
  },
  {
   "cell_type": "code",
   "execution_count": 12,
   "metadata": {
    "scrolled": false
   },
   "outputs": [
    {
     "data": {
      "text/plain": [
       "(92300, 19)"
      ]
     },
     "execution_count": 12,
     "metadata": {},
     "output_type": "execute_result"
    }
   ],
   "source": [
    "players4factors.shape"
   ]
  },
  {
   "cell_type": "code",
   "execution_count": 13,
   "metadata": {
    "scrolled": false
   },
   "outputs": [],
   "source": [
    "# I add final outcome of games to the players4factors dataframe\n",
    "players4factors = players4factors.merge(teams_stats[['GAME_ID', 'TEAM_ID', 'WL']], on=['GAME_ID', 'TEAM_ID'], how='left')"
   ]
  },
  {
   "cell_type": "code",
   "execution_count": 14,
   "metadata": {
    "scrolled": false
   },
   "outputs": [
    {
     "data": {
      "text/html": [
       "<div>\n",
       "<style scoped>\n",
       "    .dataframe tbody tr th:only-of-type {\n",
       "        vertical-align: middle;\n",
       "    }\n",
       "\n",
       "    .dataframe tbody tr th {\n",
       "        vertical-align: top;\n",
       "    }\n",
       "\n",
       "    .dataframe thead th {\n",
       "        text-align: right;\n",
       "    }\n",
       "</style>\n",
       "<table border=\"1\" class=\"dataframe\">\n",
       "  <thead>\n",
       "    <tr style=\"text-align: right;\">\n",
       "      <th></th>\n",
       "      <th>SEASON_ID</th>\n",
       "      <th>SEASON</th>\n",
       "      <th>STAGE</th>\n",
       "      <th>GAME_ID</th>\n",
       "      <th>TEAM_ID</th>\n",
       "      <th>TEAM_ABBREVIATION</th>\n",
       "      <th>TEAM_CITY</th>\n",
       "      <th>PLAYER_ID</th>\n",
       "      <th>PLAYER_NAME</th>\n",
       "      <th>START_POSITION</th>\n",
       "      <th>MINS_PLAYED</th>\n",
       "      <th>EFG_PCT</th>\n",
       "      <th>FTA_RATE</th>\n",
       "      <th>TM_TOV_PCT</th>\n",
       "      <th>OREB_PCT</th>\n",
       "      <th>OPP_EFG_PCT</th>\n",
       "      <th>OPP_FTA_RATE</th>\n",
       "      <th>OPP_TOV_PCT</th>\n",
       "      <th>OPP_OREB_PCT</th>\n",
       "      <th>WL</th>\n",
       "    </tr>\n",
       "  </thead>\n",
       "  <tbody>\n",
       "    <tr>\n",
       "      <th>0</th>\n",
       "      <td>41996</td>\n",
       "      <td>1996-97 Season</td>\n",
       "      <td>Playoffs</td>\n",
       "      <td>49600078</td>\n",
       "      <td>1610612748</td>\n",
       "      <td>MIA</td>\n",
       "      <td>Miami</td>\n",
       "      <td>469</td>\n",
       "      <td>Jamal Mashburn</td>\n",
       "      <td>F</td>\n",
       "      <td>26</td>\n",
       "      <td>0.474</td>\n",
       "      <td>0.395</td>\n",
       "      <td>0.189</td>\n",
       "      <td>0.261</td>\n",
       "      <td>0.479</td>\n",
       "      <td>0.34</td>\n",
       "      <td>0.125</td>\n",
       "      <td>0.462</td>\n",
       "      <td>L</td>\n",
       "    </tr>\n",
       "  </tbody>\n",
       "</table>\n",
       "</div>"
      ],
      "text/plain": [
       "   SEASON_ID          SEASON     STAGE   GAME_ID     TEAM_ID  \\\n",
       "0      41996  1996-97 Season  Playoffs  49600078  1610612748   \n",
       "\n",
       "  TEAM_ABBREVIATION TEAM_CITY  PLAYER_ID     PLAYER_NAME START_POSITION  \\\n",
       "0               MIA     Miami        469  Jamal Mashburn              F   \n",
       "\n",
       "   MINS_PLAYED  EFG_PCT  FTA_RATE  TM_TOV_PCT  OREB_PCT  OPP_EFG_PCT  \\\n",
       "0           26    0.474     0.395       0.189     0.261        0.479   \n",
       "\n",
       "   OPP_FTA_RATE  OPP_TOV_PCT  OPP_OREB_PCT WL  \n",
       "0          0.34        0.125         0.462  L  "
      ]
     },
     "execution_count": 14,
     "metadata": {},
     "output_type": "execute_result"
    }
   ],
   "source": [
    "players4factors.head(1)"
   ]
  },
  {
   "cell_type": "markdown",
   "metadata": {},
   "source": [
    "# Problem Definition"
   ]
  },
  {
   "cell_type": "markdown",
   "metadata": {},
   "source": [
    "I would like to analyze vintage NBA teams through new Machine Learning techniques. Some of the things I will explore are:\n",
    "- Dean Oliver's Four Factors\n",
    "- Importance of the Four Factors for different teams\n",
    "- Most important players per team\n",
    "- Shooting Analysis per team\n",
    "\n",
    "Now I know that with most of the things I'm doing here I'm not even scratching the surface compared to what current NBA Data Teams are probably doing. But they still look like decent exercises to try with these data."
   ]
  },
  {
   "cell_type": "markdown",
   "metadata": {},
   "source": [
    "# Oliver's Four Factors"
   ]
  },
  {
   "cell_type": "markdown",
   "metadata": {},
   "source": [
    "While trying to answer the question \"How do basketball teams win games?\", Dean Oliver identified what he called the \"Four Factors of Basketball Success\"\n",
    "- Shooting (40%)\n",
    "- Turnovers (25%)\n",
    "- Rebounding (20%)\n",
    "- Free Throws (15%)\n",
    "\n",
    "The weights for each factor were approximations assigned by himself. Additionally, in reality there are 8 factors, because for each team you have their 4 factors and the performance of the opponent on the same 4 factors.\n",
    "\n",
    "Let's analyze each factor individually"
   ]
  },
  {
   "cell_type": "markdown",
   "metadata": {},
   "source": [
    "### 1. Shooting (EFG%)\n",
    "The shooting factor is measured using Effective Field Goal Percentage (eFG%). The formula for both offense and defense is (FG + 0.5 * 3P) / FGA."
   ]
  },
  {
   "cell_type": "markdown",
   "metadata": {},
   "source": [
    "### 2. Turnovers (TOV_PCT)\n",
    "The turnover factor is measured using Turnover Percentage (TOV%). The formula for both offense and defense is TOV / (FGA + 0.44 * FTA + TOV)."
   ]
  },
  {
   "cell_type": "markdown",
   "metadata": {},
   "source": [
    "### 3. Rebounding (OFF_REB_PCT)\n",
    "The rebounding factor is measured using Offensive and Defensive Rebound Percentage (ORB% and DRB%, respectively). The formula for offense is ORB / (ORB + Opp DRB), while the formula for defense is DRB / (Opp ORB + DRB)"
   ]
  },
  {
   "cell_type": "markdown",
   "metadata": {},
   "source": [
    "### 4. Free Throws Rate (FTA_RATE)\n",
    "The free throw factor is a measure of both how often a team gets to the line and how often they make them. The formula for both offense and defense is FT / FGA."
   ]
  },
  {
   "cell_type": "markdown",
   "metadata": {},
   "source": [
    "Let's first see how well we can predict any given NBA game by knowing the 4 factors (or 8 factors in reality). We use data from 1996 to 1999 to train and cross-validate the model, leaving the 1999-00 Season for pure testing afterwards."
   ]
  },
  {
   "cell_type": "code",
   "execution_count": 15,
   "metadata": {
    "scrolled": false
   },
   "outputs": [],
   "source": [
    "train = teams4factors[teams4factors['SEASON']!='1999-00 Season']"
   ]
  },
  {
   "cell_type": "code",
   "execution_count": 16,
   "metadata": {
    "scrolled": false
   },
   "outputs": [],
   "source": [
    "test = teams4factors[teams4factors['SEASON']=='1999-00 Season']"
   ]
  },
  {
   "cell_type": "code",
   "execution_count": 17,
   "metadata": {
    "scrolled": false
   },
   "outputs": [],
   "source": [
    "X = train.iloc[:,7:-1]\n",
    "y = [1 if x=='W' else 0 for x in train.WL]"
   ]
  },
  {
   "cell_type": "code",
   "execution_count": 18,
   "metadata": {
    "scrolled": false
   },
   "outputs": [],
   "source": [
    "X_test = test.iloc[:,7:-1]\n",
    "y_test = [1 if x=='W' else 0 for x in test.WL]"
   ]
  },
  {
   "cell_type": "code",
   "execution_count": 19,
   "metadata": {
    "scrolled": false
   },
   "outputs": [
    {
     "name": "stdout",
     "output_type": "stream",
     "text": [
      "100%|███████████████████████████████████████████████| 50/50 [00:54<00:00,  1.10s/trial, best loss: -0.9190087985513105]\n"
     ]
    },
    {
     "data": {
      "text/html": [
       "<div>\n",
       "<style scoped>\n",
       "    .dataframe tbody tr th:only-of-type {\n",
       "        vertical-align: middle;\n",
       "    }\n",
       "\n",
       "    .dataframe tbody tr th {\n",
       "        vertical-align: top;\n",
       "    }\n",
       "\n",
       "    .dataframe thead th {\n",
       "        text-align: right;\n",
       "    }\n",
       "</style>\n",
       "<table border=\"1\" class=\"dataframe\">\n",
       "  <thead>\n",
       "    <tr style=\"text-align: right;\">\n",
       "      <th></th>\n",
       "      <th>num_leaves</th>\n",
       "      <th>max_depth</th>\n",
       "      <th>learning_rate</th>\n",
       "      <th>max_bin</th>\n",
       "      <th>Accuracy_TRAIN</th>\n",
       "      <th>Accuracy_CVAL</th>\n",
       "      <th>loss</th>\n",
       "      <th>status</th>\n",
       "    </tr>\n",
       "  </thead>\n",
       "  <tbody>\n",
       "    <tr>\n",
       "      <th>0</th>\n",
       "      <td>40</td>\n",
       "      <td>19</td>\n",
       "      <td>0.099575</td>\n",
       "      <td>225</td>\n",
       "      <td>0.999433</td>\n",
       "      <td>0.919009</td>\n",
       "      <td>-0.919009</td>\n",
       "      <td>ok</td>\n",
       "    </tr>\n",
       "    <tr>\n",
       "      <th>1</th>\n",
       "      <td>146</td>\n",
       "      <td>17</td>\n",
       "      <td>0.089526</td>\n",
       "      <td>135</td>\n",
       "      <td>1.000000</td>\n",
       "      <td>0.918251</td>\n",
       "      <td>-0.918251</td>\n",
       "      <td>ok</td>\n",
       "    </tr>\n",
       "    <tr>\n",
       "      <th>2</th>\n",
       "      <td>146</td>\n",
       "      <td>17</td>\n",
       "      <td>0.088281</td>\n",
       "      <td>225</td>\n",
       "      <td>1.000000</td>\n",
       "      <td>0.917497</td>\n",
       "      <td>-0.917497</td>\n",
       "      <td>ok</td>\n",
       "    </tr>\n",
       "  </tbody>\n",
       "</table>\n",
       "</div>"
      ],
      "text/plain": [
       "   num_leaves  max_depth  learning_rate  max_bin  Accuracy_TRAIN  \\\n",
       "0          40         19       0.099575      225        0.999433   \n",
       "1         146         17       0.089526      135        1.000000   \n",
       "2         146         17       0.088281      225        1.000000   \n",
       "\n",
       "   Accuracy_CVAL      loss status  \n",
       "0       0.919009 -0.919009     ok  \n",
       "1       0.918251 -0.918251     ok  \n",
       "2       0.917497 -0.917497     ok  "
      ]
     },
     "execution_count": 19,
     "metadata": {},
     "output_type": "execute_result"
    }
   ],
   "source": [
    "results = search_best_lgbm(X,y,50)\n",
    "results.head(3)"
   ]
  },
  {
   "cell_type": "code",
   "execution_count": 20,
   "metadata": {
    "scrolled": false
   },
   "outputs": [],
   "source": [
    "best = dict(results.iloc[0,:4])\n",
    "best_model = lgbm.LGBMClassifier(**best)"
   ]
  },
  {
   "cell_type": "code",
   "execution_count": 21,
   "metadata": {
    "scrolled": false
   },
   "outputs": [
    {
     "data": {
      "text/plain": [
       "LGBMClassifier(boosting_type='gbdt', class_weight=None, colsample_bytree=1.0,\n",
       "               importance_type='split', learning_rate=0.09957488690101882,\n",
       "               max_bin=225, max_depth=19, min_child_samples=20,\n",
       "               min_child_weight=0.001, min_split_gain=0.0, n_estimators=100,\n",
       "               n_jobs=-1, num_leaves=40, objective=None, random_state=None,\n",
       "               reg_alpha=0.0, reg_lambda=0.0, silent=True, subsample=1.0,\n",
       "               subsample_for_bin=200000, subsample_freq=0)"
      ]
     },
     "execution_count": 21,
     "metadata": {},
     "output_type": "execute_result"
    }
   ],
   "source": [
    "best_model.fit(X,y)"
   ]
  },
  {
   "cell_type": "code",
   "execution_count": 22,
   "metadata": {
    "scrolled": false
   },
   "outputs": [
    {
     "data": {
      "text/plain": [
       "0.9231987331749802"
      ]
     },
     "execution_count": 22,
     "metadata": {},
     "output_type": "execute_result"
    }
   ],
   "source": [
    "best_model.score(X_test, y_test)"
   ]
  },
  {
   "cell_type": "code",
   "execution_count": 23,
   "metadata": {},
   "outputs": [
    {
     "name": "stdout",
     "output_type": "stream",
     "text": [
      "\u001b[92m\u001b[1m\u001b[4mValidation Results:\u001b[0m\n",
      "Accuracy: \u001b[1m92.04 %\u001b[0m\n",
      "ROC-Area Under the Curve: \u001b[1m97.61 %\u001b[0m\n",
      "Precision-Recall Area Under the Curve: \u001b[1m97.63 %\u001b[0m\n"
     ]
    }
   ],
   "source": [
    "probas, accuracy, roc_auc, pr_auc = model_evaluation(best_model, X_test, y_test)"
   ]
  },
  {
   "cell_type": "code",
   "execution_count": 24,
   "metadata": {},
   "outputs": [
    {
     "data": {
      "image/png": "[encoded data removed]",
      "text/plain": [
       "<Figure size 576x288 with 1 Axes>"
      ]
     },
     "metadata": {},
     "output_type": "display_data"
    }
   ],
   "source": [
    "plot_prcurve(probas, X_test, y_test)"
   ]
  },
  {
   "cell_type": "markdown",
   "metadata": {},
   "source": [
    "We can correctly predict almost 92% of NBA results on the testing set with Oliver's 4 factors. Definitely good considering lots of games are defined by a couple of points only. It's not hard to see why his theory became well-known.\n",
    "\n",
    "Now let's see the weight assigned to each factor in our Gradient Boosting model. The idea is to either corroborate or discuss the weights that he initially assigned to each factor."
   ]
  },
  {
   "cell_type": "code",
   "execution_count": 25,
   "metadata": {},
   "outputs": [],
   "source": [
    "importances = eli5.explain_weights_df(best_model)"
   ]
  },
  {
   "cell_type": "code",
   "execution_count": 26,
   "metadata": {},
   "outputs": [
    {
     "data": {
      "text/html": [
       "<div>\n",
       "<style scoped>\n",
       "    .dataframe tbody tr th:only-of-type {\n",
       "        vertical-align: middle;\n",
       "    }\n",
       "\n",
       "    .dataframe tbody tr th {\n",
       "        vertical-align: top;\n",
       "    }\n",
       "\n",
       "    .dataframe thead th {\n",
       "        text-align: right;\n",
       "    }\n",
       "</style>\n",
       "<table border=\"1\" class=\"dataframe\">\n",
       "  <thead>\n",
       "    <tr style=\"text-align: right;\">\n",
       "      <th></th>\n",
       "      <th>Factors</th>\n",
       "      <th>Olivers Original Weight</th>\n",
       "      <th>Weight</th>\n",
       "    </tr>\n",
       "  </thead>\n",
       "  <tbody>\n",
       "    <tr>\n",
       "      <th>0</th>\n",
       "      <td>Shooting</td>\n",
       "      <td>40.0</td>\n",
       "      <td>53.8</td>\n",
       "    </tr>\n",
       "    <tr>\n",
       "      <th>1</th>\n",
       "      <td>Rebounding</td>\n",
       "      <td>20.0</td>\n",
       "      <td>15.2</td>\n",
       "    </tr>\n",
       "    <tr>\n",
       "      <th>2</th>\n",
       "      <td>Turnovers</td>\n",
       "      <td>25.0</td>\n",
       "      <td>20.2</td>\n",
       "    </tr>\n",
       "    <tr>\n",
       "      <th>3</th>\n",
       "      <td>Free Throws</td>\n",
       "      <td>15.0</td>\n",
       "      <td>10.8</td>\n",
       "    </tr>\n",
       "  </tbody>\n",
       "</table>\n",
       "</div>"
      ],
      "text/plain": [
       "       Factors  Olivers Original Weight  Weight\n",
       "0     Shooting                     40.0    53.8\n",
       "1   Rebounding                     20.0    15.2\n",
       "2    Turnovers                     25.0    20.2\n",
       "3  Free Throws                     15.0    10.8"
      ]
     },
     "execution_count": 26,
     "metadata": {},
     "output_type": "execute_result"
    }
   ],
   "source": [
    "table = pd.DataFrame()\n",
    "table['Factors'] = ['Shooting', 'Rebounding', 'Turnovers', 'Free Throws']\n",
    "shooting = round((importances[importances.feature=='EFG_PCT'].weight.iloc[0] + importances[importances.feature=='OPP_EFG_PCT'].weight.iloc[0])*100,1)\n",
    "rebounding = round((importances[importances.feature=='OREB_PCT'].weight.iloc[0] + importances[importances.feature=='OPP_OREB_PCT'].weight.iloc[0])*100,1)\n",
    "turnovers = round((importances[importances.feature=='TM_TOV_PCT'].weight.iloc[0] + importances[importances.feature=='OPP_TOV_PCT'].weight.iloc[0])*100,1)\n",
    "free_throws = round((importances[importances.feature=='FTA_RATE'].weight.iloc[0] + importances[importances.feature=='OPP_FTA_RATE'].weight.iloc[0])*100,1)\n",
    "table['Olivers Original Weight'] = [40.0, 20.0, 25.0, 15.0]\n",
    "table['Weight'] = [shooting, rebounding, turnovers, free_throws]\n",
    "table"
   ]
  },
  {
   "cell_type": "markdown",
   "metadata": {},
   "source": [
    "So according to our model, Shooting is around 14% more important than Oliver's original estimations. The other three factors are a bit less important than what he said. The order is the same though: Shooting > Turnovers > Rebounding > Free Throws"
   ]
  },
  {
   "cell_type": "markdown",
   "metadata": {},
   "source": [
    "My idea for this notebook is, using these factors as predictors, to create a separate model for each vintage team. Then we will know if for certain teams the weights we just saw are different. It would make perfect sense that for some teams some factors are more important than others for predicting whether they win or lose.\n",
    "\n",
    "I will first use Seattle Supersonics 96-97 as example. For some reason I used to love this team when I was a kid in the 90's. I guess something about their name, having Shawn Kemp on the team... Also that they are from Seattle and I used to listen to Nirvana a lot at that time. Just thinking about them takes my back to those good-old days, even though I grew up on the other side of the world."
   ]
  },
  {
   "cell_type": "markdown",
   "metadata": {},
   "source": [
    "# Four Factors Importance (Seattle Supersonics example)"
   ]
  },
  {
   "cell_type": "code",
   "execution_count": 27,
   "metadata": {
    "scrolled": true
   },
   "outputs": [],
   "source": [
    "sonics96 = teams4factors[(teams4factors.SEASON=='1996-97 Season') & ((teams4factors.TEAM_ABBREVIATION=='SEA'))]"
   ]
  },
  {
   "cell_type": "code",
   "execution_count": 28,
   "metadata": {
    "scrolled": true
   },
   "outputs": [],
   "source": [
    "X = sonics96[['EFG_PCT', 'FTA_RATE', 'TM_TOV_PCT', 'OREB_PCT', 'OPP_EFG_PCT', 'OPP_FTA_RATE', 'OPP_TOV_PCT', 'OPP_OREB_PCT']]\n",
    "y = [1 if x=='W' else 0 for x in sonics96.WL]"
   ]
  },
  {
   "cell_type": "code",
   "execution_count": 29,
   "metadata": {
    "scrolled": true
   },
   "outputs": [
    {
     "name": "stdout",
     "output_type": "stream",
     "text": [
      "100%|██████████████████████████████████████████████| 200/200 [00:29<00:00,  6.84trial/s, best loss: -0.902923976608187]\n"
     ]
    },
    {
     "data": {
      "text/html": [
       "<div>\n",
       "<style scoped>\n",
       "    .dataframe tbody tr th:only-of-type {\n",
       "        vertical-align: middle;\n",
       "    }\n",
       "\n",
       "    .dataframe tbody tr th {\n",
       "        vertical-align: top;\n",
       "    }\n",
       "\n",
       "    .dataframe thead th {\n",
       "        text-align: right;\n",
       "    }\n",
       "</style>\n",
       "<table border=\"1\" class=\"dataframe\">\n",
       "  <thead>\n",
       "    <tr style=\"text-align: right;\">\n",
       "      <th></th>\n",
       "      <th>num_leaves</th>\n",
       "      <th>max_depth</th>\n",
       "      <th>learning_rate</th>\n",
       "      <th>max_bin</th>\n",
       "      <th>Accuracy_TRAIN</th>\n",
       "      <th>Accuracy_CVAL</th>\n",
       "      <th>loss</th>\n",
       "      <th>status</th>\n",
       "    </tr>\n",
       "  </thead>\n",
       "  <tbody>\n",
       "    <tr>\n",
       "      <th>0</th>\n",
       "      <td>40</td>\n",
       "      <td>19</td>\n",
       "      <td>0.099575</td>\n",
       "      <td>225</td>\n",
       "      <td>0.999433</td>\n",
       "      <td>0.919009</td>\n",
       "      <td>-0.919009</td>\n",
       "      <td>ok</td>\n",
       "    </tr>\n",
       "    <tr>\n",
       "      <th>1</th>\n",
       "      <td>146</td>\n",
       "      <td>17</td>\n",
       "      <td>0.089526</td>\n",
       "      <td>135</td>\n",
       "      <td>1.000000</td>\n",
       "      <td>0.918251</td>\n",
       "      <td>-0.918251</td>\n",
       "      <td>ok</td>\n",
       "    </tr>\n",
       "    <tr>\n",
       "      <th>2</th>\n",
       "      <td>146</td>\n",
       "      <td>17</td>\n",
       "      <td>0.088281</td>\n",
       "      <td>225</td>\n",
       "      <td>1.000000</td>\n",
       "      <td>0.917497</td>\n",
       "      <td>-0.917497</td>\n",
       "      <td>ok</td>\n",
       "    </tr>\n",
       "  </tbody>\n",
       "</table>\n",
       "</div>"
      ],
      "text/plain": [
       "   num_leaves  max_depth  learning_rate  max_bin  Accuracy_TRAIN  \\\n",
       "0          40         19       0.099575      225        0.999433   \n",
       "1         146         17       0.089526      135        1.000000   \n",
       "2         146         17       0.088281      225        1.000000   \n",
       "\n",
       "   Accuracy_CVAL      loss status  \n",
       "0       0.919009 -0.919009     ok  \n",
       "1       0.918251 -0.918251     ok  \n",
       "2       0.917497 -0.917497     ok  "
      ]
     },
     "execution_count": 29,
     "metadata": {},
     "output_type": "execute_result"
    }
   ],
   "source": [
    "results_sonics = search_best_lgbm(X,y,200)\n",
    "results.head(3)"
   ]
  },
  {
   "cell_type": "code",
   "execution_count": 30,
   "metadata": {
    "scrolled": true
   },
   "outputs": [],
   "source": [
    "best = dict(results.iloc[0,:4])\n",
    "best_model = lgbm.LGBMClassifier(**best)"
   ]
  },
  {
   "cell_type": "code",
   "execution_count": 31,
   "metadata": {
    "scrolled": true
   },
   "outputs": [
    {
     "name": "stdout",
     "output_type": "stream",
     "text": [
      "\u001b[92m\u001b[1m\u001b[4mValidation Results:\u001b[0m\n",
      "Accuracy: \u001b[1m86.96 %\u001b[0m\n",
      "ROC-Area Under the Curve: \u001b[1m93.97 %\u001b[0m\n",
      "Precision-Recall Area Under the Curve: \u001b[1m96.76 %\u001b[0m\n"
     ]
    }
   ],
   "source": [
    "probas, accuracy, roc_auc, pr_auc = model_evaluation(best_model, X, y)"
   ]
  },
  {
   "cell_type": "code",
   "execution_count": 32,
   "metadata": {
    "scrolled": false
   },
   "outputs": [
    {
     "data": {
      "image/png": "[encoded data removed]",
      "text/plain": [
       "<Figure size 576x288 with 1 Axes>"
      ]
     },
     "metadata": {},
     "output_type": "display_data"
    }
   ],
   "source": [
    "plot_prcurve(probas, X, y)"
   ]
  },
  {
   "cell_type": "code",
   "execution_count": 33,
   "metadata": {
    "scrolled": true
   },
   "outputs": [],
   "source": [
    "best_model.fit(X,y)\n",
    "importances = eli5.explain_weights_df(best_model)"
   ]
  },
  {
   "cell_type": "code",
   "execution_count": 34,
   "metadata": {
    "scrolled": true
   },
   "outputs": [
    {
     "data": {
      "text/html": [
       "<div>\n",
       "<style scoped>\n",
       "    .dataframe tbody tr th:only-of-type {\n",
       "        vertical-align: middle;\n",
       "    }\n",
       "\n",
       "    .dataframe tbody tr th {\n",
       "        vertical-align: top;\n",
       "    }\n",
       "\n",
       "    .dataframe thead th {\n",
       "        text-align: right;\n",
       "    }\n",
       "</style>\n",
       "<table border=\"1\" class=\"dataframe\">\n",
       "  <thead>\n",
       "    <tr style=\"text-align: right;\">\n",
       "      <th></th>\n",
       "      <th>Factors</th>\n",
       "      <th>Supersonics Importance</th>\n",
       "      <th>Avg. NBA Team</th>\n",
       "    </tr>\n",
       "  </thead>\n",
       "  <tbody>\n",
       "    <tr>\n",
       "      <th>0</th>\n",
       "      <td>Shooting</td>\n",
       "      <td>45.0</td>\n",
       "      <td>52.0</td>\n",
       "    </tr>\n",
       "    <tr>\n",
       "      <th>1</th>\n",
       "      <td>Rebounding</td>\n",
       "      <td>7.0</td>\n",
       "      <td>16.0</td>\n",
       "    </tr>\n",
       "    <tr>\n",
       "      <th>2</th>\n",
       "      <td>Turnovers</td>\n",
       "      <td>38.0</td>\n",
       "      <td>21.0</td>\n",
       "    </tr>\n",
       "    <tr>\n",
       "      <th>3</th>\n",
       "      <td>Free Throws</td>\n",
       "      <td>10.0</td>\n",
       "      <td>11.0</td>\n",
       "    </tr>\n",
       "  </tbody>\n",
       "</table>\n",
       "</div>"
      ],
      "text/plain": [
       "       Factors  Supersonics Importance  Avg. NBA Team\n",
       "0     Shooting                    45.0           52.0\n",
       "1   Rebounding                     7.0           16.0\n",
       "2    Turnovers                    38.0           21.0\n",
       "3  Free Throws                    10.0           11.0"
      ]
     },
     "execution_count": 34,
     "metadata": {},
     "output_type": "execute_result"
    }
   ],
   "source": [
    "table = pd.DataFrame()\n",
    "table['Factors'] = ['Shooting', 'Rebounding', 'Turnovers', 'Free Throws']\n",
    "shooting = round((importances[importances.feature=='EFG_PCT'].weight.iloc[0] + importances[importances.feature=='OPP_EFG_PCT'].weight.iloc[0])*100,0)\n",
    "rebounding = round((importances[importances.feature=='OREB_PCT'].weight.iloc[0] + importances[importances.feature=='OPP_OREB_PCT'].weight.iloc[0])*100,0)\n",
    "turnovers = round((importances[importances.feature=='TM_TOV_PCT'].weight.iloc[0] + importances[importances.feature=='OPP_TOV_PCT'].weight.iloc[0])*100,0)\n",
    "free_throws = round((importances[importances.feature=='FTA_RATE'].weight.iloc[0] + importances[importances.feature=='OPP_FTA_RATE'].weight.iloc[0])*100,0)\n",
    "table['Supersonics Importance'] = [shooting, rebounding, turnovers, free_throws]\n",
    "table['Avg. NBA Team'] = [52.0, 16.0, 21.0, 11.0]\n",
    "table"
   ]
  },
  {
   "cell_type": "markdown",
   "metadata": {},
   "source": [
    "We see that the predictive power of Turnovers for 96-97 Seattle Supersonics is way higher than for the average NBA team. This suggests that fast-breaks were probably a huge part of their game, and the best way to do fast-breaks is by causing turnovers. The predictive power of Rebounds is particularly low for this team."
   ]
  },
  {
   "cell_type": "code",
   "execution_count": 35,
   "metadata": {
    "scrolled": true
   },
   "outputs": [
    {
     "data": {
      "text/plain": [
       "Text(0.0, 1.0, 'Four Factors Importance')"
      ]
     },
     "execution_count": 35,
     "metadata": {},
     "output_type": "execute_result"
    },
    {
     "data": {
      "image/png": "[encoded data removed]",
      "text/plain": [
       "<Figure size 720x288 with 1 Axes>"
      ]
     },
     "metadata": {},
     "output_type": "display_data"
    }
   ],
   "source": [
    "features_dict = dict({'EFG_PCT': 'EFG%', 'DEF_RATING': 'Defense', 'FTA_RATE': 'Free Throws Rate', 'TM_TOV_PCT': 'Turnovers Rate', \\\n",
    "                     'OREB_PCT': 'Offensive Rebounds Rate', 'OPP_OREB_PCT': 'Defensive Rebounds Rate', 'OPP_EFG_PCT': 'Opponent EFG%', \\\n",
    "                         'OPP_FTA_RATE': 'Opponent Free Throws Rate', 'OPP_TOV_PCT': 'Opponent Turnovers Rate'})\n",
    "sns.set(rc={'axes.facecolor':'white', 'figure.facecolor':'white', 'text.color': 'black', 'ytick.color': 'black', \\\n",
    "           'xtick.color': 'black'})\n",
    "fig, ax = plt.subplots(figsize=(10,4))\n",
    "ax = sns.barplot(y=importances.feature.map(features_dict), x=importances.weight/importances.weight.sum()*100, )\n",
    "ax.set_xticks(np.arange(0, (importances.weight.max()/importances.weight.sum()*100)+10, 5))\n",
    "ax.set_xlabel('')\n",
    "ax.set_ylabel('')\n",
    "ax.set_yticklabels(labels=ax.get_yticklabels(), fontsize=14)\n",
    "ax.grid(color='black', linestyle='-', linewidth=0.15)\n",
    "ax.spines['right'].set_linewidth(0.2)\n",
    "ax.spines['right'].set_color('green')\n",
    "ax.spines['top'].set_linewidth(0.2)\n",
    "ax.spines['top'].set_color('green')\n",
    "#show_values_on_bars(ax)\n",
    "plt.title('Four Factors Importance', fontsize=28, pad='15.0', loc='left')"
   ]
  },
  {
   "cell_type": "markdown",
   "metadata": {},
   "source": [
    "The plot confirms that it is particularly the opponent's turnover rate that is such a great predictor of Seattle Supersonics' success. We see that their own turnover's rate is not as important. All of this strengthens the theory that this team relied heavily on fast breaks."
   ]
  },
  {
   "cell_type": "markdown",
   "metadata": {},
   "source": [
    "# Most Important players per team (Chicago Bulls example)"
   ]
  },
  {
   "cell_type": "markdown",
   "metadata": {},
   "source": [
    "Now we will again make a model specifically for the team. In this case, we'll use 97-98 Chicago Bulls as example. But this time the predictors will be the individual players' performance on the four factors, rather than the team's totals. Then we can estimate the importance of each predictor and in this way we can estimate the importance of each player on predicting the final outcome of each game.\n",
    "For this analysis I'd prefer to merge some of the 8 factors, to make the results' interpretation more intuititive. For example:\n",
    "- Combine Offensive Rebounds Rate with Opponent's Offensive Rebounds Rate. Then we have only one factors that covers the entire rebounding spectrum of the player. The Opponent's Offensive Rebounds Rate measures how many offensive rebounds a player allowed his matchup to grab, so it is a good measure of his own's defensive rebounding performance.\n",
    "- Combine Opponent's EFG% with Opponent's Turnover Rate and Opponent's Free Throws Rate: Then we have one factor that represents the player's defensive performance during the game.\n",
    "\n",
    "So, in summary, we now have 5 factors for describing each player's performance: (1) EFG% (=shooting), (2) Rebounding, (3) Turnovers Rate, (4) Free Throws Rate, (5) Defense. So the total number of predictors will be \"Number of players x 5\".\n",
    "\n",
    "Instead of adding the 5 factors for every player of the team, I will consider only the 8 players who played the most minutes. In this way we end up with 40 predictors for each game (8x5), which seems reasonable."
   ]
  },
  {
   "cell_type": "code",
   "execution_count": 36,
   "metadata": {
    "scrolled": false
   },
   "outputs": [],
   "source": [
    "players4factors['REB'] = players4factors['OREB_PCT'] - players4factors['OPP_OREB_PCT']\n",
    "players4factors['DEF'] = 1 - (0.7*players4factors['OPP_EFG_PCT'] + 0.15*players4factors['OPP_TOV_PCT'] + 0.15*players4factors['OPP_FTA_RATE'])"
   ]
  },
  {
   "cell_type": "code",
   "execution_count": 37,
   "metadata": {
    "scrolled": false
   },
   "outputs": [],
   "source": [
    "season97_players = players4factors[players4factors.SEASON=='1997-98 Season']"
   ]
  },
  {
   "cell_type": "code",
   "execution_count": 38,
   "metadata": {
    "scrolled": false
   },
   "outputs": [],
   "source": [
    "bulls97_players = season97_players[season97_players.TEAM_ABBREVIATION=='CHI'].reset_index(drop=True)"
   ]
  },
  {
   "cell_type": "code",
   "execution_count": 39,
   "metadata": {
    "scrolled": false
   },
   "outputs": [],
   "source": [
    "group_players = bulls97_players.groupby('PLAYER_NAME', as_index=False)[['MINS_PLAYED', 'EFG_PCT', 'FTA_RATE', 'TM_TOV_PCT', \\\n",
    "                                                                       'REB', 'DEF']].mean()"
   ]
  },
  {
   "cell_type": "code",
   "execution_count": 40,
   "metadata": {
    "scrolled": false
   },
   "outputs": [],
   "source": [
    "list_players = list(group_players.sort_values('MINS_PLAYED', ascending=False).reset_index(drop=True).iloc[:8,:]['PLAYER_NAME'].unique())"
   ]
  },
  {
   "cell_type": "code",
   "execution_count": 41,
   "metadata": {
    "scrolled": false
   },
   "outputs": [
    {
     "data": {
      "text/plain": [
       "['Michael Jordan',\n",
       " 'Scottie Pippen',\n",
       " 'Dennis Rodman',\n",
       " 'Toni Kukoc',\n",
       " 'Luc Longley',\n",
       " 'Ron Harper',\n",
       " 'Steve Kerr',\n",
       " 'Randy Brown']"
      ]
     },
     "execution_count": 41,
     "metadata": {},
     "output_type": "execute_result"
    }
   ],
   "source": [
    "list_players"
   ]
  },
  {
   "cell_type": "code",
   "execution_count": 42,
   "metadata": {
    "scrolled": false
   },
   "outputs": [],
   "source": [
    "bulls97_players = bulls97_players[bulls97_players.PLAYER_NAME.isin(list_players)].reset_index(drop=True)"
   ]
  },
  {
   "cell_type": "markdown",
   "metadata": {},
   "source": [
    "Now that we have filtered the data set to leave only the players we want, we have to create one column for each PlayerxFactor combination. Since I'm not sure how to handle this with Pandas pivot option, I will just do it manually."
   ]
  },
  {
   "cell_type": "code",
   "execution_count": 43,
   "metadata": {
    "scrolled": false
   },
   "outputs": [],
   "source": [
    "column_names=[]\n",
    "for player in list_players:\n",
    "    for column in ['EFG_PCT', 'FTA_RATE', 'TM_TOV_PCT', 'REB', 'DEF']:\n",
    "        name = player + '_' + column\n",
    "        column_names.append(name)\n",
    "df_players = pd.DataFrame(index=list(bulls97_players.GAME_ID.unique()), columns=column_names)"
   ]
  },
  {
   "cell_type": "markdown",
   "metadata": {},
   "source": [
    "We have a dataframe with each GAME_ID on the index and each PlayerxFactor combination as columns. But the values are all NaN so far. We need to fill in the corresponding values by looking them up in our previous data set."
   ]
  },
  {
   "cell_type": "code",
   "execution_count": 44,
   "metadata": {
    "scrolled": false
   },
   "outputs": [],
   "source": [
    "for index, row in bulls97_players.iterrows():\n",
    "    game = row['GAME_ID']\n",
    "    player = row['PLAYER_NAME']\n",
    "    for column in ['EFG_PCT', 'FTA_RATE', 'TM_TOV_PCT', 'REB', 'DEF']:\n",
    "        name= player + '_' + column\n",
    "        if name in df_players.columns:\n",
    "            df_players.loc[game][name] = bulls97_players[(bulls97_players.GAME_ID==game) & (bulls97_players.PLAYER_NAME==player)][column].iloc[0]"
   ]
  },
  {
   "cell_type": "code",
   "execution_count": 45,
   "metadata": {
    "scrolled": false
   },
   "outputs": [],
   "source": [
    "df_players.fillna(0, inplace=True)"
   ]
  },
  {
   "cell_type": "code",
   "execution_count": 46,
   "metadata": {
    "scrolled": false
   },
   "outputs": [],
   "source": [
    "df_players = df_players.reset_index().rename(columns={'index': 'GAME_ID'})"
   ]
  },
  {
   "cell_type": "code",
   "execution_count": 47,
   "metadata": {
    "scrolled": false
   },
   "outputs": [
    {
     "data": {
      "text/html": [
       "<div>\n",
       "<style scoped>\n",
       "    .dataframe tbody tr th:only-of-type {\n",
       "        vertical-align: middle;\n",
       "    }\n",
       "\n",
       "    .dataframe tbody tr th {\n",
       "        vertical-align: top;\n",
       "    }\n",
       "\n",
       "    .dataframe thead th {\n",
       "        text-align: right;\n",
       "    }\n",
       "</style>\n",
       "<table border=\"1\" class=\"dataframe\">\n",
       "  <thead>\n",
       "    <tr style=\"text-align: right;\">\n",
       "      <th></th>\n",
       "      <th>GAME_ID</th>\n",
       "      <th>Michael Jordan_EFG_PCT</th>\n",
       "      <th>Michael Jordan_FTA_RATE</th>\n",
       "      <th>Michael Jordan_TM_TOV_PCT</th>\n",
       "      <th>Michael Jordan_REB</th>\n",
       "      <th>Michael Jordan_DEF</th>\n",
       "      <th>Scottie Pippen_EFG_PCT</th>\n",
       "      <th>Scottie Pippen_FTA_RATE</th>\n",
       "      <th>Scottie Pippen_TM_TOV_PCT</th>\n",
       "      <th>Scottie Pippen_REB</th>\n",
       "      <th>Scottie Pippen_DEF</th>\n",
       "      <th>Dennis Rodman_EFG_PCT</th>\n",
       "      <th>Dennis Rodman_FTA_RATE</th>\n",
       "      <th>Dennis Rodman_TM_TOV_PCT</th>\n",
       "      <th>Dennis Rodman_REB</th>\n",
       "      <th>Dennis Rodman_DEF</th>\n",
       "      <th>Toni Kukoc_EFG_PCT</th>\n",
       "      <th>Toni Kukoc_FTA_RATE</th>\n",
       "      <th>Toni Kukoc_TM_TOV_PCT</th>\n",
       "      <th>Toni Kukoc_REB</th>\n",
       "      <th>Toni Kukoc_DEF</th>\n",
       "      <th>Luc Longley_EFG_PCT</th>\n",
       "      <th>Luc Longley_FTA_RATE</th>\n",
       "      <th>Luc Longley_TM_TOV_PCT</th>\n",
       "      <th>Luc Longley_REB</th>\n",
       "      <th>Luc Longley_DEF</th>\n",
       "      <th>Ron Harper_EFG_PCT</th>\n",
       "      <th>Ron Harper_FTA_RATE</th>\n",
       "      <th>Ron Harper_TM_TOV_PCT</th>\n",
       "      <th>Ron Harper_REB</th>\n",
       "      <th>Ron Harper_DEF</th>\n",
       "      <th>Steve Kerr_EFG_PCT</th>\n",
       "      <th>Steve Kerr_FTA_RATE</th>\n",
       "      <th>Steve Kerr_TM_TOV_PCT</th>\n",
       "      <th>Steve Kerr_REB</th>\n",
       "      <th>Steve Kerr_DEF</th>\n",
       "      <th>Randy Brown_EFG_PCT</th>\n",
       "      <th>Randy Brown_FTA_RATE</th>\n",
       "      <th>Randy Brown_TM_TOV_PCT</th>\n",
       "      <th>Randy Brown_REB</th>\n",
       "      <th>Randy Brown_DEF</th>\n",
       "    </tr>\n",
       "  </thead>\n",
       "  <tbody>\n",
       "    <tr>\n",
       "      <th>0</th>\n",
       "      <td>29700884</td>\n",
       "      <td>0.574</td>\n",
       "      <td>0.147</td>\n",
       "      <td>0.140</td>\n",
       "      <td>0.069</td>\n",
       "      <td>0.58235</td>\n",
       "      <td>0.582</td>\n",
       "      <td>0.197</td>\n",
       "      <td>0.188</td>\n",
       "      <td>0.144</td>\n",
       "      <td>0.6754</td>\n",
       "      <td>0.510</td>\n",
       "      <td>0.245</td>\n",
       "      <td>0.184</td>\n",
       "      <td>0.102</td>\n",
       "      <td>0.57035</td>\n",
       "      <td>0.621</td>\n",
       "      <td>0.097</td>\n",
       "      <td>0.093</td>\n",
       "      <td>-0.060</td>\n",
       "      <td>0.60325</td>\n",
       "      <td>0.000</td>\n",
       "      <td>0.0</td>\n",
       "      <td>0.000</td>\n",
       "      <td>0.000</td>\n",
       "      <td>0.00000</td>\n",
       "      <td>0.588</td>\n",
       "      <td>0.300</td>\n",
       "      <td>0.133</td>\n",
       "      <td>0.114</td>\n",
       "      <td>0.62205</td>\n",
       "      <td>0.000</td>\n",
       "      <td>0.000</td>\n",
       "      <td>0.000</td>\n",
       "      <td>0.000</td>\n",
       "      <td>0.00000</td>\n",
       "      <td>0.000</td>\n",
       "      <td>0.000</td>\n",
       "      <td>0.000</td>\n",
       "      <td>0.000</td>\n",
       "      <td>0.0000</td>\n",
       "    </tr>\n",
       "    <tr>\n",
       "      <th>1</th>\n",
       "      <td>29700467</td>\n",
       "      <td>0.397</td>\n",
       "      <td>0.079</td>\n",
       "      <td>0.163</td>\n",
       "      <td>0.025</td>\n",
       "      <td>0.55595</td>\n",
       "      <td>0.000</td>\n",
       "      <td>0.000</td>\n",
       "      <td>0.000</td>\n",
       "      <td>0.000</td>\n",
       "      <td>0.0000</td>\n",
       "      <td>0.396</td>\n",
       "      <td>0.083</td>\n",
       "      <td>0.170</td>\n",
       "      <td>-0.033</td>\n",
       "      <td>0.52440</td>\n",
       "      <td>0.446</td>\n",
       "      <td>0.087</td>\n",
       "      <td>0.183</td>\n",
       "      <td>0.055</td>\n",
       "      <td>0.47700</td>\n",
       "      <td>0.537</td>\n",
       "      <td>0.0</td>\n",
       "      <td>0.115</td>\n",
       "      <td>-0.096</td>\n",
       "      <td>0.59485</td>\n",
       "      <td>0.490</td>\n",
       "      <td>0.077</td>\n",
       "      <td>0.103</td>\n",
       "      <td>-0.015</td>\n",
       "      <td>0.55575</td>\n",
       "      <td>0.328</td>\n",
       "      <td>0.138</td>\n",
       "      <td>0.209</td>\n",
       "      <td>0.095</td>\n",
       "      <td>0.50055</td>\n",
       "      <td>0.396</td>\n",
       "      <td>0.125</td>\n",
       "      <td>0.118</td>\n",
       "      <td>-0.144</td>\n",
       "      <td>0.5459</td>\n",
       "    </tr>\n",
       "  </tbody>\n",
       "</table>\n",
       "</div>"
      ],
      "text/plain": [
       "    GAME_ID  Michael Jordan_EFG_PCT  Michael Jordan_FTA_RATE  \\\n",
       "0  29700884                   0.574                    0.147   \n",
       "1  29700467                   0.397                    0.079   \n",
       "\n",
       "   Michael Jordan_TM_TOV_PCT  Michael Jordan_REB  Michael Jordan_DEF  \\\n",
       "0                      0.140               0.069             0.58235   \n",
       "1                      0.163               0.025             0.55595   \n",
       "\n",
       "   Scottie Pippen_EFG_PCT  Scottie Pippen_FTA_RATE  Scottie Pippen_TM_TOV_PCT  \\\n",
       "0                   0.582                    0.197                      0.188   \n",
       "1                   0.000                    0.000                      0.000   \n",
       "\n",
       "   Scottie Pippen_REB  Scottie Pippen_DEF  Dennis Rodman_EFG_PCT  \\\n",
       "0               0.144              0.6754                  0.510   \n",
       "1               0.000              0.0000                  0.396   \n",
       "\n",
       "   Dennis Rodman_FTA_RATE  Dennis Rodman_TM_TOV_PCT  Dennis Rodman_REB  \\\n",
       "0                   0.245                     0.184              0.102   \n",
       "1                   0.083                     0.170             -0.033   \n",
       "\n",
       "   Dennis Rodman_DEF  Toni Kukoc_EFG_PCT  Toni Kukoc_FTA_RATE  \\\n",
       "0            0.57035               0.621                0.097   \n",
       "1            0.52440               0.446                0.087   \n",
       "\n",
       "   Toni Kukoc_TM_TOV_PCT  Toni Kukoc_REB  Toni Kukoc_DEF  Luc Longley_EFG_PCT  \\\n",
       "0                  0.093          -0.060         0.60325                0.000   \n",
       "1                  0.183           0.055         0.47700                0.537   \n",
       "\n",
       "   Luc Longley_FTA_RATE  Luc Longley_TM_TOV_PCT  Luc Longley_REB  \\\n",
       "0                   0.0                   0.000            0.000   \n",
       "1                   0.0                   0.115           -0.096   \n",
       "\n",
       "   Luc Longley_DEF  Ron Harper_EFG_PCT  Ron Harper_FTA_RATE  \\\n",
       "0          0.00000               0.588                0.300   \n",
       "1          0.59485               0.490                0.077   \n",
       "\n",
       "   Ron Harper_TM_TOV_PCT  Ron Harper_REB  Ron Harper_DEF  Steve Kerr_EFG_PCT  \\\n",
       "0                  0.133           0.114         0.62205               0.000   \n",
       "1                  0.103          -0.015         0.55575               0.328   \n",
       "\n",
       "   Steve Kerr_FTA_RATE  Steve Kerr_TM_TOV_PCT  Steve Kerr_REB  Steve Kerr_DEF  \\\n",
       "0                0.000                  0.000           0.000         0.00000   \n",
       "1                0.138                  0.209           0.095         0.50055   \n",
       "\n",
       "   Randy Brown_EFG_PCT  Randy Brown_FTA_RATE  Randy Brown_TM_TOV_PCT  \\\n",
       "0                0.000                 0.000                   0.000   \n",
       "1                0.396                 0.125                   0.118   \n",
       "\n",
       "   Randy Brown_REB  Randy Brown_DEF  \n",
       "0            0.000           0.0000  \n",
       "1           -0.144           0.5459  "
      ]
     },
     "execution_count": 47,
     "metadata": {},
     "output_type": "execute_result"
    }
   ],
   "source": [
    "df_players.head(2)"
   ]
  },
  {
   "cell_type": "code",
   "execution_count": 48,
   "metadata": {
    "scrolled": false
   },
   "outputs": [],
   "source": [
    "games = bulls97_players.drop_duplicates('GAME_ID').reset_index(drop=True)"
   ]
  },
  {
   "cell_type": "code",
   "execution_count": 49,
   "metadata": {
    "scrolled": false
   },
   "outputs": [],
   "source": [
    "df_players = df_players.merge(games[['GAME_ID', 'WL']], on='GAME_ID', how='left')"
   ]
  },
  {
   "cell_type": "code",
   "execution_count": 50,
   "metadata": {
    "scrolled": false
   },
   "outputs": [],
   "source": [
    "X = df_players.iloc[:,1:-1]\n",
    "y = [1 if x=='W' else 0 for x in df_players.WL]"
   ]
  },
  {
   "cell_type": "code",
   "execution_count": 51,
   "metadata": {
    "scrolled": false
   },
   "outputs": [
    {
     "name": "stdout",
     "output_type": "stream",
     "text": [
      "100%|█████████████████████████████████████████████| 200/200 [00:29<00:00,  6.87trial/s, best loss: -0.8442857142857143]\n"
     ]
    }
   ],
   "source": [
    "results = search_best_lgbm(X,y,200)\n",
    "best = dict(results.iloc[0,:4])\n",
    "best_model = lgbm.LGBMClassifier(**best)"
   ]
  },
  {
   "cell_type": "code",
   "execution_count": 52,
   "metadata": {
    "scrolled": false
   },
   "outputs": [
    {
     "name": "stdout",
     "output_type": "stream",
     "text": [
      "\u001b[92m\u001b[1m\u001b[4mValidation Results:\u001b[0m\n",
      "Accuracy: \u001b[1m84.43 %\u001b[0m\n",
      "ROC-Area Under the Curve: \u001b[1m82.57 %\u001b[0m\n",
      "Precision-Recall Area Under the Curve: \u001b[1m93.27 %\u001b[0m\n"
     ]
    }
   ],
   "source": [
    "probas, accuracy, roc_auc, pr_auc = model_evaluation(best_model, X, y)"
   ]
  },
  {
   "cell_type": "code",
   "execution_count": 53,
   "metadata": {
    "scrolled": false
   },
   "outputs": [],
   "source": [
    "best_model.fit(X,y)\n",
    "importances = eli5.explain_weights_df(best_model)"
   ]
  },
  {
   "cell_type": "code",
   "execution_count": 54,
   "metadata": {
    "scrolled": true
   },
   "outputs": [
    {
     "data": {
      "text/plain": [
       "Text(0.5, 1.0, 'Bulls Players Stats Importance')"
      ]
     },
     "execution_count": 54,
     "metadata": {},
     "output_type": "execute_result"
    },
    {
     "data": {
      "image/png": "[encoded data removed]",
      "text/plain": [
       "<Figure size 864x360 with 1 Axes>"
      ]
     },
     "metadata": {},
     "output_type": "display_data"
    }
   ],
   "source": [
    "for i in range(len(importances.feature)):\n",
    "    importances.loc[i,'feature'] = importances.loc[i,'feature'].replace('EFG_PCT', 'EFG%')\n",
    "    importances.loc[i,'feature'] = importances.loc[i,'feature'].replace('DEF', 'Defense')\n",
    "    importances.loc[i,'feature'] = importances.loc[i,'feature'].replace('FTA_RATE', 'Free Throws Rate')\n",
    "    importances.loc[i,'feature'] = importances.loc[i,'feature'].replace('TM_TOV_PCT', 'Turnovers Rate')\n",
    "    importances.loc[i,'feature'] = importances.loc[i,'feature'].replace('REB', 'Rebounds Rate')\n",
    "    importances.loc[i,'feature'] = importances.loc[i,'feature'].replace('_', ' ')\n",
    "\n",
    "importances = importances[importances.weight>0.025]\n",
    "\n",
    "sns.set(rc={'axes.facecolor':'white', 'figure.facecolor':'white', 'text.color': 'black', 'ytick.color': 'black', \\\n",
    "           'xtick.color': 'black'})\n",
    "fig, ax = plt.subplots(figsize=(12,5))\n",
    "ax = sns.barplot(y=importances.feature, x=importances.weight/importances.weight.sum()*100, )\n",
    "ax.set_xticks(np.arange(0, (importances.weight.max()/importances.weight.sum()*100)+5, 5))\n",
    "ax.set_xlabel('')\n",
    "ax.set_ylabel('')\n",
    "ax.set_yticklabels(labels=ax.get_yticklabels(), fontsize=14)\n",
    "ax.grid(color='black', linestyle='-', linewidth=0.15)\n",
    "ax.spines['right'].set_linewidth(0.2)\n",
    "ax.spines['right'].set_color('black')\n",
    "ax.spines['top'].set_linewidth(0.2)\n",
    "ax.spines['top'].set_color('black')\n",
    "plt.title('Bulls Players Stats Importance', fontsize=24, pad='16.0')"
   ]
  },
  {
   "cell_type": "markdown",
   "metadata": {},
   "source": [
    "Looks like Michael Jordan's Shooting is the most important predictor for Bulls' games, followed by Michael Jordan's defensive performance. From this it looks clear that MJ was the most important player of the team, but let's estimate the importance of each player anyway by summing the weights of each of the 5 factors for each player individually."
   ]
  },
  {
   "cell_type": "code",
   "execution_count": 58,
   "metadata": {
    "scrolled": false
   },
   "outputs": [],
   "source": [
    "importances_new = importances.copy()\n",
    "new_list_players=[]\n",
    "for player in list_players:\n",
    "    new_player = player.replace(\" \", \"_\")\n",
    "    new_list_players.append(new_player)\n",
    "\n",
    "importances_new['player']=0\n",
    "for i in range(len(importances_new)):\n",
    "    for name in list_players:\n",
    "        if name in importances_new.loc[i,'feature']:\n",
    "            importances_new.loc[i,'player']=name\n",
    "for i in range(len(importances_new)):\n",
    "    importances_new.loc[i,'player'] = importances_new.loc[i,'player'].replace(\"_\", \" \")\n",
    "player_importances = importances_new.groupby('player', \n",
    "                                        as_index=False)['weight'].sum().rename(\n",
    "                                        columns={'weight':'EstimatedImportance'}).sort_values('EstimatedImportance', \n",
    "                                                                                ascending=False).reset_index(drop=True)"
   ]
  },
  {
   "cell_type": "code",
   "execution_count": 59,
   "metadata": {
    "scrolled": false
   },
   "outputs": [
    {
     "data": {
      "text/html": [
       "<div>\n",
       "<style scoped>\n",
       "    .dataframe tbody tr th:only-of-type {\n",
       "        vertical-align: middle;\n",
       "    }\n",
       "\n",
       "    .dataframe tbody tr th {\n",
       "        vertical-align: top;\n",
       "    }\n",
       "\n",
       "    .dataframe thead th {\n",
       "        text-align: right;\n",
       "    }\n",
       "</style>\n",
       "<table border=\"1\" class=\"dataframe\">\n",
       "  <thead>\n",
       "    <tr style=\"text-align: right;\">\n",
       "      <th></th>\n",
       "      <th>player</th>\n",
       "      <th>EstimatedImportance</th>\n",
       "    </tr>\n",
       "  </thead>\n",
       "  <tbody>\n",
       "    <tr>\n",
       "      <th>0</th>\n",
       "      <td>Michael Jordan</td>\n",
       "      <td>0.474057</td>\n",
       "    </tr>\n",
       "    <tr>\n",
       "      <th>1</th>\n",
       "      <td>Dennis Rodman</td>\n",
       "      <td>0.158619</td>\n",
       "    </tr>\n",
       "    <tr>\n",
       "      <th>2</th>\n",
       "      <td>Randy Brown</td>\n",
       "      <td>0.084525</td>\n",
       "    </tr>\n",
       "    <tr>\n",
       "      <th>3</th>\n",
       "      <td>Ron Harper</td>\n",
       "      <td>0.046178</td>\n",
       "    </tr>\n",
       "    <tr>\n",
       "      <th>4</th>\n",
       "      <td>Toni Kukoc</td>\n",
       "      <td>0.040940</td>\n",
       "    </tr>\n",
       "  </tbody>\n",
       "</table>\n",
       "</div>"
      ],
      "text/plain": [
       "           player  EstimatedImportance\n",
       "0  Michael Jordan             0.474057\n",
       "1   Dennis Rodman             0.158619\n",
       "2     Randy Brown             0.084525\n",
       "3      Ron Harper             0.046178\n",
       "4      Toni Kukoc             0.040940"
      ]
     },
     "execution_count": 59,
     "metadata": {},
     "output_type": "execute_result"
    }
   ],
   "source": [
    "player_importances.head()"
   ]
  },
  {
   "cell_type": "code",
   "execution_count": 60,
   "metadata": {
    "scrolled": false
   },
   "outputs": [
    {
     "data": {
      "text/plain": [
       "Text(0.5, 1.0, 'Most Important Players')"
      ]
     },
     "execution_count": 60,
     "metadata": {},
     "output_type": "execute_result"
    },
    {
     "data": {
      "image/png": "[encoded data removed]",
      "text/plain": [
       "<Figure size 720x360 with 1 Axes>"
      ]
     },
     "metadata": {},
     "output_type": "display_data"
    }
   ],
   "source": [
    "sns.set(rc={'axes.facecolor':'white', 'figure.facecolor':'white', 'text.color': 'black', 'ytick.color': 'black', \\\n",
    "               'xtick.color': 'black'})\n",
    "fig, ax = plt.subplots(figsize=(10,5))\n",
    "ax = sns.barplot(y=player_importances.player, x=player_importances.EstimatedImportance/player_importances.EstimatedImportance.sum()*100, )\n",
    "ax.set_xticks(np.arange(0, (player_importances.EstimatedImportance.max()/player_importances.EstimatedImportance.sum()*100)+15, 5))\n",
    "ax.set_xlabel('')\n",
    "ax.set_ylabel('')\n",
    "ax.set_yticklabels(labels=ax.get_yticklabels(), fontsize=14)\n",
    "ax.grid(color='black', linestyle='-', linewidth=0.1)\n",
    "ax.spines['right'].set_linewidth(0.1)\n",
    "ax.spines['right'].set_color('black')\n",
    "ax.spines['top'].set_linewidth(0.1)\n",
    "ax.spines['top'].set_color('black')\n",
    "show_values_on_bars(ax)\n",
    "plt.title('Most Important Players', fontsize=28, pad='18.0')"
   ]
  },
  {
   "cell_type": "markdown",
   "metadata": {},
   "source": [
    "Of course Jordan is by far the most important player. One thing should be clarified here though, and it is that we are talking here about the importance of each player's performance for predicting the game's result. This is not equivalent to the players' importance to the team!\n",
    "\n",
    "I will take a modern player as example to illustrate this point: James Harden. I would guess that if we do this exercise for the current Rockets' team, then the number of points scored by James Harden will appear as not important for predicting the score. Why? Because he always scores +30 pts, even if his team looses. So, in other words, knowing that James Harden scored, let's say, 32 points in a game, is not important for predicting if the Rockets won or lost, because he always scores that number no matter what. But this does not mean that his points are not important, of course. They are just not important for our predictive model, simply because that statistic is not very informative.\n",
    "\n",
    "Going back to the Bulls' example, it is surprising to see Scottie Pippen so unimportant, but let's remember that this does not mean necesarily that his role was not important, but only that his performance is not important for predicting. Additionally, he barely played this season because of contract issues."
   ]
  },
  {
   "cell_type": "markdown",
   "metadata": {},
   "source": [
    "## Shooting Analysis"
   ]
  },
  {
   "cell_type": "markdown",
   "metadata": {},
   "source": [
    "Now we'll change the focus to analyze the shooting aspect of the game. What I would like to find out is who the best shooters of each team are. For this, I will first create a Shot Prediction model, in which I take all of the shots in a shot-log, train and test the model. If this succeeds, we will have a model that can predict (to a decent accuracy I hope) whether any shot will go in.\n",
    "\n",
    "Once we have this, we can, for each player, determine the difference between his actual Field Goal Percentage, and the Field Goal Percentage that an average NBA player would have considering the difficulty of the shots the player has taken. I will call this difference \"Shooting Ability\" and it will illustrate the players' shooting qualities.\n",
    "\n",
    "As usual, I will pick a team as example to do this analysis. I will use Utah Jazz of 96-97."
   ]
  },
  {
   "cell_type": "code",
   "execution_count": 61,
   "metadata": {
    "scrolled": true
   },
   "outputs": [],
   "source": [
    "shots_log = pd.read_csv('shots_log.csv')"
   ]
  },
  {
   "cell_type": "code",
   "execution_count": 62,
   "metadata": {
    "scrolled": true
   },
   "outputs": [
    {
     "data": {
      "text/plain": [
       "array(['1996-97 Season', '1997-98 Season', '1998-99 Season',\n",
       "       '1999-00 Season'], dtype=object)"
      ]
     },
     "execution_count": 62,
     "metadata": {},
     "output_type": "execute_result"
    }
   ],
   "source": [
    "shots_log.SEASON.unique()"
   ]
  },
  {
   "cell_type": "code",
   "execution_count": 63,
   "metadata": {
    "scrolled": true
   },
   "outputs": [],
   "source": [
    "shots_log.SHOT_DISTANCE = [x if x<40 else 40 for x in shots_log.SHOT_DISTANCE]"
   ]
  },
  {
   "cell_type": "code",
   "execution_count": 64,
   "metadata": {
    "scrolled": false
   },
   "outputs": [
    {
     "data": {
      "text/plain": [
       "Text(0.5, 1.0, 'Shot Conversion vs. Distance to Basket')"
      ]
     },
     "execution_count": 64,
     "metadata": {},
     "output_type": "execute_result"
    },
    {
     "data": {
      "image/png": "[encoded data removed]",
      "text/plain": [
       "<Figure size 864x432 with 1 Axes>"
      ]
     },
     "metadata": {},
     "output_type": "display_data"
    }
   ],
   "source": [
    "sns.set_style(\"whitegrid\")\n",
    "fig, ax = plt.subplots(figsize=(12,6))\n",
    "ax = sns.lineplot(data=shots_log, x='SHOT_DISTANCE', y='SHOT_MADE_FLAG', ci=False)\n",
    "ax.grid(color='black', linestyle='-', linewidth=0.1, axis='x')\n",
    "ax.set_xlabel('Distance to basket (feet)', fontsize=12)\n",
    "ax.set_ylabel('Conversion Rate %', fontsize=12)\n",
    "ax.set_xticks(np.arange(0,40,1))\n",
    "ax.set_yticks(np.arange(0,0.7,0.05))\n",
    "plt.title('Shot Conversion vs. Distance to Basket', fontsize=16)"
   ]
  },
  {
   "cell_type": "markdown",
   "metadata": {},
   "source": [
    "It is interesting to see that shot probability of going in seems to be the same from aroun 3 feet to 20 feet. Only after 20 feet the chances of going in start going down again. From 0 to 3 feet the decrease is also very clear."
   ]
  },
  {
   "cell_type": "markdown",
   "metadata": {},
   "source": [
    "Let's just train the model now. I will use the 98-99 and 99-00 Season for training and cross-validation to check how well we do."
   ]
  },
  {
   "cell_type": "code",
   "execution_count": 65,
   "metadata": {
    "scrolled": true
   },
   "outputs": [],
   "source": [
    "train = shots_log[(shots_log.SEASON=='1999-00 Season') | (shots_log.SEASON=='1998-99 Season')].reset_index(drop=True)"
   ]
  },
  {
   "cell_type": "code",
   "execution_count": 66,
   "metadata": {
    "scrolled": true
   },
   "outputs": [],
   "source": [
    "X_train = pd.concat([train[['PERIOD', 'SHOT_DISTANCE', 'LOC_X', 'LOC_Y']], \n",
    "                pd.get_dummies(train.ACTION_TYPE),\n",
    "                pd.get_dummies(train.SHOT_TYPE), \n",
    "                pd.get_dummies(train.SHOT_ZONE_BASIC),\n",
    "                pd.get_dummies(train.SHOT_ZONE_AREA)], \n",
    "                axis=1)\n",
    "y_train = train['SHOT_MADE_FLAG']"
   ]
  },
  {
   "cell_type": "code",
   "execution_count": 67,
   "metadata": {
    "scrolled": true
   },
   "outputs": [
    {
     "name": "stdout",
     "output_type": "stream",
     "text": [
      "100%|███████████████████████████████████████████████| 20/20 [03:22<00:00, 10.10s/trial, best loss: -0.6405776635574595]\n"
     ]
    }
   ],
   "source": [
    "results = search_best_lgbm(X_train, y_train, 20, max_lrate=0.15, max_num_leaves=300, max_max_depth=50, max_max_bin=800)"
   ]
  },
  {
   "cell_type": "code",
   "execution_count": 68,
   "metadata": {
    "scrolled": true
   },
   "outputs": [
    {
     "data": {
      "text/html": [
       "<div>\n",
       "<style scoped>\n",
       "    .dataframe tbody tr th:only-of-type {\n",
       "        vertical-align: middle;\n",
       "    }\n",
       "\n",
       "    .dataframe tbody tr th {\n",
       "        vertical-align: top;\n",
       "    }\n",
       "\n",
       "    .dataframe thead th {\n",
       "        text-align: right;\n",
       "    }\n",
       "</style>\n",
       "<table border=\"1\" class=\"dataframe\">\n",
       "  <thead>\n",
       "    <tr style=\"text-align: right;\">\n",
       "      <th></th>\n",
       "      <th>num_leaves</th>\n",
       "      <th>max_depth</th>\n",
       "      <th>learning_rate</th>\n",
       "      <th>max_bin</th>\n",
       "      <th>Accuracy_TRAIN</th>\n",
       "      <th>Accuracy_CVAL</th>\n",
       "      <th>loss</th>\n",
       "      <th>status</th>\n",
       "    </tr>\n",
       "  </thead>\n",
       "  <tbody>\n",
       "    <tr>\n",
       "      <th>0</th>\n",
       "      <td>72</td>\n",
       "      <td>35</td>\n",
       "      <td>0.043905</td>\n",
       "      <td>44</td>\n",
       "      <td>0.642253</td>\n",
       "      <td>0.640578</td>\n",
       "      <td>-0.640578</td>\n",
       "      <td>ok</td>\n",
       "    </tr>\n",
       "    <tr>\n",
       "      <th>1</th>\n",
       "      <td>77</td>\n",
       "      <td>45</td>\n",
       "      <td>0.017370</td>\n",
       "      <td>714</td>\n",
       "      <td>0.642114</td>\n",
       "      <td>0.640459</td>\n",
       "      <td>-0.640459</td>\n",
       "      <td>ok</td>\n",
       "    </tr>\n",
       "    <tr>\n",
       "      <th>2</th>\n",
       "      <td>229</td>\n",
       "      <td>9</td>\n",
       "      <td>0.057637</td>\n",
       "      <td>566</td>\n",
       "      <td>0.643670</td>\n",
       "      <td>0.640402</td>\n",
       "      <td>-0.640402</td>\n",
       "      <td>ok</td>\n",
       "    </tr>\n",
       "  </tbody>\n",
       "</table>\n",
       "</div>"
      ],
      "text/plain": [
       "   num_leaves  max_depth  learning_rate  max_bin  Accuracy_TRAIN  \\\n",
       "0          72         35       0.043905       44        0.642253   \n",
       "1          77         45       0.017370      714        0.642114   \n",
       "2         229          9       0.057637      566        0.643670   \n",
       "\n",
       "   Accuracy_CVAL      loss status  \n",
       "0       0.640578 -0.640578     ok  \n",
       "1       0.640459 -0.640459     ok  \n",
       "2       0.640402 -0.640402     ok  "
      ]
     },
     "execution_count": 68,
     "metadata": {},
     "output_type": "execute_result"
    }
   ],
   "source": [
    "results.head(3)"
   ]
  },
  {
   "cell_type": "markdown",
   "metadata": {},
   "source": [
    "We can predict with 64% accuracy whether any given shot will go in. At first this does not seem very good, but in reality I think it's pretty hard to predict this. Of course we would do better if we add information about who is the player that is shooting, but we're not interested in that because what we want to model is the probability that an average NBA player will make the shot, not the specific player. From what I find online, I guess that the model is reasonably good. The best I could find is this one in which they obtain a 65% accuracy, so we're not that far away. In that model they included some relevant things we don't have, such as the distance to the closest defender, and that defender's height.\n",
    "\n",
    "We also see no signs whatsoever of overfitting, as we do equally good on training and on cv results.\n",
    "\n",
    "In summary, it appears that our shot prediction model is decent and good enough to use it for what we want."
   ]
  },
  {
   "cell_type": "code",
   "execution_count": 69,
   "metadata": {
    "scrolled": true
   },
   "outputs": [],
   "source": [
    "best = dict(results.iloc[0,:4])\n",
    "best_model = lgbm.LGBMClassifier(**best)"
   ]
  },
  {
   "cell_type": "code",
   "execution_count": 70,
   "metadata": {
    "scrolled": true
   },
   "outputs": [
    {
     "data": {
      "text/plain": [
       "LGBMClassifier(boosting_type='gbdt', class_weight=None, colsample_bytree=1.0,\n",
       "               importance_type='split', learning_rate=0.04390466077022362,\n",
       "               max_bin=44, max_depth=35, min_child_samples=20,\n",
       "               min_child_weight=0.001, min_split_gain=0.0, n_estimators=100,\n",
       "               n_jobs=-1, num_leaves=72, objective=None, random_state=None,\n",
       "               reg_alpha=0.0, reg_lambda=0.0, silent=True, subsample=1.0,\n",
       "               subsample_for_bin=200000, subsample_freq=0)"
      ]
     },
     "execution_count": 70,
     "metadata": {},
     "output_type": "execute_result"
    }
   ],
   "source": [
    "X = pd.concat([shots_log[['PERIOD', 'SHOT_DISTANCE', 'LOC_X', 'LOC_Y']], \n",
    "                pd.get_dummies(shots_log.ACTION_TYPE),\n",
    "                pd.get_dummies(shots_log.SHOT_TYPE), \n",
    "                pd.get_dummies(shots_log.SHOT_ZONE_BASIC),\n",
    "                pd.get_dummies(shots_log.SHOT_ZONE_AREA)], \n",
    "                axis=1)\n",
    "y = shots_log.SHOT_MADE_FLAG\n",
    "best_model.fit(X,y)"
   ]
  },
  {
   "cell_type": "code",
   "execution_count": 71,
   "metadata": {
    "scrolled": true
   },
   "outputs": [],
   "source": [
    "shots_log['shot_probability'] = best_model.predict_proba(X)[:,1]"
   ]
  },
  {
   "cell_type": "code",
   "execution_count": 72,
   "metadata": {
    "scrolled": true
   },
   "outputs": [],
   "source": [
    "by_player = shots_log.groupby(['PLAYER_ID', 'PLAYER_NAME'], as_index=False)['shot_probability'].mean()"
   ]
  },
  {
   "cell_type": "code",
   "execution_count": 73,
   "metadata": {
    "scrolled": true
   },
   "outputs": [
    {
     "data": {
      "text/plain": [
       "0.44794009673402724"
      ]
     },
     "execution_count": 73,
     "metadata": {},
     "output_type": "execute_result"
    }
   ],
   "source": [
    "by_player.shot_probability.mean()"
   ]
  },
  {
   "cell_type": "code",
   "execution_count": 74,
   "metadata": {
    "scrolled": true
   },
   "outputs": [
    {
     "data": {
      "text/plain": [
       "729649"
      ]
     },
     "execution_count": 74,
     "metadata": {},
     "output_type": "execute_result"
    }
   ],
   "source": [
    "len(shots_log)"
   ]
  },
  {
   "cell_type": "code",
   "execution_count": 75,
   "metadata": {
    "scrolled": true
   },
   "outputs": [],
   "source": [
    "teams_short = teams_stats.drop_duplicates(['TEAM_NAME', 'TEAM_ABBREVIATION'])[['TEAM_NAME', 'TEAM_ABBREVIATION']].reset_index(drop=True)"
   ]
  },
  {
   "cell_type": "code",
   "execution_count": 76,
   "metadata": {
    "scrolled": true
   },
   "outputs": [],
   "source": [
    "shots_log = shots_log.merge(teams_short, on='TEAM_NAME', how='left')"
   ]
  },
  {
   "cell_type": "code",
   "execution_count": 77,
   "metadata": {
    "scrolled": true
   },
   "outputs": [],
   "source": [
    "jazz96_shots = shots_log[(shots_log.TEAM_ABBREVIATION=='UTA') & (shots_log.SEASON=='1996-97 Season')].reset_index(drop=True)"
   ]
  },
  {
   "cell_type": "code",
   "execution_count": 78,
   "metadata": {
    "scrolled": true
   },
   "outputs": [],
   "source": [
    "shots_proba = jazz96_shots.groupby(['PLAYER_ID', 'PLAYER_NAME'], as_index=False)['shot_probability'].mean()"
   ]
  },
  {
   "cell_type": "code",
   "execution_count": 79,
   "metadata": {
    "scrolled": true
   },
   "outputs": [],
   "source": [
    "jazz96_stats = players_stats[(players_stats.TEAM_ABBREVIATION=='UTA') & (players_stats.SEASON=='1996-97 Season')].reset_index(drop=True)"
   ]
  },
  {
   "cell_type": "code",
   "execution_count": 80,
   "metadata": {
    "scrolled": true
   },
   "outputs": [],
   "source": [
    "group_stats = jazz96_stats.groupby(['PLAYER_ID', 'PLAYER_NAME'], as_index=False)[['FGM', 'FGA']].sum()"
   ]
  },
  {
   "cell_type": "code",
   "execution_count": 81,
   "metadata": {
    "scrolled": true
   },
   "outputs": [],
   "source": [
    "point_per_game = jazz96_stats.groupby(['PLAYER_ID', 'PLAYER_NAME'], as_index=False)[['PTS', 'FGA']].mean().rename(columns={'FGA': 'ShotAttempts'})"
   ]
  },
  {
   "cell_type": "code",
   "execution_count": 82,
   "metadata": {
    "scrolled": true
   },
   "outputs": [],
   "source": [
    "group_stats['FG_PCT'] = group_stats['FGM'] / group_stats['FGA']"
   ]
  },
  {
   "cell_type": "code",
   "execution_count": 83,
   "metadata": {
    "scrolled": true
   },
   "outputs": [],
   "source": [
    "stats = group_stats.merge(shots_proba, on=['PLAYER_ID', 'PLAYER_NAME'], how='left').merge(point_per_game, on=['PLAYER_ID', 'PLAYER_NAME'], how='left')"
   ]
  },
  {
   "cell_type": "code",
   "execution_count": 84,
   "metadata": {
    "scrolled": true
   },
   "outputs": [],
   "source": [
    "stats['ShootingAbility'] = stats['FG_PCT'] - stats['shot_probability']"
   ]
  },
  {
   "cell_type": "code",
   "execution_count": 85,
   "metadata": {
    "scrolled": true
   },
   "outputs": [
    {
     "data": {
      "text/html": [
       "<div>\n",
       "<style scoped>\n",
       "    .dataframe tbody tr th:only-of-type {\n",
       "        vertical-align: middle;\n",
       "    }\n",
       "\n",
       "    .dataframe tbody tr th {\n",
       "        vertical-align: top;\n",
       "    }\n",
       "\n",
       "    .dataframe thead th {\n",
       "        text-align: right;\n",
       "    }\n",
       "</style>\n",
       "<table border=\"1\" class=\"dataframe\">\n",
       "  <thead>\n",
       "    <tr style=\"text-align: right;\">\n",
       "      <th></th>\n",
       "      <th>PLAYER_ID</th>\n",
       "      <th>PLAYER_NAME</th>\n",
       "      <th>FGM</th>\n",
       "      <th>FGA</th>\n",
       "      <th>FG_PCT</th>\n",
       "      <th>shot_probability</th>\n",
       "      <th>PTS</th>\n",
       "      <th>ShotAttempts</th>\n",
       "      <th>ShootingAbility</th>\n",
       "    </tr>\n",
       "  </thead>\n",
       "  <tbody>\n",
       "    <tr>\n",
       "      <th>0</th>\n",
       "      <td>156</td>\n",
       "      <td>Antoine Carr</td>\n",
       "      <td>292.0</td>\n",
       "      <td>605.0</td>\n",
       "      <td>0.482645</td>\n",
       "      <td>0.443168</td>\n",
       "      <td>6.872549</td>\n",
       "      <td>5.931373</td>\n",
       "      <td>0.039477</td>\n",
       "    </tr>\n",
       "    <tr>\n",
       "      <th>1</th>\n",
       "      <td>204</td>\n",
       "      <td>Jeff Hornacek</td>\n",
       "      <td>503.0</td>\n",
       "      <td>1063.0</td>\n",
       "      <td>0.473189</td>\n",
       "      <td>0.437295</td>\n",
       "      <td>14.529412</td>\n",
       "      <td>10.421569</td>\n",
       "      <td>0.035894</td>\n",
       "    </tr>\n",
       "  </tbody>\n",
       "</table>\n",
       "</div>"
      ],
      "text/plain": [
       "   PLAYER_ID    PLAYER_NAME    FGM     FGA    FG_PCT  shot_probability  \\\n",
       "0        156   Antoine Carr  292.0   605.0  0.482645          0.443168   \n",
       "1        204  Jeff Hornacek  503.0  1063.0  0.473189          0.437295   \n",
       "\n",
       "         PTS  ShotAttempts  ShootingAbility  \n",
       "0   6.872549      5.931373         0.039477  \n",
       "1  14.529412     10.421569         0.035894  "
      ]
     },
     "execution_count": 85,
     "metadata": {},
     "output_type": "execute_result"
    }
   ],
   "source": [
    "stats.head(2)"
   ]
  },
  {
   "cell_type": "code",
   "execution_count": 86,
   "metadata": {
    "scrolled": false
   },
   "outputs": [
    {
     "data": {
      "image/png": "[encoded data removed]",
      "text/plain": [
       "<Figure size 1080x576 with 1 Axes>"
      ]
     },
     "metadata": {},
     "output_type": "display_data"
    }
   ],
   "source": [
    "sns.set(rc={'axes.facecolor':'white', 'figure.facecolor':'white', 'text.color': 'black', 'ytick.color': 'purple', \\\n",
    "           'xtick.color': 'purple'})\n",
    "graph = stats[stats.PTS>3].reset_index(drop=True)\n",
    "\n",
    "fig, ax = plt.subplots(figsize=(15,8))\n",
    "\n",
    "ax = sns.scatterplot(data=graph, x='ShotAttempts', y='ShootingAbility', size='PTS', hue='FG_PCT', \\\n",
    "                    palette='rainbow', sizes=(80, 500))\n",
    "ax = sns.lineplot(x=[0,graph.PTS.max()+2], y=[0,0], label='Average Player')\n",
    "#ax = sns.lineplot(x=[0.449,0.449], y=[-0.125,0.125], linewidth=5, color='darkblue')\n",
    "ax.spines['left'].set_linewidth(2)\n",
    "ax.spines['left'].set_color('black')\n",
    "ax.spines['bottom'].set_linewidth(2)\n",
    "ax.spines['bottom'].set_color('black')\n",
    "ax.spines['right'].set_linewidth(0.3)\n",
    "ax.spines['right'].set_color('black')\n",
    "ax.spines['top'].set_linewidth(0.3)\n",
    "ax.spines['top'].set_color('black')\n",
    "ax.lines[0].set_linestyle(\"--\")\n",
    "\n",
    "ax.grid(color='black', linestyle='-', linewidth=0.1)\n",
    "\n",
    "ax.set_xticks(np.arange(0,graph.PTS.max()+3,1))\n",
    "ytick_min = myround(graph.ShootingAbility.min()-0.05)\n",
    "ytick_max = myround(graph.ShootingAbility.max()+0.05)\n",
    "ax.set_yticks(np.arange(ytick_min,ytick_max,0.025))\n",
    "\n",
    "ax.get_legend().set_visible(False)\n",
    "ax.set_ylabel('Shot Ability', fontsize=15, color='purple')\n",
    "ax.set_xlabel('Shots Attempted per Game', fontsize=15, color='purple')\n",
    "plt.title('Utah Jazz 1996-97: Shooting Analysis', fontsize=28, color='purple', pad='18.0')\n",
    "ax.text(x=graph.PTS.max()-1, y=0.001, s='Average NBA Player', fontsize=12, verticalalignment='bottom', color='darkblue')\n",
    "for x,y,z in zip(graph.ShotAttempts, graph.ShootingAbility, graph.PLAYER_NAME):\n",
    "    point = (x,y)\n",
    "    ax.text( x=x, y=y-0.0025, s = z, horizontalalignment='center', verticalalignment='top', fontsize=13, color='black')"
   ]
  },
  {
   "cell_type": "markdown",
   "metadata": {},
   "source": [
    "So the interpretation here is:\n",
    "- Players who are on top are better shooters, as estimated by their FG% compared to the FG% an average NBA player would have according to all the shots that the player took.\n",
    "\n",
    "- Players who are on the right shoot more often than those over the left.\n",
    "- The sizes of the nodes are according to the number of points per game the player scores.\n",
    "\n",
    "So, in a fair world, better shooters would shoot more, so we would expect most players to be located either on the upper right (good shooters) or the lower left (bad shooters) sides of the graph. But of course the world is not that fair, and we may find good shooters who don't shoot as often, and bad shooters who take lots of shots. This kind of analysis could be interesting for an NBA team to study their shots decision making.\n",
    "\n",
    "It does not look bad for the Jazz team, as we see that Stockton, Hornancek and Malone are the ones who take the most shots and are also the best shooters. The only exception is Stephen Howard, who we see was the best shooter of the team but did not shoot as often."
   ]
  },
  {
   "cell_type": "markdown",
   "metadata": {},
   "source": [
    "Let's summarize everything that we did so far inside functions, so that later I can just call them for each NBA team and make a complete analysis of all."
   ]
  },
  {
   "cell_type": "code",
   "execution_count": 97,
   "metadata": {
    "scrolled": false
   },
   "outputs": [],
   "source": [
    "def create_players_model(data, team='All', season='All', min_minutes=20, n_trials=50):\n",
    "    df = data.copy()\n",
    "    if season!='All':\n",
    "        df = df[df.SEASON==season]\n",
    "    if team != 'All':\n",
    "        df = df[df.TEAM_ABBREVIATION==team]\n",
    "    group_players = df.groupby('PLAYER_NAME', as_index=False)[['MINS_PLAYED', 'EFG_PCT', 'FTA_RATE', 'TM_TOV_PCT', \\\n",
    "                                                                       'REB', 'DEF']].mean()\n",
    "    list_players = list(group_players.sort_values('MINS_PLAYED', ascending=False).head(8)['PLAYER_NAME'])\n",
    "    df = df[df.PLAYER_NAME.isin(list_players)].reset_index(drop=True)\n",
    "    \n",
    "    column_names=[]\n",
    "    for player in list_players:\n",
    "        for column in ['EFG_PCT', 'FTA_RATE', 'TM_TOV_PCT', 'REB', 'DEF']:\n",
    "            name = player + '_' + column\n",
    "            column_names.append(name)\n",
    "    df_players = pd.DataFrame(index=list(df.GAME_ID.unique()), columns=column_names)\n",
    "    for index, row in df.iterrows():\n",
    "        game = row['GAME_ID']\n",
    "        player = row['PLAYER_NAME']\n",
    "        for column in ['EFG_PCT', 'FTA_RATE', 'TM_TOV_PCT', 'REB', 'DEF']:\n",
    "            name= player + '_' + column\n",
    "            if name in df_players.columns:\n",
    "                df_players.loc[game][name] = df[(df.GAME_ID==game) & (df.PLAYER_NAME==player)][column].iloc[0]\n",
    "    df_players.fillna(0, inplace=True)\n",
    "    df_players = df_players.reset_index().rename(columns={'index': 'GAME_ID'})\n",
    "    games = df.drop_duplicates('GAME_ID').reset_index(drop=True)\n",
    "    df_players = df_players.merge(games[['GAME_ID', 'WL']], on='GAME_ID', how='left')\n",
    "    X = df_players.iloc[:,1:-1]\n",
    "    y = [1 if x=='W' else 0 for x in df_players.WL]\n",
    "    results = search_best_lgbm(X,y,n_trials)\n",
    "    best = dict(results.iloc[0,:4])\n",
    "    best_model = lgbm.LGBMClassifier(**best)\n",
    "    \n",
    "    # Determining Features and Players Importances\n",
    "    best_model.fit(X,y)\n",
    "    feature_importances = eli5.explain_weights_df(best_model)\n",
    "    importances = feature_importances.copy()\n",
    "    new_list_players=[]\n",
    "    for player in list_players:\n",
    "        new_player = player.replace(\" \", \"_\")\n",
    "        new_list_players.append(new_player)\n",
    "    importances['player']=0\n",
    "    for i in range(len(importances)):\n",
    "        for name in new_list_players:\n",
    "            if name in importances.loc[i,'feature']:\n",
    "                importances.loc[i,'player']=name\n",
    "    for i in range(len(importances)):\n",
    "        importances.loc[i,'player'] = importances.loc[i,'player'].replace(\"_\", \" \")\n",
    "    player_importances = importances.groupby('player', as_index=False)['weight'].sum().rename(columns={'weight':'EstimatedImportance'}).sort_values('EstimatedImportance', ascending=False).reset_index(drop=True)\n",
    "    \n",
    "    return X, y, best_model, player_importances, feature_importances\n",
    "\n",
    "def create_team_model(data, team='All', season='All', n_trials=50):\n",
    "    df = data.copy()\n",
    "    if season!='All':\n",
    "        df = df[df.SEASON==season]\n",
    "    if team != 'All':\n",
    "        df = df[df.TEAM_ABBREVIATION==team]\n",
    "    X = df[['EFG_PCT', 'FTA_RATE', 'TM_TOV_PCT', 'OREB_PCT', 'OPP_EFG_PCT', 'OPP_TOV_PCT', 'OPP_OREB_PCT', 'OPP_FTA_RATE']]\n",
    "    y = [1 if x=='W' else 0 for x in df.WL]\n",
    "    results = search_best_lgbm(X,y,n_trials)\n",
    "    best = dict(results.iloc[0,:4])\n",
    "    best_model = lgbm.LGBMClassifier(**best)\n",
    "    return X, y, best_model\n",
    "\n",
    "def summarize_importances_team(importances):\n",
    "    table = pd.DataFrame()\n",
    "    table['Factors'] = ['Shooting', 'Rebounding', 'Turnovers', 'Free Throws', 'TOTAL']\n",
    "    shooting = round((importances[importances.feature=='EFG_PCT'].weight.iloc[0] + importances[importances.feature=='OPP_EFG_PCT'].weight.iloc[0])*100,1)\n",
    "    rebounding = round((importances[importances.feature=='OREB_PCT'].weight.iloc[0] + importances[importances.feature=='OPP_OREB_PCT'].weight.iloc[0])*100,1)\n",
    "    turnovers = round((importances[importances.feature=='TM_TOV_PCT'].weight.iloc[0] + importances[importances.feature=='OPP_TOV_PCT'].weight.iloc[0])*100,1)\n",
    "    free_throws = round((importances[importances.feature=='FTA_RATE'].weight.iloc[0] + importances[importances.feature=='OPP_FTA_RATE'].weight.iloc[0])*100,1)\n",
    "    table['Importance for them'] = [shooting, rebounding, turnovers, free_throws, 100.0]\n",
    "    table['Importance for Avg. NBA Team'] = [50.3, 16.8, 20.7, 12.2, 100.0]\n",
    "    return table\n",
    "\n",
    "def plot_importances_team(importances):\n",
    "    features_dict = dict({'EFG_PCT': 'EFG%', 'DEF_RATING': 'Defense', 'FTA_RATE': 'Free Throws Rate', 'TM_TOV_PCT': 'Turnovers Rate', \\\n",
    "                     'OREB_PCT': 'Off. Rebounds Rate', 'OPP_OREB_PCT': 'Def. Rebounds Rate', 'OPP_EFG_PCT': 'Opp. EFG%', \\\n",
    "                         'OPP_FTA_RATE': 'Opp. Free Throws Rate', 'OPP_TOV_PCT': 'Opp. Turnovers Rate'})\n",
    "    sns.set(rc={'axes.facecolor':'whitesmoke', 'figure.facecolor':'white', 'text.color': 'black', 'ytick.color': 'black', \\\n",
    "               'xtick.color': 'black'})\n",
    "    fig, ax = plt.subplots(figsize=(14,4))\n",
    "    ax = sns.barplot(y=importances.feature.map(features_dict), x=importances.weight/importances.weight.sum()*100, )\n",
    "    ax.set_xticks(np.arange(0, (importances.weight.max()/importances.weight.sum()*100)+10, 5))\n",
    "    ax.set_xlabel('')\n",
    "    ax.set_ylabel('')\n",
    "    ax.set_yticklabels(labels=ax.get_yticklabels(), fontsize=12, color='black')\n",
    "    ax.grid(color='black', linestyle='-', linewidth=0.1)\n",
    "    ax.spines['left'].set_linewidth(1)\n",
    "    ax.spines['left'].set_color('black')\n",
    "    ax.spines['bottom'].set_linewidth(1)\n",
    "    ax.spines['bottom'].set_color('black')\n",
    "    ax.spines['right'].set_linewidth(0.3)\n",
    "    ax.spines['right'].set_color('black')\n",
    "    ax.spines['top'].set_linewidth(0.3)\n",
    "    ax.spines['top'].set_color('black')\n",
    "    plt.title('Four Factors Importance', fontsize=28, color='black', fontfamily='serif', loc=\"center\", pad='16.0')\n",
    "    plt.tight_layout()\n",
    "    plt.show()\n",
    "\n",
    "def plot_importances_players(importances):\n",
    "    sns.set(rc={'axes.facecolor':'whitesmoke', 'figure.facecolor':'white', 'text.color': 'black', 'ytick.color': 'black', \\\n",
    "               'xtick.color': 'black'})\n",
    "    fig, ax = plt.subplots(figsize=(14,4))\n",
    "    ax = sns.barplot(y=importances.player, x=importances.EstimatedImportance/importances.EstimatedImportance.sum()*100, )\n",
    "    ax.set_xticks(np.arange(0, (importances.EstimatedImportance.max()/importances.EstimatedImportance.sum()*100)+10, 5))\n",
    "    ax.set_xlabel('')\n",
    "    ax.set_ylabel('')\n",
    "    ax.set_yticklabels(labels=ax.get_yticklabels(), fontsize=14, color='black')\n",
    "    ax.grid(color='black', linestyle='-', linewidth=0.1)\n",
    "    ax.spines['left'].set_linewidth(1)\n",
    "    ax.spines['left'].set_color('black')\n",
    "    ax.spines['bottom'].set_linewidth(1)\n",
    "    ax.spines['bottom'].set_color('black')\n",
    "    ax.spines['right'].set_linewidth(0.3)\n",
    "    ax.spines['right'].set_color('black')\n",
    "    ax.spines['top'].set_linewidth(0.3)\n",
    "    ax.spines['top'].set_color('black')\n",
    "    show_values_on_bars(ax)\n",
    "    plt.title('Most Important Players', fontsize=28, fontfamily='serif', loc=\"center\", pad='16.0')\n",
    "    plt.tight_layout()\n",
    "    plt.show()\n",
    "    \n",
    "def plot_importances_player_features(importances):\n",
    "    for i in range(len(importances.feature)):\n",
    "        importances.loc[i,'feature'] = importances.loc[i,'feature'].replace('EFG_PCT', 'EFG%')\n",
    "        importances.loc[i,'feature'] = importances.loc[i,'feature'].replace('DEF', 'Defense')\n",
    "        importances.loc[i,'feature'] = importances.loc[i,'feature'].replace('FTA_RATE', 'Free Throws Rate')\n",
    "        importances.loc[i,'feature'] = importances.loc[i,'feature'].replace('TM_TOV_PCT', 'Turnovers Rate')\n",
    "        importances.loc[i,'feature'] = importances.loc[i,'feature'].replace('REB', 'Rebounds Rate')\n",
    "        importances.loc[i,'feature'] = importances.loc[i,'feature'].replace('_', ' ')\n",
    "    \n",
    "    importances = importances.sort_values('weight', ascending=False).iloc[:10,:]\n",
    "    \n",
    "    sns.set(rc={'axes.facecolor':'whitesmoke', 'figure.facecolor':'white', 'text.color': 'black', 'ytick.color': 'black', \\\n",
    "               'xtick.color': 'black'})\n",
    "    fig, ax = plt.subplots(figsize=(14,4))\n",
    "    ax = sns.barplot(y=importances.feature, x=importances.weight/importances.weight.sum()*100, palette='icefire' )\n",
    "    ax.set_xticks(np.arange(0, (importances.weight.max()/importances.weight.sum()*100)+5, 5))\n",
    "    ax.set_xlabel('')\n",
    "    ax.set_ylabel('')\n",
    "    ax.set_yticklabels(labels=ax.get_yticklabels(), fontsize=10)\n",
    "    \n",
    "    ax.grid(color='black', linestyle='-', linewidth=0.15)\n",
    "    ax.spines['left'].set_linewidth(1)\n",
    "    ax.spines['left'].set_color('black')\n",
    "    ax.spines['bottom'].set_linewidth(1)\n",
    "    ax.spines['bottom'].set_color('black')\n",
    "    ax.spines['right'].set_linewidth(0.3)\n",
    "    ax.spines['right'].set_color('black')\n",
    "    ax.spines['top'].set_linewidth(0.3)\n",
    "    ax.spines['top'].set_color('black')\n",
    "    plt.title('Most Important Predictors',fontsize=28, fontfamily='serif', loc=\"center\", pad='16.0')\n",
    "    plt.tight_layout()\n",
    "    plt.show()\n",
    "    \n",
    "def get_shooting_analysis(team, season):\n",
    "    thisteam_shots = shots_log[(shots_log.TEAM_ABBREVIATION==team) & (shots_log.SEASON==season)].reset_index(drop=True)\n",
    "    shots_proba = thisteam_shots.groupby(['PLAYER_ID', 'PLAYER_NAME'], as_index=False)['shot_probability'].mean()\n",
    "    thisteam_stats = players_stats[(players_stats.TEAM_ABBREVIATION==team) & (players_stats.SEASON==season)].reset_index(drop=True)\n",
    "    group_stats = thisteam_stats.groupby(['PLAYER_ID', 'PLAYER_NAME'], as_index=False)[['FGM', 'FGA']].sum()\n",
    "    point_per_game = thisteam_stats.groupby(['PLAYER_ID', 'PLAYER_NAME'], as_index=False)[['PTS', 'FGA']].mean().rename(columns={'FGA': 'ShotAttempts'})\n",
    "    group_stats['FG_PCT'] = group_stats['FGM'] / group_stats['FGA']\n",
    "    stats = group_stats.merge(shots_proba, on=['PLAYER_ID', 'PLAYER_NAME'], how='left').merge(point_per_game, on=['PLAYER_ID', 'PLAYER_NAME'], how='left')\n",
    "    stats['ShootingAbility'] = stats['FG_PCT'] - stats['shot_probability']\n",
    "    \n",
    "    sns.set(rc={'axes.facecolor':'whitesmoke', 'figure.facecolor':'white', 'text.color': 'black', 'ytick.color': 'black', \\\n",
    "           'xtick.color': 'black'})\n",
    "    graph = stats[stats.FGA>200].reset_index(drop=True)\n",
    "\n",
    "    fig, ax = plt.subplots(figsize=(14,8))\n",
    "\n",
    "    ax = sns.scatterplot(data=graph, x='ShotAttempts', y='ShootingAbility', size='PTS', hue='FG_PCT', \\\n",
    "                        palette='rainbow', sizes=(80, 500))\n",
    "    ax = sns.lineplot(x=[0,graph.PTS.max()+2], y=[0,0], label='Average Player')\n",
    "    ax.spines['left'].set_linewidth(2)\n",
    "    ax.spines['left'].set_color('black')\n",
    "    ax.spines['bottom'].set_linewidth(2)\n",
    "    ax.spines['bottom'].set_color('black')\n",
    "    ax.spines['right'].set_linewidth(0.3)\n",
    "    ax.spines['right'].set_color('black')\n",
    "    ax.spines['top'].set_linewidth(0.3)\n",
    "    ax.spines['top'].set_color('black')\n",
    "    ax.lines[0].set_linestyle(\"--\")\n",
    "    ax.grid(color='black', linestyle='-', linewidth=0.1)\n",
    "\n",
    "    ax.set_xticks(np.arange(0,graph.PTS.max()+3,1))\n",
    "    ytick_min = myround(graph.ShootingAbility.min()-0.05)\n",
    "    ytick_max = myround(graph.ShootingAbility.max()+0.05)\n",
    "    ax.set_yticks(np.arange(ytick_min,ytick_max,0.025))\n",
    "\n",
    "    ax.get_legend().set_visible(False)\n",
    "    ax.set_ylabel('Shooting Ability', fontsize=18, color='black')\n",
    "    ax.set_xlabel('Shot Attempts Per Game', fontsize=18, color='black')\n",
    "    plt.title('Shooting Analysis', fontsize=28, color='black', pad='18.0', loc=\"center\", fontfamily='serif')\n",
    "    ax.text(x=graph.PTS.max()-1, y=0.001, s='Average NBA Player', fontsize=12, verticalalignment='bottom', color='darkblue')\n",
    "    for x,y,z in zip(graph.ShotAttempts, graph.ShootingAbility, graph.PLAYER_NAME):\n",
    "        point = (x,y)\n",
    "        ax.text( x=x, y=y-0.0025, s = z, horizontalalignment='center', verticalalignment='top', fontsize=13, color='black')\n",
    "    plt.tight_layout()\n",
    "    plt.show()\n",
    "    \n",
    "from IPython.display import HTML, display\n",
    "def render_team(id, season):\n",
    "    name = id\n",
    "    team_name = teams4factors[teams4factors.TEAM_ABBREVIATION==name].TEAM_CITY.iloc[0]\n",
    "    team_season = teams4factors[(teams4factors.TEAM_ABBREVIATION==name) & (teams4factors.SEASON==season)]\n",
    "    wins = team_season[team_season.WL=='W']['WL'].count()\n",
    "    losses = team_season[team_season.WL=='L']['WL'].count()\n",
    "    X, y, teams_model = create_team_model(teams4factors, team=name, season=season, n_trials=60)\n",
    "    url = nba_teams[nba_teams.abbreviation==name].url.iloc[0]\n",
    "    year = nba_teams[nba_teams.abbreviation==name].year_founded.iloc[0]\n",
    "    probas, accuracy, roc_auc, pr_auc = model_evaluation_noprint(teams_model, X, y)\n",
    "    accuracy = round(accuracy*100,1)\n",
    "    roc_auc = round(roc_auc,2)\n",
    "    display(HTML( f\"\"\"\n",
    "        <div style=\"width: 100%;\">\n",
    "            <div style=\"float: left; width: 50%;\"><img src=\"{url}\" width=\"300\"></div>\n",
    "            <div style=\"float: left; width: 50%; text-align: right; margin-top: 5px; font-family:calibri;font-size:28px;\">Year Founded: <b>{year}</b></div>\n",
    "            <div style=\"float: left; width: 50%; text-align: right; margin-top: 4px; font-family:calibri;font-size:28px;\">Team Record: <b>{wins}W - {losses}L</b></div>\n",
    "            <div style=\"float: left; width: 50%; text-align: right; margin-top: 4px; font-family:calibri;font-size:28px;\">Model Accuracy: <b>{accuracy}%</b></div>\n",
    "            <div style=\"float: left; width: 50%; text-align: right; margin-top: 4px; font-family:calibri;font-size:28px;\">Model ROC-AUC: <b>{roc_auc}</b></div>\n",
    "\n",
    "          </div>\n",
    "    \"\"\"))\n",
    "    return X, y, teams_model\n",
    "\n",
    "import os\n",
    "import glob\n",
    "def summarize_everything(team, season):\n",
    "    team_ = team\n",
    "    season_ = season\n",
    "    \n",
    "    X, y, teams_model = render_team(team_, season_)\n",
    "    teams_model.fit(X,y)\n",
    "    importances_team = eli5.explain_weights_df(teams_model)\n",
    "    \n",
    "     \n",
    "    table_sum = summarize_importances_team(importances_team)\n",
    "    print(table_sum)\n",
    "\n",
    "    X_players, y_players, players_model, player_importances, feature_importances = create_players_model(players4factors, team=team, season=season, min_minutes=20, n_trials=60)\n",
    "    \n",
    "    \n",
    "    plot_importances_team(importances_team)\n",
    "\n",
    "    plot_importances_players(player_importances)\n",
    "\n",
    "    plot_importances_player_features(feature_importances)\n",
    "    get_shooting_analysis(team_, season_)"
   ]
  },
  {
   "cell_type": "markdown",
   "metadata": {},
   "source": [
    "# All NBA Teams 1997-98 Analysis"
   ]
  },
  {
   "cell_type": "markdown",
   "metadata": {},
   "source": [
    "## Top-10 Shooters of the Season"
   ]
  },
  {
   "cell_type": "code",
   "execution_count": 98,
   "metadata": {},
   "outputs": [],
   "source": [
    "shots97 = shots_log[shots_log.SEASON=='1997-98 Season'].reset_index(drop=True)\n",
    "shots_proba = shots97.groupby(['PLAYER_ID', 'PLAYER_NAME'], as_index=False)['shot_probability'].mean()"
   ]
  },
  {
   "cell_type": "code",
   "execution_count": 99,
   "metadata": {},
   "outputs": [],
   "source": [
    "player_stats97 =  players_stats[players_stats.SEASON=='1997-98 Season'].reset_index(drop=True)\n",
    "group_stats = player_stats97.groupby(['PLAYER_ID', 'PLAYER_NAME', 'TEAM_ABBREVIATION'], as_index=False)[['FGM', 'FGA']].sum()\n",
    "group_stats['FG_PCT'] = group_stats['FGM'] / group_stats['FGA']"
   ]
  },
  {
   "cell_type": "code",
   "execution_count": 100,
   "metadata": {},
   "outputs": [],
   "source": [
    "point_per_game = player_stats97.groupby(['PLAYER_ID', 'PLAYER_NAME'], as_index=False)['PTS'].mean()"
   ]
  },
  {
   "cell_type": "code",
   "execution_count": 101,
   "metadata": {},
   "outputs": [],
   "source": [
    "stats = group_stats.merge(shots_proba, on=['PLAYER_ID', 'PLAYER_NAME'], how='left').merge(point_per_game, on=['PLAYER_ID', 'PLAYER_NAME'], how='left')\n",
    "stats['ShootingAbility'] = stats['FG_PCT'] - stats['shot_probability']"
   ]
  },
  {
   "cell_type": "code",
   "execution_count": 102,
   "metadata": {},
   "outputs": [
    {
     "data": {
      "text/html": [
       "<div>\n",
       "<style scoped>\n",
       "    .dataframe tbody tr th:only-of-type {\n",
       "        vertical-align: middle;\n",
       "    }\n",
       "\n",
       "    .dataframe tbody tr th {\n",
       "        vertical-align: top;\n",
       "    }\n",
       "\n",
       "    .dataframe thead th {\n",
       "        text-align: right;\n",
       "    }\n",
       "</style>\n",
       "<table border=\"1\" class=\"dataframe\">\n",
       "  <thead>\n",
       "    <tr style=\"text-align: right;\">\n",
       "      <th></th>\n",
       "      <th>RANK</th>\n",
       "      <th>PLAYER_NAME</th>\n",
       "      <th>TEAM</th>\n",
       "      <th>Pts Per Game</th>\n",
       "      <th>ShootingAbility</th>\n",
       "    </tr>\n",
       "  </thead>\n",
       "  <tbody>\n",
       "    <tr>\n",
       "      <th>0</th>\n",
       "      <td>1</td>\n",
       "      <td>Dale Ellis</td>\n",
       "      <td>SEA</td>\n",
       "      <td>11.101124</td>\n",
       "      <td>0.090038</td>\n",
       "    </tr>\n",
       "    <tr>\n",
       "      <th>1</th>\n",
       "      <td>2</td>\n",
       "      <td>Danny Manning</td>\n",
       "      <td>PHX</td>\n",
       "      <td>13.528571</td>\n",
       "      <td>0.086462</td>\n",
       "    </tr>\n",
       "    <tr>\n",
       "      <th>2</th>\n",
       "      <td>3</td>\n",
       "      <td>Patrick Ewing</td>\n",
       "      <td>NYK</td>\n",
       "      <td>19.866667</td>\n",
       "      <td>0.081799</td>\n",
       "    </tr>\n",
       "    <tr>\n",
       "      <th>3</th>\n",
       "      <td>4</td>\n",
       "      <td>Tim Duncan</td>\n",
       "      <td>SAS</td>\n",
       "      <td>21.065934</td>\n",
       "      <td>0.081070</td>\n",
       "    </tr>\n",
       "    <tr>\n",
       "      <th>4</th>\n",
       "      <td>5</td>\n",
       "      <td>Vin Baker</td>\n",
       "      <td>SEA</td>\n",
       "      <td>18.826087</td>\n",
       "      <td>0.078003</td>\n",
       "    </tr>\n",
       "    <tr>\n",
       "      <th>5</th>\n",
       "      <td>6</td>\n",
       "      <td>Bryant Reeves</td>\n",
       "      <td>VAN</td>\n",
       "      <td>16.310811</td>\n",
       "      <td>0.071395</td>\n",
       "    </tr>\n",
       "    <tr>\n",
       "      <th>6</th>\n",
       "      <td>7</td>\n",
       "      <td>Steve Kerr</td>\n",
       "      <td>CHI</td>\n",
       "      <td>6.608696</td>\n",
       "      <td>0.071159</td>\n",
       "    </tr>\n",
       "    <tr>\n",
       "      <th>7</th>\n",
       "      <td>8</td>\n",
       "      <td>Karl Malone</td>\n",
       "      <td>UTA</td>\n",
       "      <td>26.891089</td>\n",
       "      <td>0.069542</td>\n",
       "    </tr>\n",
       "    <tr>\n",
       "      <th>8</th>\n",
       "      <td>9</td>\n",
       "      <td>Jud Buechler</td>\n",
       "      <td>CHI</td>\n",
       "      <td>2.322222</td>\n",
       "      <td>0.067329</td>\n",
       "    </tr>\n",
       "    <tr>\n",
       "      <th>9</th>\n",
       "      <td>10</td>\n",
       "      <td>B.J. Armstrong</td>\n",
       "      <td>CHH</td>\n",
       "      <td>3.973333</td>\n",
       "      <td>0.065540</td>\n",
       "    </tr>\n",
       "  </tbody>\n",
       "</table>\n",
       "</div>"
      ],
      "text/plain": [
       "   RANK     PLAYER_NAME TEAM  Pts Per Game  ShootingAbility\n",
       "0     1      Dale Ellis  SEA     11.101124         0.090038\n",
       "1     2   Danny Manning  PHX     13.528571         0.086462\n",
       "2     3   Patrick Ewing  NYK     19.866667         0.081799\n",
       "3     4      Tim Duncan  SAS     21.065934         0.081070\n",
       "4     5       Vin Baker  SEA     18.826087         0.078003\n",
       "5     6   Bryant Reeves  VAN     16.310811         0.071395\n",
       "6     7      Steve Kerr  CHI      6.608696         0.071159\n",
       "7     8     Karl Malone  UTA     26.891089         0.069542\n",
       "8     9    Jud Buechler  CHI      2.322222         0.067329\n",
       "9    10  B.J. Armstrong  CHH      3.973333         0.065540"
      ]
     },
     "execution_count": 102,
     "metadata": {},
     "output_type": "execute_result"
    }
   ],
   "source": [
    "show = stats[stats.FGA>100].sort_values('ShootingAbility', ascending=False).reset_index(drop=True).reset_index()\n",
    "show['index'] = show['index']+1\n",
    "show.rename(columns={'index': 'RANK', 'PTS': 'Pts Per Game', 'TEAM_ABBREVIATION': 'TEAM'}, inplace=True)\n",
    "show = show[['RANK', 'PLAYER_NAME', 'TEAM', 'Pts Per Game', 'ShootingAbility']]\n",
    "show.head(10)"
   ]
  },
  {
   "cell_type": "markdown",
   "metadata": {},
   "source": [
    "## Top-10 Defenders of the Season"
   ]
  },
  {
   "cell_type": "code",
   "execution_count": 103,
   "metadata": {},
   "outputs": [],
   "source": [
    "defenders = players4factors[players4factors.SEASON=='1997-98 Season'].groupby(['PLAYER_ID', \n",
    "                                     'PLAYER_NAME', \n",
    "                                     'TEAM_ABBREVIATION'], as_index=False)[['DEF', 'MINS_PLAYED']].mean()"
   ]
  },
  {
   "cell_type": "code",
   "execution_count": 104,
   "metadata": {},
   "outputs": [
    {
     "data": {
      "text/html": [
       "<div>\n",
       "<style scoped>\n",
       "    .dataframe tbody tr th:only-of-type {\n",
       "        vertical-align: middle;\n",
       "    }\n",
       "\n",
       "    .dataframe tbody tr th {\n",
       "        vertical-align: top;\n",
       "    }\n",
       "\n",
       "    .dataframe thead th {\n",
       "        text-align: right;\n",
       "    }\n",
       "</style>\n",
       "<table border=\"1\" class=\"dataframe\">\n",
       "  <thead>\n",
       "    <tr style=\"text-align: right;\">\n",
       "      <th></th>\n",
       "      <th>RANK</th>\n",
       "      <th>PLAYER_NAME</th>\n",
       "      <th>TEAM</th>\n",
       "      <th>DEFENSIVE_RATING</th>\n",
       "    </tr>\n",
       "  </thead>\n",
       "  <tbody>\n",
       "    <tr>\n",
       "      <th>0</th>\n",
       "      <td>1</td>\n",
       "      <td>David Robinson</td>\n",
       "      <td>SAS</td>\n",
       "      <td>0.636615</td>\n",
       "    </tr>\n",
       "    <tr>\n",
       "      <th>1</th>\n",
       "      <td>2</td>\n",
       "      <td>Tim Duncan</td>\n",
       "      <td>SAS</td>\n",
       "      <td>0.629166</td>\n",
       "    </tr>\n",
       "    <tr>\n",
       "      <th>2</th>\n",
       "      <td>3</td>\n",
       "      <td>Sean Elliott</td>\n",
       "      <td>SAS</td>\n",
       "      <td>0.627821</td>\n",
       "    </tr>\n",
       "    <tr>\n",
       "      <th>3</th>\n",
       "      <td>4</td>\n",
       "      <td>Jaren Jackson</td>\n",
       "      <td>SAS</td>\n",
       "      <td>0.626473</td>\n",
       "    </tr>\n",
       "    <tr>\n",
       "      <th>4</th>\n",
       "      <td>5</td>\n",
       "      <td>Dikembe Mutombo</td>\n",
       "      <td>ATL</td>\n",
       "      <td>0.624944</td>\n",
       "    </tr>\n",
       "    <tr>\n",
       "      <th>5</th>\n",
       "      <td>6</td>\n",
       "      <td>Avery Johnson</td>\n",
       "      <td>SAS</td>\n",
       "      <td>0.624893</td>\n",
       "    </tr>\n",
       "    <tr>\n",
       "      <th>6</th>\n",
       "      <td>7</td>\n",
       "      <td>Alonzo Mourning</td>\n",
       "      <td>MIA</td>\n",
       "      <td>0.622589</td>\n",
       "    </tr>\n",
       "    <tr>\n",
       "      <th>7</th>\n",
       "      <td>8</td>\n",
       "      <td>Vinny Del Negro</td>\n",
       "      <td>SAS</td>\n",
       "      <td>0.621998</td>\n",
       "    </tr>\n",
       "    <tr>\n",
       "      <th>8</th>\n",
       "      <td>9</td>\n",
       "      <td>Theo Ratliff</td>\n",
       "      <td>DET</td>\n",
       "      <td>0.619154</td>\n",
       "    </tr>\n",
       "    <tr>\n",
       "      <th>9</th>\n",
       "      <td>10</td>\n",
       "      <td>Dan Majerle</td>\n",
       "      <td>MIA</td>\n",
       "      <td>0.616407</td>\n",
       "    </tr>\n",
       "  </tbody>\n",
       "</table>\n",
       "</div>"
      ],
      "text/plain": [
       "   RANK      PLAYER_NAME TEAM  DEFENSIVE_RATING\n",
       "0     1   David Robinson  SAS          0.636615\n",
       "1     2       Tim Duncan  SAS          0.629166\n",
       "2     3     Sean Elliott  SAS          0.627821\n",
       "3     4    Jaren Jackson  SAS          0.626473\n",
       "4     5  Dikembe Mutombo  ATL          0.624944\n",
       "5     6    Avery Johnson  SAS          0.624893\n",
       "6     7  Alonzo Mourning  MIA          0.622589\n",
       "7     8  Vinny Del Negro  SAS          0.621998\n",
       "8     9     Theo Ratliff  DET          0.619154\n",
       "9    10      Dan Majerle  MIA          0.616407"
      ]
     },
     "execution_count": 104,
     "metadata": {},
     "output_type": "execute_result"
    }
   ],
   "source": [
    "defenders_ranking = defenders[defenders.MINS_PLAYED>24].sort_values('DEF', ascending=False).reset_index(drop=True).reset_index()\n",
    "defenders_ranking['index'] = defenders_ranking['index']+1\n",
    "defenders_ranking.rename(columns={'index': 'RANK', 'DEF': 'DEFENSIVE_RATING', 'TEAM_ABBREVIATION': 'TEAM'}, inplace=True)\n",
    "show = defenders_ranking[['RANK', 'PLAYER_NAME', 'TEAM', 'DEFENSIVE_RATING']]\n",
    "show.head(10)"
   ]
  },
  {
   "cell_type": "markdown",
   "metadata": {},
   "source": [
    "## Top-10 Rebounders of the Season"
   ]
  },
  {
   "cell_type": "code",
   "execution_count": 105,
   "metadata": {},
   "outputs": [],
   "source": [
    "rebounders = players4factors[players4factors.SEASON=='1997-98 Season'].groupby(['PLAYER_ID', \n",
    "                                                                                'PLAYER_NAME', \n",
    "                                                                                'TEAM_ABBREVIATION'], \n",
    "                                                                                as_index=False)[['REB', 'MINS_PLAYED']].mean()"
   ]
  },
  {
   "cell_type": "code",
   "execution_count": 106,
   "metadata": {},
   "outputs": [
    {
     "data": {
      "text/html": [
       "<div>\n",
       "<style scoped>\n",
       "    .dataframe tbody tr th:only-of-type {\n",
       "        vertical-align: middle;\n",
       "    }\n",
       "\n",
       "    .dataframe tbody tr th {\n",
       "        vertical-align: top;\n",
       "    }\n",
       "\n",
       "    .dataframe thead th {\n",
       "        text-align: right;\n",
       "    }\n",
       "</style>\n",
       "<table border=\"1\" class=\"dataframe\">\n",
       "  <thead>\n",
       "    <tr style=\"text-align: right;\">\n",
       "      <th></th>\n",
       "      <th>RANK</th>\n",
       "      <th>PLAYER_NAME</th>\n",
       "      <th>TEAM</th>\n",
       "      <th>REBOUNDS_RATE</th>\n",
       "    </tr>\n",
       "  </thead>\n",
       "  <tbody>\n",
       "    <tr>\n",
       "      <th>0</th>\n",
       "      <td>1</td>\n",
       "      <td>Anthony Peeler</td>\n",
       "      <td>VAN</td>\n",
       "      <td>0.089250</td>\n",
       "    </tr>\n",
       "    <tr>\n",
       "      <th>1</th>\n",
       "      <td>2</td>\n",
       "      <td>Dennis Rodman</td>\n",
       "      <td>CHI</td>\n",
       "      <td>0.088327</td>\n",
       "    </tr>\n",
       "    <tr>\n",
       "      <th>2</th>\n",
       "      <td>3</td>\n",
       "      <td>Ron Harper</td>\n",
       "      <td>CHI</td>\n",
       "      <td>0.088049</td>\n",
       "    </tr>\n",
       "    <tr>\n",
       "      <th>3</th>\n",
       "      <td>4</td>\n",
       "      <td>Damon Stoudamire</td>\n",
       "      <td>POR</td>\n",
       "      <td>0.086000</td>\n",
       "    </tr>\n",
       "    <tr>\n",
       "      <th>4</th>\n",
       "      <td>5</td>\n",
       "      <td>Arvydas Sabonis</td>\n",
       "      <td>POR</td>\n",
       "      <td>0.076701</td>\n",
       "    </tr>\n",
       "    <tr>\n",
       "      <th>5</th>\n",
       "      <td>6</td>\n",
       "      <td>Scottie Pippen</td>\n",
       "      <td>CHI</td>\n",
       "      <td>0.076387</td>\n",
       "    </tr>\n",
       "    <tr>\n",
       "      <th>6</th>\n",
       "      <td>7</td>\n",
       "      <td>Brian Grant</td>\n",
       "      <td>POR</td>\n",
       "      <td>0.075921</td>\n",
       "    </tr>\n",
       "    <tr>\n",
       "      <th>7</th>\n",
       "      <td>8</td>\n",
       "      <td>Toni Kukoc</td>\n",
       "      <td>CHI</td>\n",
       "      <td>0.073411</td>\n",
       "    </tr>\n",
       "    <tr>\n",
       "      <th>8</th>\n",
       "      <td>9</td>\n",
       "      <td>Michael Jordan</td>\n",
       "      <td>CHI</td>\n",
       "      <td>0.072233</td>\n",
       "    </tr>\n",
       "    <tr>\n",
       "      <th>9</th>\n",
       "      <td>10</td>\n",
       "      <td>Eric Williams</td>\n",
       "      <td>DEN</td>\n",
       "      <td>0.065000</td>\n",
       "    </tr>\n",
       "  </tbody>\n",
       "</table>\n",
       "</div>"
      ],
      "text/plain": [
       "   RANK       PLAYER_NAME TEAM  REBOUNDS_RATE\n",
       "0     1    Anthony Peeler  VAN       0.089250\n",
       "1     2     Dennis Rodman  CHI       0.088327\n",
       "2     3        Ron Harper  CHI       0.088049\n",
       "3     4  Damon Stoudamire  POR       0.086000\n",
       "4     5   Arvydas Sabonis  POR       0.076701\n",
       "5     6    Scottie Pippen  CHI       0.076387\n",
       "6     7       Brian Grant  POR       0.075921\n",
       "7     8        Toni Kukoc  CHI       0.073411\n",
       "8     9    Michael Jordan  CHI       0.072233\n",
       "9    10     Eric Williams  DEN       0.065000"
      ]
     },
     "execution_count": 106,
     "metadata": {},
     "output_type": "execute_result"
    }
   ],
   "source": [
    "rebounders_ranking = rebounders[rebounders.MINS_PLAYED>24].sort_values('REB', ascending=False).reset_index(drop=True).reset_index()\n",
    "rebounders_ranking['index'] = rebounders_ranking['index']+1\n",
    "rebounders_ranking.rename(columns={'index': 'RANK', 'REB': 'REBOUNDS_RATE', 'TEAM_ABBREVIATION': 'TEAM'}, inplace=True)\n",
    "show = rebounders_ranking[['RANK', 'PLAYER_NAME', 'TEAM', 'REBOUNDS_RATE']]\n",
    "show.head(10)"
   ]
  },
  {
   "cell_type": "markdown",
   "metadata": {},
   "source": [
    "## Team-by-Team Analysis"
   ]
  },
  {
   "cell_type": "code",
   "execution_count": 109,
   "metadata": {
    "scrolled": false
   },
   "outputs": [
    {
     "name": "stdout",
     "output_type": "stream",
     "text": [
      "100%|███████████████████████████████████████████████| 60/60 [00:07<00:00,  8.57trial/s, best loss: -0.8124183006535948]\n"
     ]
    },
    {
     "data": {
      "text/html": [
       "\n",
       "        <div style=\"width: 100%;\">\n",
       "            <div style=\"float: left; width: 50%;\"><img src=\"https://content.sportslogos.net/logos/6/220/full/kqhjtzl2ik3gnxsnwsn8yf002.gif\" width=\"300\"></div>\n",
       "            <div style=\"float: left; width: 50%; text-align: right; margin-top: 5px; font-family:calibri;font-size:28px;\">Year Founded: <b>1949</b></div>\n",
       "            <div style=\"float: left; width: 50%; text-align: right; margin-top: 4px; font-family:calibri;font-size:28px;\">Team Record: <b>51W - 35L</b></div>\n",
       "            <div style=\"float: left; width: 50%; text-align: right; margin-top: 4px; font-family:calibri;font-size:28px;\">Model Accuracy: <b>81.2%</b></div>\n",
       "            <div style=\"float: left; width: 50%; text-align: right; margin-top: 4px; font-family:calibri;font-size:28px;\">Model ROC-AUC: <b>0.84</b></div>\n",
       "\n",
       "          </div>\n",
       "    "
      ],
      "text/plain": [
       "<IPython.core.display.HTML object>"
      ]
     },
     "metadata": {},
     "output_type": "display_data"
    },
    {
     "name": "stdout",
     "output_type": "stream",
     "text": [
      "       Factors  Importance for them  Importance for Avg. NBA Team\n",
      "0     Shooting                 61.0                          50.3\n",
      "1   Rebounding                 20.5                          16.8\n",
      "2    Turnovers                  8.3                          20.7\n",
      "3  Free Throws                 10.2                          12.2\n",
      "4        TOTAL                100.0                         100.0\n",
      "100%|███████████████████████████████████████████████| 60/60 [00:07<00:00,  7.84trial/s, best loss: -0.8248366013071895]\n"
     ]
    },
    {
     "data": {
      "image/png": "[encoded data removed]",
      "text/plain": [
       "<Figure size 1008x288 with 1 Axes>"
      ]
     },
     "metadata": {},
     "output_type": "display_data"
    },
    {
     "data": {
      "image/png": "[encoded data removed]",
      "text/plain": [
       "<Figure size 1008x288 with 1 Axes>"
      ]
     },
     "metadata": {},
     "output_type": "display_data"
    },
    {
     "data": {
      "image/png": "[encoded data removed]",
      "text/plain": [
       "<Figure size 1008x288 with 1 Axes>"
      ]
     },
     "metadata": {},
     "output_type": "display_data"
    },
    {
     "data": {
      "image/png": "[encoded data removed]",
      "text/plain": [
       "<Figure size 1008x576 with 1 Axes>"
      ]
     },
     "metadata": {},
     "output_type": "display_data"
    }
   ],
   "source": [
    "summarize_everything('ATL', '1997-98 Season')"
   ]
  },
  {
   "cell_type": "code",
   "execution_count": 110,
   "metadata": {
    "scrolled": false
   },
   "outputs": [
    {
     "name": "stdout",
     "output_type": "stream",
     "text": [
      "100%|███████████████████████████████████████████████| 60/60 [00:07<00:00,  7.99trial/s, best loss: -0.9139705882352942]\n"
     ]
    },
    {
     "data": {
      "text/html": [
       "\n",
       "        <div style=\"width: 100%;\">\n",
       "            <div style=\"float: left; width: 50%;\"><img src=\"https://content.sportslogos.net/logos/6/213/full/slhg02hbef3j1ov4lsnwyol5o.png\" width=\"300\"></div>\n",
       "            <div style=\"float: left; width: 50%; text-align: right; margin-top: 5px; font-family:calibri;font-size:28px;\">Year Founded: <b>1946</b></div>\n",
       "            <div style=\"float: left; width: 50%; text-align: right; margin-top: 4px; font-family:calibri;font-size:28px;\">Team Record: <b>36W - 46L</b></div>\n",
       "            <div style=\"float: left; width: 50%; text-align: right; margin-top: 4px; font-family:calibri;font-size:28px;\">Model Accuracy: <b>91.4%</b></div>\n",
       "            <div style=\"float: left; width: 50%; text-align: right; margin-top: 4px; font-family:calibri;font-size:28px;\">Model ROC-AUC: <b>0.92</b></div>\n",
       "\n",
       "          </div>\n",
       "    "
      ],
      "text/plain": [
       "<IPython.core.display.HTML object>"
      ]
     },
     "metadata": {},
     "output_type": "display_data"
    },
    {
     "name": "stdout",
     "output_type": "stream",
     "text": [
      "       Factors  Importance for them  Importance for Avg. NBA Team\n",
      "0     Shooting                 62.7                          50.3\n",
      "1   Rebounding                  3.2                          16.8\n",
      "2    Turnovers                 20.3                          20.7\n",
      "3  Free Throws                 13.8                          12.2\n",
      "4        TOTAL                100.0                         100.0\n",
      "100%|███████████████████████████████████████████████| 60/60 [00:09<00:00,  6.66trial/s, best loss: -0.8286764705882353]\n"
     ]
    },
    {
     "data": {
      "image/png": "[encoded data removed]",
      "text/plain": [
       "<Figure size 1008x288 with 1 Axes>"
      ]
     },
     "metadata": {},
     "output_type": "display_data"
    },
    {
     "data": {
      "image/png": "[encoded data removed]",
      "text/plain": [
       "<Figure size 1008x288 with 1 Axes>"
      ]
     },
     "metadata": {},
     "output_type": "display_data"
    },
    {
     "data": {
      "image/png": "[encoded data removed]",
      "text/plain": [
       "<Figure size 1008x288 with 1 Axes>"
      ]
     },
     "metadata": {},
     "output_type": "display_data"
    },
    {
     "data": {
      "image/png": "[encoded data removed]",
      "text/plain": [
       "<Figure size 1008x576 with 1 Axes>"
      ]
     },
     "metadata": {},
     "output_type": "display_data"
    }
   ],
   "source": [
    "summarize_everything('BOS', '1997-98 Season')"
   ]
  },
  {
   "cell_type": "code",
   "execution_count": 1175,
   "metadata": {
    "scrolled": false
   },
   "outputs": [
    {
     "name": "stdout",
     "output_type": "stream",
     "text": [
      "100%|███████████████████████████████████████████████| 80/80 [00:17<00:00,  4.56trial/s, best loss: -0.7900584795321637]\n"
     ]
    },
    {
     "data": {
      "text/html": [
       "\n",
       "        <div style=\"width: 900px;\">\n",
       "            <div style=\"float: left; width: 420px;\"><img src=\"https://images-na.ssl-images-amazon.com/images/I/41JP%2BcUJ22L._AC_.jpg\"></div>\n",
       "            <div style=\"float: left; width: 480px; text-align: center; margin-top: 30px; font-family:fantasy;font-size:44px;\">Charlotte</div>\n",
       "            <div style=\"float: left; width: 480px; text-align: center; margin-top: 31px; font-family:calibri;font-size:28px;\">Year Founded: <b>1988</b></div>\n",
       "            <div style=\"float: left; width: 480px; text-align: center; margin-top: 32px; font-family:calibri;font-size:28px;\">Team Record: <b>55W - 36L</b></div>\n",
       "            <div style=\"float: left; width: 480px; text-align: center; margin-top: 33px; font-family:calibri;font-size:28px;\">Model Accuracy: <b>79.0%</b></div>\n",
       "            <div style=\"float: left; width: 480px; text-align: center; margin-top: 34px; font-family:calibri;font-size:28px;\">Model ROC-AUC: <b>0.86</b></div>\n",
       "\n",
       "          </div>\n",
       "    "
      ],
      "text/plain": [
       "<IPython.core.display.HTML object>"
      ]
     },
     "metadata": {},
     "output_type": "display_data"
    },
    {
     "name": "stdout",
     "output_type": "stream",
     "text": [
      "100%|█████████████████████████████████████████████████| 80/80 [00:19<00:00,  4.13trial/s, best loss: -0.77953216374269]\n"
     ]
    },
    {
     "data": {
      "text/html": [
       "\n",
       "        <hr>\n",
       "        <div style=\"width: 900px;\">\n",
       "            <img style=\"display: block; margin-left: auto; margin-right: auto;\" src=\"importances_team.png\"/>\n",
       "            \n",
       "            <div class=\"table-responsive\">\n",
       "                      <table class=\"table\">\n",
       "                        <thead>\n",
       "                          <tr>\n",
       "                            <th bgcolor=\"whitesmoke\" style=\"text-align:center\">Factor</th>\n",
       "                            <th bgcolor=\"whitesmoke\" style=\"text-align:center\">CHH</th>\n",
       "                            <th bgcolor=\"whitesmoke\" style=\"text-align:center\">Avg. NBA Team</th>\n",
       "                          </tr>\n",
       "                        </thead>\n",
       "                  <tr>\n",
       "                    <td bgcolor=\"white\" style=\"text-align:center\">Shooting</td>\n",
       "                    <td bgcolor=\"white\" style=\"text-align:center\">61.0</td>\n",
       "                    <td bgcolor=\"white\" style=\"text-align:center\">52.0</td>\n",
       "                  </tr>\n",
       "                  <tr>\n",
       "                    <td bgcolor=\"white\" style=\"text-align:center\">Rebounding</td>\n",
       "                    <td bgcolor=\"white\" style=\"text-align:center\">16.0</td>\n",
       "                    <td bgcolor=\"white\" style=\"text-align:center\">16.0</td>\n",
       "                  </tr>\n",
       "                  <tr>\n",
       "                    <td bgcolor=\"white\" style=\"text-align:center\">Turnovers</td>\n",
       "                    <td bgcolor=\"white\" style=\"text-align:center\">14.0</td>\n",
       "                    <td bgcolor=\"white\" style=\"text-align:center\">21.0</td>\n",
       "                  </tr>\n",
       "                  <tr>\n",
       "                    <td bgcolor=\"white\" style=\"text-align:center\">Free Throws Rate</td>\n",
       "                    <td bgcolor=\"white\" style=\"text-align:center\">10.0</td>\n",
       "                    <td bgcolor=\"white\" style=\"text-align:center\">11.0</td>\n",
       "                  </tr>\n",
       "                  <tr>\n",
       "                    <td bgcolor=\"white\" style=\"text-align:center\"><b>TOTAL</td>\n",
       "                    <td bgcolor=\"white\" style=\"text-align:center\">100</td>\n",
       "                    <td bgcolor=\"white\" style=\"text-align:center\">100</b></td>\n",
       "                  </tr>\n",
       "                </table>\n",
       "                <hr>\n",
       "\n",
       "\n",
       "    \n",
       "            <img style=\"display: block; margin-left: auto; margin-right: auto;\" src=\"important_players.png\"/><hr>\n",
       "            <img style=\"display: block; margin-left: auto; margin-right: auto;\" src=\"important_individual_features.png\"/><hr>\n",
       "            <img style=\"display: block; margin-left: auto; margin-right: auto;\" src=\"shooting_analysis.png\"/><hr>\n",
       "            \n",
       "            <br>\n",
       "        </div>\n",
       "        "
      ],
      "text/plain": [
       "<IPython.core.display.HTML object>"
      ]
     },
     "metadata": {},
     "output_type": "display_data"
    }
   ],
   "source": [
    "summarize_everything('CHH', '1997-98 Season')"
   ]
  },
  {
   "cell_type": "code",
   "execution_count": 1184,
   "metadata": {},
   "outputs": [
    {
     "name": "stdout",
     "output_type": "stream",
     "text": [
      "100%|███████████████████████████████████████████████| 80/80 [00:19<00:00,  4.19trial/s, best loss: -0.8357142857142857]\n"
     ]
    },
    {
     "data": {
      "text/html": [
       "\n",
       "        <div style=\"width: 900px;\">\n",
       "            <div style=\"float: left; width: 420px;\"><img src=\"https://cdn.mos.cms.futurecdn.net/8227s5kMEx84YEHWLbxCb4-1200-80.jpg\"></div>\n",
       "            <div style=\"float: left; width: 480px; text-align: center; margin-top: 30px; font-family:fantasy;font-size:44px;\">Chicago</div>\n",
       "            <div style=\"float: left; width: 480px; text-align: center; margin-top: 31px; font-family:calibri;font-size:28px;\">Year Founded: <b>1966</b></div>\n",
       "            <div style=\"float: left; width: 480px; text-align: center; margin-top: 32px; font-family:calibri;font-size:28px;\">Team Record: <b>77W - 26L</b></div>\n",
       "            <div style=\"float: left; width: 480px; text-align: center; margin-top: 33px; font-family:calibri;font-size:28px;\">Model Accuracy: <b>83.6%</b></div>\n",
       "            <div style=\"float: left; width: 480px; text-align: center; margin-top: 34px; font-family:calibri;font-size:28px;\">Model ROC-AUC: <b>0.85</b></div>\n",
       "\n",
       "          </div>\n",
       "    "
      ],
      "text/plain": [
       "<IPython.core.display.HTML object>"
      ]
     },
     "metadata": {},
     "output_type": "display_data"
    },
    {
     "name": "stdout",
     "output_type": "stream",
     "text": [
      "100%|███████████████████████████████████████████████| 80/80 [00:22<00:00,  3.57trial/s, best loss: -0.8352380952380953]\n"
     ]
    },
    {
     "data": {
      "text/html": [
       "\n",
       "        <hr>\n",
       "        <div style=\"width: 900px;\">\n",
       "            <img style=\"display: block; margin-left: auto; margin-right: auto;\" src=\"importances_team.png\"/>\n",
       "            \n",
       "            <div class=\"table-responsive\">\n",
       "                      <table class=\"table\">\n",
       "                        <thead>\n",
       "                          <tr>\n",
       "                            <th bgcolor=\"whitesmoke\" style=\"text-align:center\">Factor</th>\n",
       "                            <th bgcolor=\"whitesmoke\" style=\"text-align:center\">CHI</th>\n",
       "                            <th bgcolor=\"whitesmoke\" style=\"text-align:center\">Avg. NBA Team</th>\n",
       "                          </tr>\n",
       "                        </thead>\n",
       "                  <tr>\n",
       "                    <td bgcolor=\"white\" style=\"text-align:center\">Shooting</td>\n",
       "                    <td bgcolor=\"white\" style=\"text-align:center\">64.0</td>\n",
       "                    <td bgcolor=\"white\" style=\"text-align:center\">52.0</td>\n",
       "                  </tr>\n",
       "                  <tr>\n",
       "                    <td bgcolor=\"white\" style=\"text-align:center\">Rebounding</td>\n",
       "                    <td bgcolor=\"white\" style=\"text-align:center\">10.0</td>\n",
       "                    <td bgcolor=\"white\" style=\"text-align:center\">16.0</td>\n",
       "                  </tr>\n",
       "                  <tr>\n",
       "                    <td bgcolor=\"white\" style=\"text-align:center\">Turnovers</td>\n",
       "                    <td bgcolor=\"white\" style=\"text-align:center\">12.0</td>\n",
       "                    <td bgcolor=\"white\" style=\"text-align:center\">21.0</td>\n",
       "                  </tr>\n",
       "                  <tr>\n",
       "                    <td bgcolor=\"white\" style=\"text-align:center\">Free Throws Rate</td>\n",
       "                    <td bgcolor=\"white\" style=\"text-align:center\">14.0</td>\n",
       "                    <td bgcolor=\"white\" style=\"text-align:center\">11.0</td>\n",
       "                  </tr>\n",
       "                  <tr>\n",
       "                    <td bgcolor=\"white\" style=\"text-align:center\"><b>TOTAL</td>\n",
       "                    <td bgcolor=\"white\" style=\"text-align:center\">100</td>\n",
       "                    <td bgcolor=\"white\" style=\"text-align:center\">100</b></td>\n",
       "                  </tr>\n",
       "                </table>\n",
       "                <hr>\n",
       "\n",
       "\n",
       "    \n",
       "            <img style=\"display: block; margin-left: auto; margin-right: auto;\" src=\"important_players.png\"/><hr>\n",
       "            <img style=\"display: block; margin-left: auto; margin-right: auto;\" src=\"important_individual_features.png\"/><hr>\n",
       "            <img style=\"display: block; margin-left: auto; margin-right: auto;\" src=\"shooting_analysis.png\"/><hr>\n",
       "            \n",
       "            <br>\n",
       "        </div>\n",
       "        "
      ],
      "text/plain": [
       "<IPython.core.display.HTML object>"
      ]
     },
     "metadata": {},
     "output_type": "display_data"
    }
   ],
   "source": [
    "summarize_everything('CHI', '1997-98 Season')"
   ]
  },
  {
   "cell_type": "code",
   "execution_count": 1176,
   "metadata": {
    "scrolled": false
   },
   "outputs": [
    {
     "name": "stdout",
     "output_type": "stream",
     "text": [
      "100%|███████████████████████████████████████████████| 80/80 [00:17<00:00,  4.53trial/s, best loss: -0.7895424836601307]\n"
     ]
    },
    {
     "data": {
      "text/html": [
       "\n",
       "        <div style=\"width: 900px;\">\n",
       "            <div style=\"float: left; width: 420px;\"><img src=\"https://cdn.statmuse.com/img/nba/players/old_nba_cavs_1995_2003--dba8iauk.png\"></div>\n",
       "            <div style=\"float: left; width: 480px; text-align: center; margin-top: 30px; font-family:fantasy;font-size:44px;\">Cleveland</div>\n",
       "            <div style=\"float: left; width: 480px; text-align: center; margin-top: 31px; font-family:calibri;font-size:28px;\">Year Founded: <b>1970</b></div>\n",
       "            <div style=\"float: left; width: 480px; text-align: center; margin-top: 32px; font-family:calibri;font-size:28px;\">Team Record: <b>48W - 38L</b></div>\n",
       "            <div style=\"float: left; width: 480px; text-align: center; margin-top: 33px; font-family:calibri;font-size:28px;\">Model Accuracy: <b>79.0%</b></div>\n",
       "            <div style=\"float: left; width: 480px; text-align: center; margin-top: 34px; font-family:calibri;font-size:28px;\">Model ROC-AUC: <b>0.84</b></div>\n",
       "\n",
       "          </div>\n",
       "    "
      ],
      "text/plain": [
       "<IPython.core.display.HTML object>"
      ]
     },
     "metadata": {},
     "output_type": "display_data"
    },
    {
     "name": "stdout",
     "output_type": "stream",
     "text": [
      "100%|███████████████████████████████████████████████| 80/80 [00:19<00:00,  4.02trial/s, best loss: -0.7921568627450981]\n"
     ]
    },
    {
     "data": {
      "text/html": [
       "\n",
       "        <hr>\n",
       "        <div style=\"width: 900px;\">\n",
       "            <img style=\"display: block; margin-left: auto; margin-right: auto;\" src=\"importances_team.png\"/>\n",
       "            \n",
       "            <div class=\"table-responsive\">\n",
       "                      <table class=\"table\">\n",
       "                        <thead>\n",
       "                          <tr>\n",
       "                            <th bgcolor=\"whitesmoke\" style=\"text-align:center\">Factor</th>\n",
       "                            <th bgcolor=\"whitesmoke\" style=\"text-align:center\">CLE</th>\n",
       "                            <th bgcolor=\"whitesmoke\" style=\"text-align:center\">Avg. NBA Team</th>\n",
       "                          </tr>\n",
       "                        </thead>\n",
       "                  <tr>\n",
       "                    <td bgcolor=\"white\" style=\"text-align:center\">Shooting</td>\n",
       "                    <td bgcolor=\"white\" style=\"text-align:center\">69.0</td>\n",
       "                    <td bgcolor=\"white\" style=\"text-align:center\">52.0</td>\n",
       "                  </tr>\n",
       "                  <tr>\n",
       "                    <td bgcolor=\"white\" style=\"text-align:center\">Rebounding</td>\n",
       "                    <td bgcolor=\"white\" style=\"text-align:center\">6.0</td>\n",
       "                    <td bgcolor=\"white\" style=\"text-align:center\">16.0</td>\n",
       "                  </tr>\n",
       "                  <tr>\n",
       "                    <td bgcolor=\"white\" style=\"text-align:center\">Turnovers</td>\n",
       "                    <td bgcolor=\"white\" style=\"text-align:center\">14.0</td>\n",
       "                    <td bgcolor=\"white\" style=\"text-align:center\">21.0</td>\n",
       "                  </tr>\n",
       "                  <tr>\n",
       "                    <td bgcolor=\"white\" style=\"text-align:center\">Free Throws Rate</td>\n",
       "                    <td bgcolor=\"white\" style=\"text-align:center\">11.0</td>\n",
       "                    <td bgcolor=\"white\" style=\"text-align:center\">11.0</td>\n",
       "                  </tr>\n",
       "                  <tr>\n",
       "                    <td bgcolor=\"white\" style=\"text-align:center\"><b>TOTAL</td>\n",
       "                    <td bgcolor=\"white\" style=\"text-align:center\">100</td>\n",
       "                    <td bgcolor=\"white\" style=\"text-align:center\">100</b></td>\n",
       "                  </tr>\n",
       "                </table>\n",
       "                <hr>\n",
       "\n",
       "\n",
       "    \n",
       "            <img style=\"display: block; margin-left: auto; margin-right: auto;\" src=\"important_players.png\"/><hr>\n",
       "            <img style=\"display: block; margin-left: auto; margin-right: auto;\" src=\"important_individual_features.png\"/><hr>\n",
       "            <img style=\"display: block; margin-left: auto; margin-right: auto;\" src=\"shooting_analysis.png\"/><hr>\n",
       "            \n",
       "            <br>\n",
       "        </div>\n",
       "        "
      ],
      "text/plain": [
       "<IPython.core.display.HTML object>"
      ]
     },
     "metadata": {},
     "output_type": "display_data"
    }
   ],
   "source": [
    "summarize_everything('CLE', '1997-98 Season')"
   ]
  },
  {
   "cell_type": "code",
   "execution_count": 1178,
   "metadata": {},
   "outputs": [
    {
     "name": "stdout",
     "output_type": "stream",
     "text": [
      "100%|███████████████████████████████████████████████| 80/80 [00:17<00:00,  4.57trial/s, best loss: -0.8919117647058823]\n"
     ]
    },
    {
     "data": {
      "text/html": [
       "\n",
       "        <div style=\"width: 900px;\">\n",
       "            <div style=\"float: left; width: 420px;\"><img src=\"https://cdn.statmuse.com/img/nba/players/old_nba_dal_1981_2001--1nfqfd2j.png\"></div>\n",
       "            <div style=\"float: left; width: 480px; text-align: center; margin-top: 30px; font-family:fantasy;font-size:44px;\">Dallas</div>\n",
       "            <div style=\"float: left; width: 480px; text-align: center; margin-top: 31px; font-family:calibri;font-size:28px;\">Year Founded: <b>1980</b></div>\n",
       "            <div style=\"float: left; width: 480px; text-align: center; margin-top: 32px; font-family:calibri;font-size:28px;\">Team Record: <b>20W - 62L</b></div>\n",
       "            <div style=\"float: left; width: 480px; text-align: center; margin-top: 33px; font-family:calibri;font-size:28px;\">Model Accuracy: <b>89.2%</b></div>\n",
       "            <div style=\"float: left; width: 480px; text-align: center; margin-top: 34px; font-family:calibri;font-size:28px;\">Model ROC-AUC: <b>0.88</b></div>\n",
       "\n",
       "          </div>\n",
       "    "
      ],
      "text/plain": [
       "<IPython.core.display.HTML object>"
      ]
     },
     "metadata": {},
     "output_type": "display_data"
    },
    {
     "name": "stdout",
     "output_type": "stream",
     "text": [
      "100%|███████████████████████████████████████████████| 80/80 [00:18<00:00,  4.25trial/s, best loss: -0.8779411764705882]\n"
     ]
    },
    {
     "data": {
      "text/html": [
       "\n",
       "        <hr>\n",
       "        <div style=\"width: 900px;\">\n",
       "            <img style=\"display: block; margin-left: auto; margin-right: auto;\" src=\"importances_team.png\"/>\n",
       "            \n",
       "            <div class=\"table-responsive\">\n",
       "                      <table class=\"table\">\n",
       "                        <thead>\n",
       "                          <tr>\n",
       "                            <th bgcolor=\"whitesmoke\" style=\"text-align:center\">Factor</th>\n",
       "                            <th bgcolor=\"whitesmoke\" style=\"text-align:center\">DAL</th>\n",
       "                            <th bgcolor=\"whitesmoke\" style=\"text-align:center\">Avg. NBA Team</th>\n",
       "                          </tr>\n",
       "                        </thead>\n",
       "                  <tr>\n",
       "                    <td bgcolor=\"white\" style=\"text-align:center\">Shooting</td>\n",
       "                    <td bgcolor=\"white\" style=\"text-align:center\">51.0</td>\n",
       "                    <td bgcolor=\"white\" style=\"text-align:center\">52.0</td>\n",
       "                  </tr>\n",
       "                  <tr>\n",
       "                    <td bgcolor=\"white\" style=\"text-align:center\">Rebounding</td>\n",
       "                    <td bgcolor=\"white\" style=\"text-align:center\">23.0</td>\n",
       "                    <td bgcolor=\"white\" style=\"text-align:center\">16.0</td>\n",
       "                  </tr>\n",
       "                  <tr>\n",
       "                    <td bgcolor=\"white\" style=\"text-align:center\">Turnovers</td>\n",
       "                    <td bgcolor=\"white\" style=\"text-align:center\">16.0</td>\n",
       "                    <td bgcolor=\"white\" style=\"text-align:center\">21.0</td>\n",
       "                  </tr>\n",
       "                  <tr>\n",
       "                    <td bgcolor=\"white\" style=\"text-align:center\">Free Throws Rate</td>\n",
       "                    <td bgcolor=\"white\" style=\"text-align:center\">10.0</td>\n",
       "                    <td bgcolor=\"white\" style=\"text-align:center\">11.0</td>\n",
       "                  </tr>\n",
       "                  <tr>\n",
       "                    <td bgcolor=\"white\" style=\"text-align:center\"><b>TOTAL</td>\n",
       "                    <td bgcolor=\"white\" style=\"text-align:center\">100</td>\n",
       "                    <td bgcolor=\"white\" style=\"text-align:center\">100</b></td>\n",
       "                  </tr>\n",
       "                </table>\n",
       "                <hr>\n",
       "\n",
       "\n",
       "    \n",
       "            <img style=\"display: block; margin-left: auto; margin-right: auto;\" src=\"important_players.png\"/><hr>\n",
       "            <img style=\"display: block; margin-left: auto; margin-right: auto;\" src=\"important_individual_features.png\"/><hr>\n",
       "            <img style=\"display: block; margin-left: auto; margin-right: auto;\" src=\"shooting_analysis.png\"/><hr>\n",
       "            \n",
       "            <br>\n",
       "        </div>\n",
       "        "
      ],
      "text/plain": [
       "<IPython.core.display.HTML object>"
      ]
     },
     "metadata": {},
     "output_type": "display_data"
    }
   ],
   "source": [
    "summarize_everything('DAL', '1997-98 Season')"
   ]
  },
  {
   "cell_type": "code",
   "execution_count": 1179,
   "metadata": {},
   "outputs": [
    {
     "name": "stdout",
     "output_type": "stream",
     "text": [
      "100%|███████████████████████████████████████████████| 80/80 [00:17<00:00,  4.64trial/s, best loss: -0.9036764705882353]\n"
     ]
    },
    {
     "data": {
      "text/html": [
       "\n",
       "        <div style=\"width: 900px;\">\n",
       "            <div style=\"float: left; width: 420px;\"><img src=\"https://1000logos.net/wp-content/uploads/2018/06/Denver-Rockets-Logo-2008.jpg\"></div>\n",
       "            <div style=\"float: left; width: 480px; text-align: center; margin-top: 30px; font-family:fantasy;font-size:44px;\">Denver</div>\n",
       "            <div style=\"float: left; width: 480px; text-align: center; margin-top: 31px; font-family:calibri;font-size:28px;\">Year Founded: <b>1976</b></div>\n",
       "            <div style=\"float: left; width: 480px; text-align: center; margin-top: 32px; font-family:calibri;font-size:28px;\">Team Record: <b>11W - 71L</b></div>\n",
       "            <div style=\"float: left; width: 480px; text-align: center; margin-top: 33px; font-family:calibri;font-size:28px;\">Model Accuracy: <b>90.4%</b></div>\n",
       "            <div style=\"float: left; width: 480px; text-align: center; margin-top: 34px; font-family:calibri;font-size:28px;\">Model ROC-AUC: <b>0.82</b></div>\n",
       "\n",
       "          </div>\n",
       "    "
      ],
      "text/plain": [
       "<IPython.core.display.HTML object>"
      ]
     },
     "metadata": {},
     "output_type": "display_data"
    },
    {
     "name": "stdout",
     "output_type": "stream",
     "text": [
      "100%|███████████████████████████████████████████████| 80/80 [00:19<00:00,  4.18trial/s, best loss: -0.9154411764705882]\n"
     ]
    },
    {
     "data": {
      "text/html": [
       "\n",
       "        <hr>\n",
       "        <div style=\"width: 900px;\">\n",
       "            <img style=\"display: block; margin-left: auto; margin-right: auto;\" src=\"importances_team.png\"/>\n",
       "            \n",
       "            <div class=\"table-responsive\">\n",
       "                      <table class=\"table\">\n",
       "                        <thead>\n",
       "                          <tr>\n",
       "                            <th bgcolor=\"whitesmoke\" style=\"text-align:center\">Factor</th>\n",
       "                            <th bgcolor=\"whitesmoke\" style=\"text-align:center\">DEN</th>\n",
       "                            <th bgcolor=\"whitesmoke\" style=\"text-align:center\">Avg. NBA Team</th>\n",
       "                          </tr>\n",
       "                        </thead>\n",
       "                  <tr>\n",
       "                    <td bgcolor=\"white\" style=\"text-align:center\">Shooting</td>\n",
       "                    <td bgcolor=\"white\" style=\"text-align:center\">44.0</td>\n",
       "                    <td bgcolor=\"white\" style=\"text-align:center\">52.0</td>\n",
       "                  </tr>\n",
       "                  <tr>\n",
       "                    <td bgcolor=\"white\" style=\"text-align:center\">Rebounding</td>\n",
       "                    <td bgcolor=\"white\" style=\"text-align:center\">7.0</td>\n",
       "                    <td bgcolor=\"white\" style=\"text-align:center\">16.0</td>\n",
       "                  </tr>\n",
       "                  <tr>\n",
       "                    <td bgcolor=\"white\" style=\"text-align:center\">Turnovers</td>\n",
       "                    <td bgcolor=\"white\" style=\"text-align:center\">15.0</td>\n",
       "                    <td bgcolor=\"white\" style=\"text-align:center\">21.0</td>\n",
       "                  </tr>\n",
       "                  <tr>\n",
       "                    <td bgcolor=\"white\" style=\"text-align:center\">Free Throws Rate</td>\n",
       "                    <td bgcolor=\"white\" style=\"text-align:center\">33.0</td>\n",
       "                    <td bgcolor=\"white\" style=\"text-align:center\">11.0</td>\n",
       "                  </tr>\n",
       "                  <tr>\n",
       "                    <td bgcolor=\"white\" style=\"text-align:center\"><b>TOTAL</td>\n",
       "                    <td bgcolor=\"white\" style=\"text-align:center\">100</td>\n",
       "                    <td bgcolor=\"white\" style=\"text-align:center\">100</b></td>\n",
       "                  </tr>\n",
       "                </table>\n",
       "                <hr>\n",
       "\n",
       "\n",
       "    \n",
       "            <img style=\"display: block; margin-left: auto; margin-right: auto;\" src=\"important_players.png\"/><hr>\n",
       "            <img style=\"display: block; margin-left: auto; margin-right: auto;\" src=\"important_individual_features.png\"/><hr>\n",
       "            <img style=\"display: block; margin-left: auto; margin-right: auto;\" src=\"shooting_analysis.png\"/><hr>\n",
       "            \n",
       "            <br>\n",
       "        </div>\n",
       "        "
      ],
      "text/plain": [
       "<IPython.core.display.HTML object>"
      ]
     },
     "metadata": {},
     "output_type": "display_data"
    }
   ],
   "source": [
    "summarize_everything('DEN', '1997-98 Season')"
   ]
  },
  {
   "cell_type": "code",
   "execution_count": 1177,
   "metadata": {},
   "outputs": [
    {
     "name": "stdout",
     "output_type": "stream",
     "text": [
      "100%|███████████████████████████████████████████████| 80/80 [00:17<00:00,  4.59trial/s, best loss: -0.7066176470588236]\n"
     ]
    },
    {
     "data": {
      "text/html": [
       "\n",
       "        <div style=\"width: 900px;\">\n",
       "            <div style=\"float: left; width: 420px;\"><img src=\"https://content.sportslogos.net/logos/6/223/full/enfhamkfyk1vfvdjuzg67fpeg.gif\"></div>\n",
       "            <div style=\"float: left; width: 480px; text-align: center; margin-top: 30px; font-family:fantasy;font-size:44px;\">Detroit</div>\n",
       "            <div style=\"float: left; width: 480px; text-align: center; margin-top: 31px; font-family:calibri;font-size:28px;\">Year Founded: <b>1948</b></div>\n",
       "            <div style=\"float: left; width: 480px; text-align: center; margin-top: 32px; font-family:calibri;font-size:28px;\">Team Record: <b>37W - 45L</b></div>\n",
       "            <div style=\"float: left; width: 480px; text-align: center; margin-top: 33px; font-family:calibri;font-size:28px;\">Model Accuracy: <b>70.7%</b></div>\n",
       "            <div style=\"float: left; width: 480px; text-align: center; margin-top: 34px; font-family:calibri;font-size:28px;\">Model ROC-AUC: <b>0.73</b></div>\n",
       "\n",
       "          </div>\n",
       "    "
      ],
      "text/plain": [
       "<IPython.core.display.HTML object>"
      ]
     },
     "metadata": {},
     "output_type": "display_data"
    },
    {
     "name": "stdout",
     "output_type": "stream",
     "text": [
      "100%|███████████████████████████████████████████████| 80/80 [00:20<00:00,  3.99trial/s, best loss: -0.8316176470588236]\n"
     ]
    },
    {
     "data": {
      "text/html": [
       "\n",
       "        <hr>\n",
       "        <div style=\"width: 900px;\">\n",
       "            <img style=\"display: block; margin-left: auto; margin-right: auto;\" src=\"importances_team.png\"/>\n",
       "            \n",
       "            <div class=\"table-responsive\">\n",
       "                      <table class=\"table\">\n",
       "                        <thead>\n",
       "                          <tr>\n",
       "                            <th bgcolor=\"whitesmoke\" style=\"text-align:center\">Factor</th>\n",
       "                            <th bgcolor=\"whitesmoke\" style=\"text-align:center\">DET</th>\n",
       "                            <th bgcolor=\"whitesmoke\" style=\"text-align:center\">Avg. NBA Team</th>\n",
       "                          </tr>\n",
       "                        </thead>\n",
       "                  <tr>\n",
       "                    <td bgcolor=\"white\" style=\"text-align:center\">Shooting</td>\n",
       "                    <td bgcolor=\"white\" style=\"text-align:center\">60.0</td>\n",
       "                    <td bgcolor=\"white\" style=\"text-align:center\">52.0</td>\n",
       "                  </tr>\n",
       "                  <tr>\n",
       "                    <td bgcolor=\"white\" style=\"text-align:center\">Rebounding</td>\n",
       "                    <td bgcolor=\"white\" style=\"text-align:center\">17.0</td>\n",
       "                    <td bgcolor=\"white\" style=\"text-align:center\">16.0</td>\n",
       "                  </tr>\n",
       "                  <tr>\n",
       "                    <td bgcolor=\"white\" style=\"text-align:center\">Turnovers</td>\n",
       "                    <td bgcolor=\"white\" style=\"text-align:center\">9.0</td>\n",
       "                    <td bgcolor=\"white\" style=\"text-align:center\">21.0</td>\n",
       "                  </tr>\n",
       "                  <tr>\n",
       "                    <td bgcolor=\"white\" style=\"text-align:center\">Free Throws Rate</td>\n",
       "                    <td bgcolor=\"white\" style=\"text-align:center\">14.0</td>\n",
       "                    <td bgcolor=\"white\" style=\"text-align:center\">11.0</td>\n",
       "                  </tr>\n",
       "                  <tr>\n",
       "                    <td bgcolor=\"white\" style=\"text-align:center\"><b>TOTAL</td>\n",
       "                    <td bgcolor=\"white\" style=\"text-align:center\">100</td>\n",
       "                    <td bgcolor=\"white\" style=\"text-align:center\">100</b></td>\n",
       "                  </tr>\n",
       "                </table>\n",
       "                <hr>\n",
       "\n",
       "\n",
       "    \n",
       "            <img style=\"display: block; margin-left: auto; margin-right: auto;\" src=\"important_players.png\"/><hr>\n",
       "            <img style=\"display: block; margin-left: auto; margin-right: auto;\" src=\"important_individual_features.png\"/><hr>\n",
       "            <img style=\"display: block; margin-left: auto; margin-right: auto;\" src=\"shooting_analysis.png\"/><hr>\n",
       "            \n",
       "            <br>\n",
       "        </div>\n",
       "        "
      ],
      "text/plain": [
       "<IPython.core.display.HTML object>"
      ]
     },
     "metadata": {},
     "output_type": "display_data"
    }
   ],
   "source": [
    "summarize_everything('DET', '1997-98 Season')"
   ]
  },
  {
   "cell_type": "code",
   "execution_count": 1180,
   "metadata": {},
   "outputs": [
    {
     "name": "stdout",
     "output_type": "stream",
     "text": [
      "100%|███████████████████████████████████████████████| 80/80 [00:17<00:00,  4.57trial/s, best loss: -0.9029411764705882]\n"
     ]
    },
    {
     "data": {
      "text/html": [
       "\n",
       "        <div style=\"width: 900px;\">\n",
       "            <div style=\"float: left; width: 420px;\"><img src=\"https://i.pinimg.com/originals/1d/95/43/1d95432d0a10768054755095f6a4427b.png\"></div>\n",
       "            <div style=\"float: left; width: 480px; text-align: center; margin-top: 30px; font-family:fantasy;font-size:44px;\">Golden State</div>\n",
       "            <div style=\"float: left; width: 480px; text-align: center; margin-top: 31px; font-family:calibri;font-size:28px;\">Year Founded: <b>1946</b></div>\n",
       "            <div style=\"float: left; width: 480px; text-align: center; margin-top: 32px; font-family:calibri;font-size:28px;\">Team Record: <b>19W - 63L</b></div>\n",
       "            <div style=\"float: left; width: 480px; text-align: center; margin-top: 33px; font-family:calibri;font-size:28px;\">Model Accuracy: <b>90.3%</b></div>\n",
       "            <div style=\"float: left; width: 480px; text-align: center; margin-top: 34px; font-family:calibri;font-size:28px;\">Model ROC-AUC: <b>0.91</b></div>\n",
       "\n",
       "          </div>\n",
       "    "
      ],
      "text/plain": [
       "<IPython.core.display.HTML object>"
      ]
     },
     "metadata": {},
     "output_type": "display_data"
    },
    {
     "name": "stdout",
     "output_type": "stream",
     "text": [
      "100%|███████████████████████████████████████████████| 80/80 [00:20<00:00,  3.86trial/s, best loss: -0.8536764705882354]\n"
     ]
    },
    {
     "data": {
      "text/html": [
       "\n",
       "        <hr>\n",
       "        <div style=\"width: 900px;\">\n",
       "            <img style=\"display: block; margin-left: auto; margin-right: auto;\" src=\"importances_team.png\"/>\n",
       "            \n",
       "            <div class=\"table-responsive\">\n",
       "                      <table class=\"table\">\n",
       "                        <thead>\n",
       "                          <tr>\n",
       "                            <th bgcolor=\"whitesmoke\" style=\"text-align:center\">Factor</th>\n",
       "                            <th bgcolor=\"whitesmoke\" style=\"text-align:center\">GSW</th>\n",
       "                            <th bgcolor=\"whitesmoke\" style=\"text-align:center\">Avg. NBA Team</th>\n",
       "                          </tr>\n",
       "                        </thead>\n",
       "                  <tr>\n",
       "                    <td bgcolor=\"white\" style=\"text-align:center\">Shooting</td>\n",
       "                    <td bgcolor=\"white\" style=\"text-align:center\">52.0</td>\n",
       "                    <td bgcolor=\"white\" style=\"text-align:center\">52.0</td>\n",
       "                  </tr>\n",
       "                  <tr>\n",
       "                    <td bgcolor=\"white\" style=\"text-align:center\">Rebounding</td>\n",
       "                    <td bgcolor=\"white\" style=\"text-align:center\">3.0</td>\n",
       "                    <td bgcolor=\"white\" style=\"text-align:center\">16.0</td>\n",
       "                  </tr>\n",
       "                  <tr>\n",
       "                    <td bgcolor=\"white\" style=\"text-align:center\">Turnovers</td>\n",
       "                    <td bgcolor=\"white\" style=\"text-align:center\">23.0</td>\n",
       "                    <td bgcolor=\"white\" style=\"text-align:center\">21.0</td>\n",
       "                  </tr>\n",
       "                  <tr>\n",
       "                    <td bgcolor=\"white\" style=\"text-align:center\">Free Throws Rate</td>\n",
       "                    <td bgcolor=\"white\" style=\"text-align:center\">22.0</td>\n",
       "                    <td bgcolor=\"white\" style=\"text-align:center\">11.0</td>\n",
       "                  </tr>\n",
       "                  <tr>\n",
       "                    <td bgcolor=\"white\" style=\"text-align:center\"><b>TOTAL</td>\n",
       "                    <td bgcolor=\"white\" style=\"text-align:center\">100</td>\n",
       "                    <td bgcolor=\"white\" style=\"text-align:center\">100</b></td>\n",
       "                  </tr>\n",
       "                </table>\n",
       "                <hr>\n",
       "\n",
       "\n",
       "    \n",
       "            <img style=\"display: block; margin-left: auto; margin-right: auto;\" src=\"important_players.png\"/><hr>\n",
       "            <img style=\"display: block; margin-left: auto; margin-right: auto;\" src=\"important_individual_features.png\"/><hr>\n",
       "            <img style=\"display: block; margin-left: auto; margin-right: auto;\" src=\"shooting_analysis.png\"/><hr>\n",
       "            \n",
       "            <br>\n",
       "        </div>\n",
       "        "
      ],
      "text/plain": [
       "<IPython.core.display.HTML object>"
      ]
     },
     "metadata": {},
     "output_type": "display_data"
    }
   ],
   "source": [
    "summarize_everything('GSW', '1997-98 Season')"
   ]
  },
  {
   "cell_type": "code",
   "execution_count": 1181,
   "metadata": {},
   "outputs": [
    {
     "name": "stdout",
     "output_type": "stream",
     "text": [
      "100%|███████████████████████████████████████████████| 80/80 [00:17<00:00,  4.54trial/s, best loss: -0.8594771241830065]\n"
     ]
    },
    {
     "data": {
      "text/html": [
       "\n",
       "        <div style=\"width: 900px;\">\n",
       "            <div style=\"float: left; width: 420px;\"><img src=\"https://content.sportslogos.net/logos/6/230/full/vr7yd7ghightk5f9g3jh5ltnc.png\"></div>\n",
       "            <div style=\"float: left; width: 480px; text-align: center; margin-top: 30px; font-family:fantasy;font-size:44px;\">Houston</div>\n",
       "            <div style=\"float: left; width: 480px; text-align: center; margin-top: 31px; font-family:calibri;font-size:28px;\">Year Founded: <b>1967</b></div>\n",
       "            <div style=\"float: left; width: 480px; text-align: center; margin-top: 32px; font-family:calibri;font-size:28px;\">Team Record: <b>43W - 44L</b></div>\n",
       "            <div style=\"float: left; width: 480px; text-align: center; margin-top: 33px; font-family:calibri;font-size:28px;\">Model Accuracy: <b>85.9%</b></div>\n",
       "            <div style=\"float: left; width: 480px; text-align: center; margin-top: 34px; font-family:calibri;font-size:28px;\">Model ROC-AUC: <b>0.85</b></div>\n",
       "\n",
       "          </div>\n",
       "    "
      ],
      "text/plain": [
       "<IPython.core.display.HTML object>"
      ]
     },
     "metadata": {},
     "output_type": "display_data"
    },
    {
     "name": "stdout",
     "output_type": "stream",
     "text": [
      "100%|███████████████████████████████████████████████| 80/80 [00:20<00:00,  3.91trial/s, best loss: -0.7941176470588236]\n"
     ]
    },
    {
     "data": {
      "text/html": [
       "\n",
       "        <hr>\n",
       "        <div style=\"width: 900px;\">\n",
       "            <img style=\"display: block; margin-left: auto; margin-right: auto;\" src=\"importances_team.png\"/>\n",
       "            \n",
       "            <div class=\"table-responsive\">\n",
       "                      <table class=\"table\">\n",
       "                        <thead>\n",
       "                          <tr>\n",
       "                            <th bgcolor=\"whitesmoke\" style=\"text-align:center\">Factor</th>\n",
       "                            <th bgcolor=\"whitesmoke\" style=\"text-align:center\">HOU</th>\n",
       "                            <th bgcolor=\"whitesmoke\" style=\"text-align:center\">Avg. NBA Team</th>\n",
       "                          </tr>\n",
       "                        </thead>\n",
       "                  <tr>\n",
       "                    <td bgcolor=\"white\" style=\"text-align:center\">Shooting</td>\n",
       "                    <td bgcolor=\"white\" style=\"text-align:center\">61.0</td>\n",
       "                    <td bgcolor=\"white\" style=\"text-align:center\">52.0</td>\n",
       "                  </tr>\n",
       "                  <tr>\n",
       "                    <td bgcolor=\"white\" style=\"text-align:center\">Rebounding</td>\n",
       "                    <td bgcolor=\"white\" style=\"text-align:center\">20.0</td>\n",
       "                    <td bgcolor=\"white\" style=\"text-align:center\">16.0</td>\n",
       "                  </tr>\n",
       "                  <tr>\n",
       "                    <td bgcolor=\"white\" style=\"text-align:center\">Turnovers</td>\n",
       "                    <td bgcolor=\"white\" style=\"text-align:center\">12.0</td>\n",
       "                    <td bgcolor=\"white\" style=\"text-align:center\">21.0</td>\n",
       "                  </tr>\n",
       "                  <tr>\n",
       "                    <td bgcolor=\"white\" style=\"text-align:center\">Free Throws Rate</td>\n",
       "                    <td bgcolor=\"white\" style=\"text-align:center\">7.0</td>\n",
       "                    <td bgcolor=\"white\" style=\"text-align:center\">11.0</td>\n",
       "                  </tr>\n",
       "                  <tr>\n",
       "                    <td bgcolor=\"white\" style=\"text-align:center\"><b>TOTAL</td>\n",
       "                    <td bgcolor=\"white\" style=\"text-align:center\">100</td>\n",
       "                    <td bgcolor=\"white\" style=\"text-align:center\">100</b></td>\n",
       "                  </tr>\n",
       "                </table>\n",
       "                <hr>\n",
       "\n",
       "\n",
       "    \n",
       "            <img style=\"display: block; margin-left: auto; margin-right: auto;\" src=\"important_players.png\"/><hr>\n",
       "            <img style=\"display: block; margin-left: auto; margin-right: auto;\" src=\"important_individual_features.png\"/><hr>\n",
       "            <img style=\"display: block; margin-left: auto; margin-right: auto;\" src=\"shooting_analysis.png\"/><hr>\n",
       "            \n",
       "            <br>\n",
       "        </div>\n",
       "        "
      ],
      "text/plain": [
       "<IPython.core.display.HTML object>"
      ]
     },
     "metadata": {},
     "output_type": "display_data"
    }
   ],
   "source": [
    "summarize_everything('HOU', '1997-98 Season')"
   ]
  },
  {
   "cell_type": "code",
   "execution_count": 1191,
   "metadata": {},
   "outputs": [
    {
     "name": "stdout",
     "output_type": "stream",
     "text": [
      "100%|███████████████████████████████████████████████| 80/80 [00:17<00:00,  4.54trial/s, best loss: -0.8073684210526316]\n"
     ]
    },
    {
     "data": {
      "text/html": [
       "\n",
       "        <div style=\"width: 900px;\">\n",
       "            <div style=\"float: left; width: 420px;\"><img src=\"https://images.homedepot-static.com/productImages/5a5042bb-b9cd-4786-aaac-accdeea8dde9/svn/fanmats-other-interior-auto-accessories-22217-64_1000.jpg\"></div>\n",
       "            <div style=\"float: left; width: 480px; text-align: center; margin-top: 30px; font-family:fantasy;font-size:44px;\">Indiana</div>\n",
       "            <div style=\"float: left; width: 480px; text-align: center; margin-top: 31px; font-family:calibri;font-size:28px;\">Year Founded: <b>1976</b></div>\n",
       "            <div style=\"float: left; width: 480px; text-align: center; margin-top: 32px; font-family:calibri;font-size:28px;\">Team Record: <b>68W - 30L</b></div>\n",
       "            <div style=\"float: left; width: 480px; text-align: center; margin-top: 33px; font-family:calibri;font-size:28px;\">Model Accuracy: <b>80.7%</b></div>\n",
       "            <div style=\"float: left; width: 480px; text-align: center; margin-top: 34px; font-family:calibri;font-size:28px;\">Model ROC-AUC: <b>0.79</b></div>\n",
       "\n",
       "          </div>\n",
       "    "
      ],
      "text/plain": [
       "<IPython.core.display.HTML object>"
      ]
     },
     "metadata": {},
     "output_type": "display_data"
    },
    {
     "name": "stdout",
     "output_type": "stream",
     "text": [
      "100%|███████████████████████████████████████████████| 80/80 [00:20<00:00,  3.92trial/s, best loss: -0.7857894736842106]\n"
     ]
    },
    {
     "data": {
      "text/html": [
       "\n",
       "        <hr>\n",
       "        <div style=\"width: 900px;\">\n",
       "            <img style=\"display: block; margin-left: auto; margin-right: auto;\" src=\"importances_team.png\"/>\n",
       "            \n",
       "            <div class=\"table-responsive\">\n",
       "                      <table class=\"table\">\n",
       "                        <thead>\n",
       "                          <tr>\n",
       "                            <th bgcolor=\"whitesmoke\" style=\"text-align:center\">Factor</th>\n",
       "                            <th bgcolor=\"whitesmoke\" style=\"text-align:center\">IND</th>\n",
       "                            <th bgcolor=\"whitesmoke\" style=\"text-align:center\">Avg. NBA Team</th>\n",
       "                          </tr>\n",
       "                        </thead>\n",
       "                  <tr>\n",
       "                    <td bgcolor=\"white\" style=\"text-align:center\">Shooting</td>\n",
       "                    <td bgcolor=\"white\" style=\"text-align:center\">50.0</td>\n",
       "                    <td bgcolor=\"white\" style=\"text-align:center\">52.0</td>\n",
       "                  </tr>\n",
       "                  <tr>\n",
       "                    <td bgcolor=\"white\" style=\"text-align:center\">Rebounding</td>\n",
       "                    <td bgcolor=\"white\" style=\"text-align:center\">20.0</td>\n",
       "                    <td bgcolor=\"white\" style=\"text-align:center\">16.0</td>\n",
       "                  </tr>\n",
       "                  <tr>\n",
       "                    <td bgcolor=\"white\" style=\"text-align:center\">Turnovers</td>\n",
       "                    <td bgcolor=\"white\" style=\"text-align:center\">20.0</td>\n",
       "                    <td bgcolor=\"white\" style=\"text-align:center\">21.0</td>\n",
       "                  </tr>\n",
       "                  <tr>\n",
       "                    <td bgcolor=\"white\" style=\"text-align:center\">Free Throws Rate</td>\n",
       "                    <td bgcolor=\"white\" style=\"text-align:center\">10.0</td>\n",
       "                    <td bgcolor=\"white\" style=\"text-align:center\">11.0</td>\n",
       "                  </tr>\n",
       "                  <tr>\n",
       "                    <td bgcolor=\"white\" style=\"text-align:center\"><b>TOTAL</td>\n",
       "                    <td bgcolor=\"white\" style=\"text-align:center\">100</td>\n",
       "                    <td bgcolor=\"white\" style=\"text-align:center\">100</b></td>\n",
       "                  </tr>\n",
       "                </table>\n",
       "                <hr>\n",
       "\n",
       "\n",
       "    \n",
       "            <img style=\"display: block; margin-left: auto; margin-right: auto;\" src=\"important_players.png\"/><hr>\n",
       "            <img style=\"display: block; margin-left: auto; margin-right: auto;\" src=\"important_individual_features.png\"/><hr>\n",
       "            <img style=\"display: block; margin-left: auto; margin-right: auto;\" src=\"shooting_analysis.png\"/><hr>\n",
       "            \n",
       "            <br>\n",
       "        </div>\n",
       "        "
      ],
      "text/plain": [
       "<IPython.core.display.HTML object>"
      ]
     },
     "metadata": {},
     "output_type": "display_data"
    }
   ],
   "source": [
    "summarize_everything('IND', '1997-98 Season')"
   ]
  },
  {
   "cell_type": "code",
   "execution_count": 1182,
   "metadata": {},
   "outputs": [
    {
     "name": "stdout",
     "output_type": "stream",
     "text": [
      "100%|███████████████████████████████████████████████| 80/80 [00:17<00:00,  4.60trial/s, best loss: -0.8426470588235293]\n"
     ]
    },
    {
     "data": {
      "text/html": [
       "\n",
       "        <div style=\"width: 900px;\">\n",
       "            <div style=\"float: left; width: 420px;\"><img src=\"https://content.sportslogos.net/logos/6/236/full/ioxjye9im9phdgfyfxvj1xb71.png\"></div>\n",
       "            <div style=\"float: left; width: 480px; text-align: center; margin-top: 30px; font-family:fantasy;font-size:44px;\">Los Angeles</div>\n",
       "            <div style=\"float: left; width: 480px; text-align: center; margin-top: 31px; font-family:calibri;font-size:28px;\">Year Founded: <b>1970</b></div>\n",
       "            <div style=\"float: left; width: 480px; text-align: center; margin-top: 32px; font-family:calibri;font-size:28px;\">Team Record: <b>17W - 65L</b></div>\n",
       "            <div style=\"float: left; width: 480px; text-align: center; margin-top: 33px; font-family:calibri;font-size:28px;\">Model Accuracy: <b>84.3%</b></div>\n",
       "            <div style=\"float: left; width: 480px; text-align: center; margin-top: 34px; font-family:calibri;font-size:28px;\">Model ROC-AUC: <b>0.53</b></div>\n",
       "\n",
       "          </div>\n",
       "    "
      ],
      "text/plain": [
       "<IPython.core.display.HTML object>"
      ]
     },
     "metadata": {},
     "output_type": "display_data"
    },
    {
     "name": "stdout",
     "output_type": "stream",
     "text": [
      "100%|███████████████████████████████████████████████| 80/80 [00:19<00:00,  4.04trial/s, best loss: -0.8426470588235293]\n"
     ]
    },
    {
     "data": {
      "text/html": [
       "\n",
       "        <hr>\n",
       "        <div style=\"width: 900px;\">\n",
       "            <img style=\"display: block; margin-left: auto; margin-right: auto;\" src=\"importances_team.png\"/>\n",
       "            \n",
       "            <div class=\"table-responsive\">\n",
       "                      <table class=\"table\">\n",
       "                        <thead>\n",
       "                          <tr>\n",
       "                            <th bgcolor=\"whitesmoke\" style=\"text-align:center\">Factor</th>\n",
       "                            <th bgcolor=\"whitesmoke\" style=\"text-align:center\">LAC</th>\n",
       "                            <th bgcolor=\"whitesmoke\" style=\"text-align:center\">Avg. NBA Team</th>\n",
       "                          </tr>\n",
       "                        </thead>\n",
       "                  <tr>\n",
       "                    <td bgcolor=\"white\" style=\"text-align:center\">Shooting</td>\n",
       "                    <td bgcolor=\"white\" style=\"text-align:center\">48.0</td>\n",
       "                    <td bgcolor=\"white\" style=\"text-align:center\">52.0</td>\n",
       "                  </tr>\n",
       "                  <tr>\n",
       "                    <td bgcolor=\"white\" style=\"text-align:center\">Rebounding</td>\n",
       "                    <td bgcolor=\"white\" style=\"text-align:center\">4.0</td>\n",
       "                    <td bgcolor=\"white\" style=\"text-align:center\">16.0</td>\n",
       "                  </tr>\n",
       "                  <tr>\n",
       "                    <td bgcolor=\"white\" style=\"text-align:center\">Turnovers</td>\n",
       "                    <td bgcolor=\"white\" style=\"text-align:center\">37.0</td>\n",
       "                    <td bgcolor=\"white\" style=\"text-align:center\">21.0</td>\n",
       "                  </tr>\n",
       "                  <tr>\n",
       "                    <td bgcolor=\"white\" style=\"text-align:center\">Free Throws Rate</td>\n",
       "                    <td bgcolor=\"white\" style=\"text-align:center\">11.0</td>\n",
       "                    <td bgcolor=\"white\" style=\"text-align:center\">11.0</td>\n",
       "                  </tr>\n",
       "                  <tr>\n",
       "                    <td bgcolor=\"white\" style=\"text-align:center\"><b>TOTAL</td>\n",
       "                    <td bgcolor=\"white\" style=\"text-align:center\">100</td>\n",
       "                    <td bgcolor=\"white\" style=\"text-align:center\">100</b></td>\n",
       "                  </tr>\n",
       "                </table>\n",
       "                <hr>\n",
       "\n",
       "\n",
       "    \n",
       "            <img style=\"display: block; margin-left: auto; margin-right: auto;\" src=\"important_players.png\"/><hr>\n",
       "            <img style=\"display: block; margin-left: auto; margin-right: auto;\" src=\"important_individual_features.png\"/><hr>\n",
       "            <img style=\"display: block; margin-left: auto; margin-right: auto;\" src=\"shooting_analysis.png\"/><hr>\n",
       "            \n",
       "            <br>\n",
       "        </div>\n",
       "        "
      ],
      "text/plain": [
       "<IPython.core.display.HTML object>"
      ]
     },
     "metadata": {},
     "output_type": "display_data"
    }
   ],
   "source": [
    "summarize_everything('LAC', '1997-98 Season')"
   ]
  },
  {
   "cell_type": "code",
   "execution_count": 1183,
   "metadata": {},
   "outputs": [
    {
     "name": "stdout",
     "output_type": "stream",
     "text": [
      "100%|███████████████████████████████████████████████| 80/80 [00:17<00:00,  4.51trial/s, best loss: -0.8631578947368421]\n"
     ]
    },
    {
     "data": {
      "text/html": [
       "\n",
       "        <div style=\"width: 900px;\">\n",
       "            <div style=\"float: left; width: 420px;\"><img src=\"https://images.homedepot-static.com/productImages/ce8be48f-a86e-4b96-a365-d97d33cc02e3/svn/purple-applied-icon-wall-decals-nbop1401-64_600.jpg\"></div>\n",
       "            <div style=\"float: left; width: 480px; text-align: center; margin-top: 30px; font-family:fantasy;font-size:44px;\">Los Angeles</div>\n",
       "            <div style=\"float: left; width: 480px; text-align: center; margin-top: 31px; font-family:calibri;font-size:28px;\">Year Founded: <b>1948</b></div>\n",
       "            <div style=\"float: left; width: 480px; text-align: center; margin-top: 32px; font-family:calibri;font-size:28px;\">Team Record: <b>68W - 27L</b></div>\n",
       "            <div style=\"float: left; width: 480px; text-align: center; margin-top: 33px; font-family:calibri;font-size:28px;\">Model Accuracy: <b>86.3%</b></div>\n",
       "            <div style=\"float: left; width: 480px; text-align: center; margin-top: 34px; font-family:calibri;font-size:28px;\">Model ROC-AUC: <b>0.85</b></div>\n",
       "\n",
       "          </div>\n",
       "    "
      ],
      "text/plain": [
       "<IPython.core.display.HTML object>"
      ]
     },
     "metadata": {},
     "output_type": "display_data"
    },
    {
     "name": "stdout",
     "output_type": "stream",
     "text": [
      "100%|███████████████████████████████████████████████| 80/80 [00:20<00:00,  3.84trial/s, best loss: -0.8421052631578947]\n"
     ]
    },
    {
     "data": {
      "text/html": [
       "\n",
       "        <hr>\n",
       "        <div style=\"width: 900px;\">\n",
       "            <img style=\"display: block; margin-left: auto; margin-right: auto;\" src=\"importances_team.png\"/>\n",
       "            \n",
       "            <div class=\"table-responsive\">\n",
       "                      <table class=\"table\">\n",
       "                        <thead>\n",
       "                          <tr>\n",
       "                            <th bgcolor=\"whitesmoke\" style=\"text-align:center\">Factor</th>\n",
       "                            <th bgcolor=\"whitesmoke\" style=\"text-align:center\">LAL</th>\n",
       "                            <th bgcolor=\"whitesmoke\" style=\"text-align:center\">Avg. NBA Team</th>\n",
       "                          </tr>\n",
       "                        </thead>\n",
       "                  <tr>\n",
       "                    <td bgcolor=\"white\" style=\"text-align:center\">Shooting</td>\n",
       "                    <td bgcolor=\"white\" style=\"text-align:center\">57.0</td>\n",
       "                    <td bgcolor=\"white\" style=\"text-align:center\">52.0</td>\n",
       "                  </tr>\n",
       "                  <tr>\n",
       "                    <td bgcolor=\"white\" style=\"text-align:center\">Rebounding</td>\n",
       "                    <td bgcolor=\"white\" style=\"text-align:center\">8.0</td>\n",
       "                    <td bgcolor=\"white\" style=\"text-align:center\">16.0</td>\n",
       "                  </tr>\n",
       "                  <tr>\n",
       "                    <td bgcolor=\"white\" style=\"text-align:center\">Turnovers</td>\n",
       "                    <td bgcolor=\"white\" style=\"text-align:center\">12.0</td>\n",
       "                    <td bgcolor=\"white\" style=\"text-align:center\">21.0</td>\n",
       "                  </tr>\n",
       "                  <tr>\n",
       "                    <td bgcolor=\"white\" style=\"text-align:center\">Free Throws Rate</td>\n",
       "                    <td bgcolor=\"white\" style=\"text-align:center\">24.0</td>\n",
       "                    <td bgcolor=\"white\" style=\"text-align:center\">11.0</td>\n",
       "                  </tr>\n",
       "                  <tr>\n",
       "                    <td bgcolor=\"white\" style=\"text-align:center\"><b>TOTAL</td>\n",
       "                    <td bgcolor=\"white\" style=\"text-align:center\">100</td>\n",
       "                    <td bgcolor=\"white\" style=\"text-align:center\">100</b></td>\n",
       "                  </tr>\n",
       "                </table>\n",
       "                <hr>\n",
       "\n",
       "\n",
       "    \n",
       "            <img style=\"display: block; margin-left: auto; margin-right: auto;\" src=\"important_players.png\"/><hr>\n",
       "            <img style=\"display: block; margin-left: auto; margin-right: auto;\" src=\"important_individual_features.png\"/><hr>\n",
       "            <img style=\"display: block; margin-left: auto; margin-right: auto;\" src=\"shooting_analysis.png\"/><hr>\n",
       "            \n",
       "            <br>\n",
       "        </div>\n",
       "        "
      ],
      "text/plain": [
       "<IPython.core.display.HTML object>"
      ]
     },
     "metadata": {},
     "output_type": "display_data"
    }
   ],
   "source": [
    "summarize_everything('LAL', '1997-98 Season')"
   ]
  },
  {
   "cell_type": "code",
   "execution_count": 1185,
   "metadata": {},
   "outputs": [
    {
     "name": "stdout",
     "output_type": "stream",
     "text": [
      "100%|███████████████████████████████████████████████| 80/80 [00:17<00:00,  4.59trial/s, best loss: -0.8620915032679738]\n"
     ]
    },
    {
     "data": {
      "text/html": [
       "\n",
       "        <div style=\"width: 900px;\">\n",
       "            <div style=\"float: left; width: 420px;\"><img src=\"https://logovtor.com/wp-content/uploads/2020/06/miami-heat-logo-vector.png\"></div>\n",
       "            <div style=\"float: left; width: 480px; text-align: center; margin-top: 30px; font-family:fantasy;font-size:44px;\">Miami</div>\n",
       "            <div style=\"float: left; width: 480px; text-align: center; margin-top: 31px; font-family:calibri;font-size:28px;\">Year Founded: <b>1988</b></div>\n",
       "            <div style=\"float: left; width: 480px; text-align: center; margin-top: 32px; font-family:calibri;font-size:28px;\">Team Record: <b>59W - 28L</b></div>\n",
       "            <div style=\"float: left; width: 480px; text-align: center; margin-top: 33px; font-family:calibri;font-size:28px;\">Model Accuracy: <b>86.2%</b></div>\n",
       "            <div style=\"float: left; width: 480px; text-align: center; margin-top: 34px; font-family:calibri;font-size:28px;\">Model ROC-AUC: <b>0.89</b></div>\n",
       "\n",
       "          </div>\n",
       "    "
      ],
      "text/plain": [
       "<IPython.core.display.HTML object>"
      ]
     },
     "metadata": {},
     "output_type": "display_data"
    },
    {
     "name": "stdout",
     "output_type": "stream",
     "text": [
      "100%|███████████████████████████████████████████████| 80/80 [00:19<00:00,  4.09trial/s, best loss: -0.8522875816993464]\n"
     ]
    },
    {
     "data": {
      "text/html": [
       "\n",
       "        <hr>\n",
       "        <div style=\"width: 900px;\">\n",
       "            <img style=\"display: block; margin-left: auto; margin-right: auto;\" src=\"importances_team.png\"/>\n",
       "            \n",
       "            <div class=\"table-responsive\">\n",
       "                      <table class=\"table\">\n",
       "                        <thead>\n",
       "                          <tr>\n",
       "                            <th bgcolor=\"whitesmoke\" style=\"text-align:center\">Factor</th>\n",
       "                            <th bgcolor=\"whitesmoke\" style=\"text-align:center\">MIA</th>\n",
       "                            <th bgcolor=\"whitesmoke\" style=\"text-align:center\">Avg. NBA Team</th>\n",
       "                          </tr>\n",
       "                        </thead>\n",
       "                  <tr>\n",
       "                    <td bgcolor=\"white\" style=\"text-align:center\">Shooting</td>\n",
       "                    <td bgcolor=\"white\" style=\"text-align:center\">63.0</td>\n",
       "                    <td bgcolor=\"white\" style=\"text-align:center\">52.0</td>\n",
       "                  </tr>\n",
       "                  <tr>\n",
       "                    <td bgcolor=\"white\" style=\"text-align:center\">Rebounding</td>\n",
       "                    <td bgcolor=\"white\" style=\"text-align:center\">9.0</td>\n",
       "                    <td bgcolor=\"white\" style=\"text-align:center\">16.0</td>\n",
       "                  </tr>\n",
       "                  <tr>\n",
       "                    <td bgcolor=\"white\" style=\"text-align:center\">Turnovers</td>\n",
       "                    <td bgcolor=\"white\" style=\"text-align:center\">18.0</td>\n",
       "                    <td bgcolor=\"white\" style=\"text-align:center\">21.0</td>\n",
       "                  </tr>\n",
       "                  <tr>\n",
       "                    <td bgcolor=\"white\" style=\"text-align:center\">Free Throws Rate</td>\n",
       "                    <td bgcolor=\"white\" style=\"text-align:center\">10.0</td>\n",
       "                    <td bgcolor=\"white\" style=\"text-align:center\">11.0</td>\n",
       "                  </tr>\n",
       "                  <tr>\n",
       "                    <td bgcolor=\"white\" style=\"text-align:center\"><b>TOTAL</td>\n",
       "                    <td bgcolor=\"white\" style=\"text-align:center\">100</td>\n",
       "                    <td bgcolor=\"white\" style=\"text-align:center\">100</b></td>\n",
       "                  </tr>\n",
       "                </table>\n",
       "                <hr>\n",
       "\n",
       "\n",
       "    \n",
       "            <img style=\"display: block; margin-left: auto; margin-right: auto;\" src=\"important_players.png\"/><hr>\n",
       "            <img style=\"display: block; margin-left: auto; margin-right: auto;\" src=\"important_individual_features.png\"/><hr>\n",
       "            <img style=\"display: block; margin-left: auto; margin-right: auto;\" src=\"shooting_analysis.png\"/><hr>\n",
       "            \n",
       "            <br>\n",
       "        </div>\n",
       "        "
      ],
      "text/plain": [
       "<IPython.core.display.HTML object>"
      ]
     },
     "metadata": {},
     "output_type": "display_data"
    }
   ],
   "source": [
    "summarize_everything('MIA', '1997-98 Season')"
   ]
  },
  {
   "cell_type": "code",
   "execution_count": 1186,
   "metadata": {},
   "outputs": [
    {
     "name": "stdout",
     "output_type": "stream",
     "text": [
      "100%|███████████████████████████████████████████████| 80/80 [00:17<00:00,  4.58trial/s, best loss: -0.8066176470588236]\n"
     ]
    },
    {
     "data": {
      "text/html": [
       "\n",
       "        <div style=\"width: 900px;\">\n",
       "            <div style=\"float: left; width: 420px;\"><img src=\"https://pm1.narvii.com/6493/f62ac7896462df0e3771e962787cf8754336d1b7_00.jpg\"></div>\n",
       "            <div style=\"float: left; width: 480px; text-align: center; margin-top: 30px; font-family:fantasy;font-size:44px;\">Milwaukee</div>\n",
       "            <div style=\"float: left; width: 480px; text-align: center; margin-top: 31px; font-family:calibri;font-size:28px;\">Year Founded: <b>1968</b></div>\n",
       "            <div style=\"float: left; width: 480px; text-align: center; margin-top: 32px; font-family:calibri;font-size:28px;\">Team Record: <b>36W - 46L</b></div>\n",
       "            <div style=\"float: left; width: 480px; text-align: center; margin-top: 33px; font-family:calibri;font-size:28px;\">Model Accuracy: <b>80.7%</b></div>\n",
       "            <div style=\"float: left; width: 480px; text-align: center; margin-top: 34px; font-family:calibri;font-size:28px;\">Model ROC-AUC: <b>0.8</b></div>\n",
       "\n",
       "          </div>\n",
       "    "
      ],
      "text/plain": [
       "<IPython.core.display.HTML object>"
      ]
     },
     "metadata": {},
     "output_type": "display_data"
    },
    {
     "name": "stdout",
     "output_type": "stream",
     "text": [
      "100%|███████████████████████████████████████████████| 80/80 [00:19<00:00,  4.19trial/s, best loss: -0.8058823529411765]\n"
     ]
    },
    {
     "data": {
      "text/html": [
       "\n",
       "        <hr>\n",
       "        <div style=\"width: 900px;\">\n",
       "            <img style=\"display: block; margin-left: auto; margin-right: auto;\" src=\"importances_team.png\"/>\n",
       "            \n",
       "            <div class=\"table-responsive\">\n",
       "                      <table class=\"table\">\n",
       "                        <thead>\n",
       "                          <tr>\n",
       "                            <th bgcolor=\"whitesmoke\" style=\"text-align:center\">Factor</th>\n",
       "                            <th bgcolor=\"whitesmoke\" style=\"text-align:center\">MIL</th>\n",
       "                            <th bgcolor=\"whitesmoke\" style=\"text-align:center\">Avg. NBA Team</th>\n",
       "                          </tr>\n",
       "                        </thead>\n",
       "                  <tr>\n",
       "                    <td bgcolor=\"white\" style=\"text-align:center\">Shooting</td>\n",
       "                    <td bgcolor=\"white\" style=\"text-align:center\">61.0</td>\n",
       "                    <td bgcolor=\"white\" style=\"text-align:center\">52.0</td>\n",
       "                  </tr>\n",
       "                  <tr>\n",
       "                    <td bgcolor=\"white\" style=\"text-align:center\">Rebounding</td>\n",
       "                    <td bgcolor=\"white\" style=\"text-align:center\">9.0</td>\n",
       "                    <td bgcolor=\"white\" style=\"text-align:center\">16.0</td>\n",
       "                  </tr>\n",
       "                  <tr>\n",
       "                    <td bgcolor=\"white\" style=\"text-align:center\">Turnovers</td>\n",
       "                    <td bgcolor=\"white\" style=\"text-align:center\">19.0</td>\n",
       "                    <td bgcolor=\"white\" style=\"text-align:center\">21.0</td>\n",
       "                  </tr>\n",
       "                  <tr>\n",
       "                    <td bgcolor=\"white\" style=\"text-align:center\">Free Throws Rate</td>\n",
       "                    <td bgcolor=\"white\" style=\"text-align:center\">12.0</td>\n",
       "                    <td bgcolor=\"white\" style=\"text-align:center\">11.0</td>\n",
       "                  </tr>\n",
       "                  <tr>\n",
       "                    <td bgcolor=\"white\" style=\"text-align:center\"><b>TOTAL</td>\n",
       "                    <td bgcolor=\"white\" style=\"text-align:center\">100</td>\n",
       "                    <td bgcolor=\"white\" style=\"text-align:center\">100</b></td>\n",
       "                  </tr>\n",
       "                </table>\n",
       "                <hr>\n",
       "\n",
       "\n",
       "    \n",
       "            <img style=\"display: block; margin-left: auto; margin-right: auto;\" src=\"important_players.png\"/><hr>\n",
       "            <img style=\"display: block; margin-left: auto; margin-right: auto;\" src=\"important_individual_features.png\"/><hr>\n",
       "            <img style=\"display: block; margin-left: auto; margin-right: auto;\" src=\"shooting_analysis.png\"/><hr>\n",
       "            \n",
       "            <br>\n",
       "        </div>\n",
       "        "
      ],
      "text/plain": [
       "<IPython.core.display.HTML object>"
      ]
     },
     "metadata": {},
     "output_type": "display_data"
    }
   ],
   "source": [
    "summarize_everything('MIL', '1997-98 Season')"
   ]
  },
  {
   "cell_type": "code",
   "execution_count": 1187,
   "metadata": {},
   "outputs": [
    {
     "name": "stdout",
     "output_type": "stream",
     "text": [
      "100%|███████████████████████████████████████████████| 80/80 [00:17<00:00,  4.57trial/s, best loss: -0.7947712418300654]\n"
     ]
    },
    {
     "data": {
      "text/html": [
       "\n",
       "        <div style=\"width: 900px;\">\n",
       "            <div style=\"float: left; width: 420px;\"><img src=\"https://www.nbateamslist.com/wp-content/uploads/2013/04/wolves.jpg\"></div>\n",
       "            <div style=\"float: left; width: 480px; text-align: center; margin-top: 30px; font-family:fantasy;font-size:44px;\">Minnesota</div>\n",
       "            <div style=\"float: left; width: 480px; text-align: center; margin-top: 31px; font-family:calibri;font-size:28px;\">Year Founded: <b>1989</b></div>\n",
       "            <div style=\"float: left; width: 480px; text-align: center; margin-top: 32px; font-family:calibri;font-size:28px;\">Team Record: <b>47W - 40L</b></div>\n",
       "            <div style=\"float: left; width: 480px; text-align: center; margin-top: 33px; font-family:calibri;font-size:28px;\">Model Accuracy: <b>79.5%</b></div>\n",
       "            <div style=\"float: left; width: 480px; text-align: center; margin-top: 34px; font-family:calibri;font-size:28px;\">Model ROC-AUC: <b>0.79</b></div>\n",
       "\n",
       "          </div>\n",
       "    "
      ],
      "text/plain": [
       "<IPython.core.display.HTML object>"
      ]
     },
     "metadata": {},
     "output_type": "display_data"
    },
    {
     "name": "stdout",
     "output_type": "stream",
     "text": [
      "100%|███████████████████████████████████████████████| 80/80 [00:20<00:00,  3.91trial/s, best loss: -0.7477124183006536]\n"
     ]
    },
    {
     "data": {
      "text/html": [
       "\n",
       "        <hr>\n",
       "        <div style=\"width: 900px;\">\n",
       "            <img style=\"display: block; margin-left: auto; margin-right: auto;\" src=\"importances_team.png\"/>\n",
       "            \n",
       "            <div class=\"table-responsive\">\n",
       "                      <table class=\"table\">\n",
       "                        <thead>\n",
       "                          <tr>\n",
       "                            <th bgcolor=\"whitesmoke\" style=\"text-align:center\">Factor</th>\n",
       "                            <th bgcolor=\"whitesmoke\" style=\"text-align:center\">MIN</th>\n",
       "                            <th bgcolor=\"whitesmoke\" style=\"text-align:center\">Avg. NBA Team</th>\n",
       "                          </tr>\n",
       "                        </thead>\n",
       "                  <tr>\n",
       "                    <td bgcolor=\"white\" style=\"text-align:center\">Shooting</td>\n",
       "                    <td bgcolor=\"white\" style=\"text-align:center\">59.0</td>\n",
       "                    <td bgcolor=\"white\" style=\"text-align:center\">52.0</td>\n",
       "                  </tr>\n",
       "                  <tr>\n",
       "                    <td bgcolor=\"white\" style=\"text-align:center\">Rebounding</td>\n",
       "                    <td bgcolor=\"white\" style=\"text-align:center\">9.0</td>\n",
       "                    <td bgcolor=\"white\" style=\"text-align:center\">16.0</td>\n",
       "                  </tr>\n",
       "                  <tr>\n",
       "                    <td bgcolor=\"white\" style=\"text-align:center\">Turnovers</td>\n",
       "                    <td bgcolor=\"white\" style=\"text-align:center\">19.0</td>\n",
       "                    <td bgcolor=\"white\" style=\"text-align:center\">21.0</td>\n",
       "                  </tr>\n",
       "                  <tr>\n",
       "                    <td bgcolor=\"white\" style=\"text-align:center\">Free Throws Rate</td>\n",
       "                    <td bgcolor=\"white\" style=\"text-align:center\">13.0</td>\n",
       "                    <td bgcolor=\"white\" style=\"text-align:center\">11.0</td>\n",
       "                  </tr>\n",
       "                  <tr>\n",
       "                    <td bgcolor=\"white\" style=\"text-align:center\"><b>TOTAL</td>\n",
       "                    <td bgcolor=\"white\" style=\"text-align:center\">100</td>\n",
       "                    <td bgcolor=\"white\" style=\"text-align:center\">100</b></td>\n",
       "                  </tr>\n",
       "                </table>\n",
       "                <hr>\n",
       "\n",
       "\n",
       "    \n",
       "            <img style=\"display: block; margin-left: auto; margin-right: auto;\" src=\"important_players.png\"/><hr>\n",
       "            <img style=\"display: block; margin-left: auto; margin-right: auto;\" src=\"important_individual_features.png\"/><hr>\n",
       "            <img style=\"display: block; margin-left: auto; margin-right: auto;\" src=\"shooting_analysis.png\"/><hr>\n",
       "            \n",
       "            <br>\n",
       "        </div>\n",
       "        "
      ],
      "text/plain": [
       "<IPython.core.display.HTML object>"
      ]
     },
     "metadata": {},
     "output_type": "display_data"
    }
   ],
   "source": [
    "summarize_everything('MIN', '1997-98 Season')"
   ]
  },
  {
   "cell_type": "code",
   "execution_count": 1188,
   "metadata": {},
   "outputs": [
    {
     "name": "stdout",
     "output_type": "stream",
     "text": [
      "100%|███████████████████████████████████████████████| 80/80 [00:17<00:00,  4.61trial/s, best loss: -0.6941176470588235]\n"
     ]
    },
    {
     "data": {
      "text/html": [
       "\n",
       "        <div style=\"width: 900px;\">\n",
       "            <div style=\"float: left; width: 420px;\"><img src=\"https://content.sportslogos.net/logos/6/215/full/2hh70mg3h40yl41tzfpn3gha2.gif\"></div>\n",
       "            <div style=\"float: left; width: 480px; text-align: center; margin-top: 30px; font-family:fantasy;font-size:44px;\">New Jersey</div>\n",
       "            <div style=\"float: left; width: 480px; text-align: center; margin-top: 31px; font-family:calibri;font-size:28px;\">Year Founded: <b>1976</b></div>\n",
       "            <div style=\"float: left; width: 480px; text-align: center; margin-top: 32px; font-family:calibri;font-size:28px;\">Team Record: <b>43W - 42L</b></div>\n",
       "            <div style=\"float: left; width: 480px; text-align: center; margin-top: 33px; font-family:calibri;font-size:28px;\">Model Accuracy: <b>69.4%</b></div>\n",
       "            <div style=\"float: left; width: 480px; text-align: center; margin-top: 34px; font-family:calibri;font-size:28px;\">Model ROC-AUC: <b>0.7</b></div>\n",
       "\n",
       "          </div>\n",
       "    "
      ],
      "text/plain": [
       "<IPython.core.display.HTML object>"
      ]
     },
     "metadata": {},
     "output_type": "display_data"
    },
    {
     "name": "stdout",
     "output_type": "stream",
     "text": [
      "100%|███████████████████████████████████████████████| 80/80 [00:20<00:00,  3.88trial/s, best loss: -0.6470588235294117]\n"
     ]
    },
    {
     "data": {
      "text/html": [
       "\n",
       "        <hr>\n",
       "        <div style=\"width: 900px;\">\n",
       "            <img style=\"display: block; margin-left: auto; margin-right: auto;\" src=\"importances_team.png\"/>\n",
       "            \n",
       "            <div class=\"table-responsive\">\n",
       "                      <table class=\"table\">\n",
       "                        <thead>\n",
       "                          <tr>\n",
       "                            <th bgcolor=\"whitesmoke\" style=\"text-align:center\">Factor</th>\n",
       "                            <th bgcolor=\"whitesmoke\" style=\"text-align:center\">NJN</th>\n",
       "                            <th bgcolor=\"whitesmoke\" style=\"text-align:center\">Avg. NBA Team</th>\n",
       "                          </tr>\n",
       "                        </thead>\n",
       "                  <tr>\n",
       "                    <td bgcolor=\"white\" style=\"text-align:center\">Shooting</td>\n",
       "                    <td bgcolor=\"white\" style=\"text-align:center\">49.0</td>\n",
       "                    <td bgcolor=\"white\" style=\"text-align:center\">52.0</td>\n",
       "                  </tr>\n",
       "                  <tr>\n",
       "                    <td bgcolor=\"white\" style=\"text-align:center\">Rebounding</td>\n",
       "                    <td bgcolor=\"white\" style=\"text-align:center\">17.0</td>\n",
       "                    <td bgcolor=\"white\" style=\"text-align:center\">16.0</td>\n",
       "                  </tr>\n",
       "                  <tr>\n",
       "                    <td bgcolor=\"white\" style=\"text-align:center\">Turnovers</td>\n",
       "                    <td bgcolor=\"white\" style=\"text-align:center\">12.0</td>\n",
       "                    <td bgcolor=\"white\" style=\"text-align:center\">21.0</td>\n",
       "                  </tr>\n",
       "                  <tr>\n",
       "                    <td bgcolor=\"white\" style=\"text-align:center\">Free Throws Rate</td>\n",
       "                    <td bgcolor=\"white\" style=\"text-align:center\">22.0</td>\n",
       "                    <td bgcolor=\"white\" style=\"text-align:center\">11.0</td>\n",
       "                  </tr>\n",
       "                  <tr>\n",
       "                    <td bgcolor=\"white\" style=\"text-align:center\"><b>TOTAL</td>\n",
       "                    <td bgcolor=\"white\" style=\"text-align:center\">100</td>\n",
       "                    <td bgcolor=\"white\" style=\"text-align:center\">100</b></td>\n",
       "                  </tr>\n",
       "                </table>\n",
       "                <hr>\n",
       "\n",
       "\n",
       "    \n",
       "            <img style=\"display: block; margin-left: auto; margin-right: auto;\" src=\"important_players.png\"/><hr>\n",
       "            <img style=\"display: block; margin-left: auto; margin-right: auto;\" src=\"important_individual_features.png\"/><hr>\n",
       "            <img style=\"display: block; margin-left: auto; margin-right: auto;\" src=\"shooting_analysis.png\"/><hr>\n",
       "            \n",
       "            <br>\n",
       "        </div>\n",
       "        "
      ],
      "text/plain": [
       "<IPython.core.display.HTML object>"
      ]
     },
     "metadata": {},
     "output_type": "display_data"
    }
   ],
   "source": [
    "summarize_everything('NJN', '1997-98 Season')"
   ]
  },
  {
   "cell_type": "code",
   "execution_count": 1189,
   "metadata": {},
   "outputs": [
    {
     "name": "stdout",
     "output_type": "stream",
     "text": [
      "100%|███████████████████████████████████████████████| 80/80 [00:17<00:00,  4.49trial/s, best loss: -0.7847953216374269]\n"
     ]
    },
    {
     "data": {
      "text/html": [
       "\n",
       "        <div style=\"width: 900px;\">\n",
       "            <div style=\"float: left; width: 420px;\"><img src=\"https://images.homedepot-static.com/productImages/46d9d86f-e257-4ac6-8d71-2a3e120c7be7/svn/orange-applied-icon-wall-decals-nbop2003-64_1000.jpg\"></div>\n",
       "            <div style=\"float: left; width: 480px; text-align: center; margin-top: 30px; font-family:fantasy;font-size:44px;\">New York</div>\n",
       "            <div style=\"float: left; width: 480px; text-align: center; margin-top: 31px; font-family:calibri;font-size:28px;\">Year Founded: <b>1946</b></div>\n",
       "            <div style=\"float: left; width: 480px; text-align: center; margin-top: 32px; font-family:calibri;font-size:28px;\">Team Record: <b>44W - 48L</b></div>\n",
       "            <div style=\"float: left; width: 480px; text-align: center; margin-top: 33px; font-family:calibri;font-size:28px;\">Model Accuracy: <b>78.5%</b></div>\n",
       "            <div style=\"float: left; width: 480px; text-align: center; margin-top: 34px; font-family:calibri;font-size:28px;\">Model ROC-AUC: <b>0.87</b></div>\n",
       "\n",
       "          </div>\n",
       "    "
      ],
      "text/plain": [
       "<IPython.core.display.HTML object>"
      ]
     },
     "metadata": {},
     "output_type": "display_data"
    },
    {
     "name": "stdout",
     "output_type": "stream",
     "text": [
      "100%|███████████████████████████████████████████████| 80/80 [00:20<00:00,  3.90trial/s, best loss: -0.7415204678362574]\n"
     ]
    },
    {
     "data": {
      "text/html": [
       "\n",
       "        <hr>\n",
       "        <div style=\"width: 900px;\">\n",
       "            <img style=\"display: block; margin-left: auto; margin-right: auto;\" src=\"importances_team.png\"/>\n",
       "            \n",
       "            <div class=\"table-responsive\">\n",
       "                      <table class=\"table\">\n",
       "                        <thead>\n",
       "                          <tr>\n",
       "                            <th bgcolor=\"whitesmoke\" style=\"text-align:center\">Factor</th>\n",
       "                            <th bgcolor=\"whitesmoke\" style=\"text-align:center\">NYK</th>\n",
       "                            <th bgcolor=\"whitesmoke\" style=\"text-align:center\">Avg. NBA Team</th>\n",
       "                          </tr>\n",
       "                        </thead>\n",
       "                  <tr>\n",
       "                    <td bgcolor=\"white\" style=\"text-align:center\">Shooting</td>\n",
       "                    <td bgcolor=\"white\" style=\"text-align:center\">59.0</td>\n",
       "                    <td bgcolor=\"white\" style=\"text-align:center\">52.0</td>\n",
       "                  </tr>\n",
       "                  <tr>\n",
       "                    <td bgcolor=\"white\" style=\"text-align:center\">Rebounding</td>\n",
       "                    <td bgcolor=\"white\" style=\"text-align:center\">15.0</td>\n",
       "                    <td bgcolor=\"white\" style=\"text-align:center\">16.0</td>\n",
       "                  </tr>\n",
       "                  <tr>\n",
       "                    <td bgcolor=\"white\" style=\"text-align:center\">Turnovers</td>\n",
       "                    <td bgcolor=\"white\" style=\"text-align:center\">17.0</td>\n",
       "                    <td bgcolor=\"white\" style=\"text-align:center\">21.0</td>\n",
       "                  </tr>\n",
       "                  <tr>\n",
       "                    <td bgcolor=\"white\" style=\"text-align:center\">Free Throws Rate</td>\n",
       "                    <td bgcolor=\"white\" style=\"text-align:center\">9.0</td>\n",
       "                    <td bgcolor=\"white\" style=\"text-align:center\">11.0</td>\n",
       "                  </tr>\n",
       "                  <tr>\n",
       "                    <td bgcolor=\"white\" style=\"text-align:center\"><b>TOTAL</td>\n",
       "                    <td bgcolor=\"white\" style=\"text-align:center\">100</td>\n",
       "                    <td bgcolor=\"white\" style=\"text-align:center\">100</b></td>\n",
       "                  </tr>\n",
       "                </table>\n",
       "                <hr>\n",
       "\n",
       "\n",
       "    \n",
       "            <img style=\"display: block; margin-left: auto; margin-right: auto;\" src=\"important_players.png\"/><hr>\n",
       "            <img style=\"display: block; margin-left: auto; margin-right: auto;\" src=\"important_individual_features.png\"/><hr>\n",
       "            <img style=\"display: block; margin-left: auto; margin-right: auto;\" src=\"shooting_analysis.png\"/><hr>\n",
       "            \n",
       "            <br>\n",
       "        </div>\n",
       "        "
      ],
      "text/plain": [
       "<IPython.core.display.HTML object>"
      ]
     },
     "metadata": {},
     "output_type": "display_data"
    }
   ],
   "source": [
    "summarize_everything('NYK', '1997-98 Season')"
   ]
  },
  {
   "cell_type": "code",
   "execution_count": 1190,
   "metadata": {},
   "outputs": [
    {
     "name": "stdout",
     "output_type": "stream",
     "text": [
      "100%|███████████████████████████████████████████████| 80/80 [00:17<00:00,  4.67trial/s, best loss: -0.8897058823529411]\n"
     ]
    },
    {
     "data": {
      "text/html": [
       "\n",
       "        <div style=\"width: 900px;\">\n",
       "            <div style=\"float: left; width: 420px;\"><img src=\"https://www.michael-weinstein.com/wp-content/uploads/2015/12/orlando_magic_logo-2000-2010.png\"></div>\n",
       "            <div style=\"float: left; width: 480px; text-align: center; margin-top: 30px; font-family:fantasy;font-size:44px;\">Orlando</div>\n",
       "            <div style=\"float: left; width: 480px; text-align: center; margin-top: 31px; font-family:calibri;font-size:28px;\">Year Founded: <b>1989</b></div>\n",
       "            <div style=\"float: left; width: 480px; text-align: center; margin-top: 32px; font-family:calibri;font-size:28px;\">Team Record: <b>41W - 41L</b></div>\n",
       "            <div style=\"float: left; width: 480px; text-align: center; margin-top: 33px; font-family:calibri;font-size:28px;\">Model Accuracy: <b>89.0%</b></div>\n",
       "            <div style=\"float: left; width: 480px; text-align: center; margin-top: 34px; font-family:calibri;font-size:28px;\">Model ROC-AUC: <b>0.89</b></div>\n",
       "\n",
       "          </div>\n",
       "    "
      ],
      "text/plain": [
       "<IPython.core.display.HTML object>"
      ]
     },
     "metadata": {},
     "output_type": "display_data"
    },
    {
     "name": "stdout",
     "output_type": "stream",
     "text": [
      "100%|███████████████████████████████████████████████| 80/80 [00:20<00:00,  3.93trial/s, best loss: -0.7683823529411764]\n"
     ]
    },
    {
     "data": {
      "text/html": [
       "\n",
       "        <hr>\n",
       "        <div style=\"width: 900px;\">\n",
       "            <img style=\"display: block; margin-left: auto; margin-right: auto;\" src=\"importances_team.png\"/>\n",
       "            \n",
       "            <div class=\"table-responsive\">\n",
       "                      <table class=\"table\">\n",
       "                        <thead>\n",
       "                          <tr>\n",
       "                            <th bgcolor=\"whitesmoke\" style=\"text-align:center\">Factor</th>\n",
       "                            <th bgcolor=\"whitesmoke\" style=\"text-align:center\">ORL</th>\n",
       "                            <th bgcolor=\"whitesmoke\" style=\"text-align:center\">Avg. NBA Team</th>\n",
       "                          </tr>\n",
       "                        </thead>\n",
       "                  <tr>\n",
       "                    <td bgcolor=\"white\" style=\"text-align:center\">Shooting</td>\n",
       "                    <td bgcolor=\"white\" style=\"text-align:center\">60.0</td>\n",
       "                    <td bgcolor=\"white\" style=\"text-align:center\">52.0</td>\n",
       "                  </tr>\n",
       "                  <tr>\n",
       "                    <td bgcolor=\"white\" style=\"text-align:center\">Rebounding</td>\n",
       "                    <td bgcolor=\"white\" style=\"text-align:center\">17.0</td>\n",
       "                    <td bgcolor=\"white\" style=\"text-align:center\">16.0</td>\n",
       "                  </tr>\n",
       "                  <tr>\n",
       "                    <td bgcolor=\"white\" style=\"text-align:center\">Turnovers</td>\n",
       "                    <td bgcolor=\"white\" style=\"text-align:center\">11.0</td>\n",
       "                    <td bgcolor=\"white\" style=\"text-align:center\">21.0</td>\n",
       "                  </tr>\n",
       "                  <tr>\n",
       "                    <td bgcolor=\"white\" style=\"text-align:center\">Free Throws Rate</td>\n",
       "                    <td bgcolor=\"white\" style=\"text-align:center\">13.0</td>\n",
       "                    <td bgcolor=\"white\" style=\"text-align:center\">11.0</td>\n",
       "                  </tr>\n",
       "                  <tr>\n",
       "                    <td bgcolor=\"white\" style=\"text-align:center\"><b>TOTAL</td>\n",
       "                    <td bgcolor=\"white\" style=\"text-align:center\">100</td>\n",
       "                    <td bgcolor=\"white\" style=\"text-align:center\">100</b></td>\n",
       "                  </tr>\n",
       "                </table>\n",
       "                <hr>\n",
       "\n",
       "\n",
       "    \n",
       "            <img style=\"display: block; margin-left: auto; margin-right: auto;\" src=\"important_players.png\"/><hr>\n",
       "            <img style=\"display: block; margin-left: auto; margin-right: auto;\" src=\"important_individual_features.png\"/><hr>\n",
       "            <img style=\"display: block; margin-left: auto; margin-right: auto;\" src=\"shooting_analysis.png\"/><hr>\n",
       "            \n",
       "            <br>\n",
       "        </div>\n",
       "        "
      ],
      "text/plain": [
       "<IPython.core.display.HTML object>"
      ]
     },
     "metadata": {},
     "output_type": "display_data"
    }
   ],
   "source": [
    "summarize_everything('ORL', '1997-98 Season')"
   ]
  },
  {
   "cell_type": "code",
   "execution_count": 1192,
   "metadata": {},
   "outputs": [
    {
     "name": "stdout",
     "output_type": "stream",
     "text": [
      "100%|███████████████████████████████████████████████| 80/80 [00:17<00:00,  4.58trial/s, best loss: -0.8029411764705883]\n"
     ]
    },
    {
     "data": {
      "text/html": [
       "\n",
       "        <div style=\"width: 900px;\">\n",
       "            <div style=\"float: left; width: 420px;\"><img src=\"https://i.pinimg.com/736x/b6/af/a0/b6afa094187bb5ad27cd316ed4addd6c.jpg\"></div>\n",
       "            <div style=\"float: left; width: 480px; text-align: center; margin-top: 30px; font-family:fantasy;font-size:44px;\">Philadelphia</div>\n",
       "            <div style=\"float: left; width: 480px; text-align: center; margin-top: 31px; font-family:calibri;font-size:28px;\">Year Founded: <b>1949</b></div>\n",
       "            <div style=\"float: left; width: 480px; text-align: center; margin-top: 32px; font-family:calibri;font-size:28px;\">Team Record: <b>31W - 51L</b></div>\n",
       "            <div style=\"float: left; width: 480px; text-align: center; margin-top: 33px; font-family:calibri;font-size:28px;\">Model Accuracy: <b>80.3%</b></div>\n",
       "            <div style=\"float: left; width: 480px; text-align: center; margin-top: 34px; font-family:calibri;font-size:28px;\">Model ROC-AUC: <b>0.82</b></div>\n",
       "\n",
       "          </div>\n",
       "    "
      ],
      "text/plain": [
       "<IPython.core.display.HTML object>"
      ]
     },
     "metadata": {},
     "output_type": "display_data"
    },
    {
     "name": "stdout",
     "output_type": "stream",
     "text": [
      "100%|███████████████████████████████████████████████| 80/80 [00:21<00:00,  3.81trial/s, best loss: -0.7808823529411765]\n"
     ]
    },
    {
     "data": {
      "text/html": [
       "\n",
       "        <hr>\n",
       "        <div style=\"width: 900px;\">\n",
       "            <img style=\"display: block; margin-left: auto; margin-right: auto;\" src=\"importances_team.png\"/>\n",
       "            \n",
       "            <div class=\"table-responsive\">\n",
       "                      <table class=\"table\">\n",
       "                        <thead>\n",
       "                          <tr>\n",
       "                            <th bgcolor=\"whitesmoke\" style=\"text-align:center\">Factor</th>\n",
       "                            <th bgcolor=\"whitesmoke\" style=\"text-align:center\">PHI</th>\n",
       "                            <th bgcolor=\"whitesmoke\" style=\"text-align:center\">Avg. NBA Team</th>\n",
       "                          </tr>\n",
       "                        </thead>\n",
       "                  <tr>\n",
       "                    <td bgcolor=\"white\" style=\"text-align:center\">Shooting</td>\n",
       "                    <td bgcolor=\"white\" style=\"text-align:center\">48.0</td>\n",
       "                    <td bgcolor=\"white\" style=\"text-align:center\">52.0</td>\n",
       "                  </tr>\n",
       "                  <tr>\n",
       "                    <td bgcolor=\"white\" style=\"text-align:center\">Rebounding</td>\n",
       "                    <td bgcolor=\"white\" style=\"text-align:center\">14.0</td>\n",
       "                    <td bgcolor=\"white\" style=\"text-align:center\">16.0</td>\n",
       "                  </tr>\n",
       "                  <tr>\n",
       "                    <td bgcolor=\"white\" style=\"text-align:center\">Turnovers</td>\n",
       "                    <td bgcolor=\"white\" style=\"text-align:center\">26.0</td>\n",
       "                    <td bgcolor=\"white\" style=\"text-align:center\">21.0</td>\n",
       "                  </tr>\n",
       "                  <tr>\n",
       "                    <td bgcolor=\"white\" style=\"text-align:center\">Free Throws Rate</td>\n",
       "                    <td bgcolor=\"white\" style=\"text-align:center\">11.0</td>\n",
       "                    <td bgcolor=\"white\" style=\"text-align:center\">11.0</td>\n",
       "                  </tr>\n",
       "                  <tr>\n",
       "                    <td bgcolor=\"white\" style=\"text-align:center\"><b>TOTAL</td>\n",
       "                    <td bgcolor=\"white\" style=\"text-align:center\">100</td>\n",
       "                    <td bgcolor=\"white\" style=\"text-align:center\">100</b></td>\n",
       "                  </tr>\n",
       "                </table>\n",
       "                <hr>\n",
       "\n",
       "\n",
       "    \n",
       "            <img style=\"display: block; margin-left: auto; margin-right: auto;\" src=\"important_players.png\"/><hr>\n",
       "            <img style=\"display: block; margin-left: auto; margin-right: auto;\" src=\"important_individual_features.png\"/><hr>\n",
       "            <img style=\"display: block; margin-left: auto; margin-right: auto;\" src=\"shooting_analysis.png\"/><hr>\n",
       "            \n",
       "            <br>\n",
       "        </div>\n",
       "        "
      ],
      "text/plain": [
       "<IPython.core.display.HTML object>"
      ]
     },
     "metadata": {},
     "output_type": "display_data"
    }
   ],
   "source": [
    "summarize_everything('PHI', '1997-98 Season')"
   ]
  },
  {
   "cell_type": "code",
   "execution_count": 1193,
   "metadata": {},
   "outputs": [
    {
     "name": "stdout",
     "output_type": "stream",
     "text": [
      "100%|███████████████████████████████████████████████| 80/80 [00:17<00:00,  4.56trial/s, best loss: -0.8718954248366014]\n"
     ]
    },
    {
     "data": {
      "text/html": [
       "\n",
       "        <div style=\"width: 900px;\">\n",
       "            <div style=\"float: left; width: 420px;\"><img src=\"https://encrypted-tbn0.gstatic.com/images?q=tbn:ANd9GcTiCALqbXwR29WVCXIzQdL7SCpk2wP6nf8hOA&usqp=CAU\"></div>\n",
       "            <div style=\"float: left; width: 480px; text-align: center; margin-top: 30px; font-family:fantasy;font-size:44px;\">Phoenix</div>\n",
       "            <div style=\"float: left; width: 480px; text-align: center; margin-top: 31px; font-family:calibri;font-size:28px;\">Year Founded: <b>1968</b></div>\n",
       "            <div style=\"float: left; width: 480px; text-align: center; margin-top: 32px; font-family:calibri;font-size:28px;\">Team Record: <b>57W - 29L</b></div>\n",
       "            <div style=\"float: left; width: 480px; text-align: center; margin-top: 33px; font-family:calibri;font-size:28px;\">Model Accuracy: <b>87.2%</b></div>\n",
       "            <div style=\"float: left; width: 480px; text-align: center; margin-top: 34px; font-family:calibri;font-size:28px;\">Model ROC-AUC: <b>0.91</b></div>\n",
       "\n",
       "          </div>\n",
       "    "
      ],
      "text/plain": [
       "<IPython.core.display.HTML object>"
      ]
     },
     "metadata": {},
     "output_type": "display_data"
    },
    {
     "name": "stdout",
     "output_type": "stream",
     "text": [
      "100%|███████████████████████████████████████████████| 80/80 [00:20<00:00,  3.94trial/s, best loss: -0.8366013071895424]\n"
     ]
    },
    {
     "data": {
      "text/html": [
       "\n",
       "        <hr>\n",
       "        <div style=\"width: 900px;\">\n",
       "            <img style=\"display: block; margin-left: auto; margin-right: auto;\" src=\"importances_team.png\"/>\n",
       "            \n",
       "            <div class=\"table-responsive\">\n",
       "                      <table class=\"table\">\n",
       "                        <thead>\n",
       "                          <tr>\n",
       "                            <th bgcolor=\"whitesmoke\" style=\"text-align:center\">Factor</th>\n",
       "                            <th bgcolor=\"whitesmoke\" style=\"text-align:center\">PHX</th>\n",
       "                            <th bgcolor=\"whitesmoke\" style=\"text-align:center\">Avg. NBA Team</th>\n",
       "                          </tr>\n",
       "                        </thead>\n",
       "                  <tr>\n",
       "                    <td bgcolor=\"white\" style=\"text-align:center\">Shooting</td>\n",
       "                    <td bgcolor=\"white\" style=\"text-align:center\">55.0</td>\n",
       "                    <td bgcolor=\"white\" style=\"text-align:center\">52.0</td>\n",
       "                  </tr>\n",
       "                  <tr>\n",
       "                    <td bgcolor=\"white\" style=\"text-align:center\">Rebounding</td>\n",
       "                    <td bgcolor=\"white\" style=\"text-align:center\">11.0</td>\n",
       "                    <td bgcolor=\"white\" style=\"text-align:center\">16.0</td>\n",
       "                  </tr>\n",
       "                  <tr>\n",
       "                    <td bgcolor=\"white\" style=\"text-align:center\">Turnovers</td>\n",
       "                    <td bgcolor=\"white\" style=\"text-align:center\">22.0</td>\n",
       "                    <td bgcolor=\"white\" style=\"text-align:center\">21.0</td>\n",
       "                  </tr>\n",
       "                  <tr>\n",
       "                    <td bgcolor=\"white\" style=\"text-align:center\">Free Throws Rate</td>\n",
       "                    <td bgcolor=\"white\" style=\"text-align:center\">13.0</td>\n",
       "                    <td bgcolor=\"white\" style=\"text-align:center\">11.0</td>\n",
       "                  </tr>\n",
       "                  <tr>\n",
       "                    <td bgcolor=\"white\" style=\"text-align:center\"><b>TOTAL</td>\n",
       "                    <td bgcolor=\"white\" style=\"text-align:center\">100</td>\n",
       "                    <td bgcolor=\"white\" style=\"text-align:center\">100</b></td>\n",
       "                  </tr>\n",
       "                </table>\n",
       "                <hr>\n",
       "\n",
       "\n",
       "    \n",
       "            <img style=\"display: block; margin-left: auto; margin-right: auto;\" src=\"important_players.png\"/><hr>\n",
       "            <img style=\"display: block; margin-left: auto; margin-right: auto;\" src=\"important_individual_features.png\"/><hr>\n",
       "            <img style=\"display: block; margin-left: auto; margin-right: auto;\" src=\"shooting_analysis.png\"/><hr>\n",
       "            \n",
       "            <br>\n",
       "        </div>\n",
       "        "
      ],
      "text/plain": [
       "<IPython.core.display.HTML object>"
      ]
     },
     "metadata": {},
     "output_type": "display_data"
    }
   ],
   "source": [
    "summarize_everything('PHX', '1997-98 Season')"
   ]
  },
  {
   "cell_type": "code",
   "execution_count": 1194,
   "metadata": {},
   "outputs": [
    {
     "name": "stdout",
     "output_type": "stream",
     "text": [
      "100%|███████████████████████████████████████████████| 80/80 [00:17<00:00,  4.55trial/s, best loss: -0.8026143790849674]\n"
     ]
    },
    {
     "data": {
      "text/html": [
       "\n",
       "        <div style=\"width: 900px;\">\n",
       "            <div style=\"float: left; width: 420px;\"><img src=\"https://logonoid.com/images/portland-trail-blazers-logo.gif\"></div>\n",
       "            <div style=\"float: left; width: 480px; text-align: center; margin-top: 30px; font-family:fantasy;font-size:44px;\">Portland</div>\n",
       "            <div style=\"float: left; width: 480px; text-align: center; margin-top: 31px; font-family:calibri;font-size:28px;\">Year Founded: <b>1970</b></div>\n",
       "            <div style=\"float: left; width: 480px; text-align: center; margin-top: 32px; font-family:calibri;font-size:28px;\">Team Record: <b>47W - 39L</b></div>\n",
       "            <div style=\"float: left; width: 480px; text-align: center; margin-top: 33px; font-family:calibri;font-size:28px;\">Model Accuracy: <b>80.3%</b></div>\n",
       "            <div style=\"float: left; width: 480px; text-align: center; margin-top: 34px; font-family:calibri;font-size:28px;\">Model ROC-AUC: <b>0.87</b></div>\n",
       "\n",
       "          </div>\n",
       "    "
      ],
      "text/plain": [
       "<IPython.core.display.HTML object>"
      ]
     },
     "metadata": {},
     "output_type": "display_data"
    },
    {
     "name": "stdout",
     "output_type": "stream",
     "text": [
      "100%|███████████████████████████████████████████████| 80/80 [00:21<00:00,  3.79trial/s, best loss: -0.7098039215686274]\n"
     ]
    },
    {
     "data": {
      "text/html": [
       "\n",
       "        <hr>\n",
       "        <div style=\"width: 900px;\">\n",
       "            <img style=\"display: block; margin-left: auto; margin-right: auto;\" src=\"importances_team.png\"/>\n",
       "            \n",
       "            <div class=\"table-responsive\">\n",
       "                      <table class=\"table\">\n",
       "                        <thead>\n",
       "                          <tr>\n",
       "                            <th bgcolor=\"whitesmoke\" style=\"text-align:center\">Factor</th>\n",
       "                            <th bgcolor=\"whitesmoke\" style=\"text-align:center\">POR</th>\n",
       "                            <th bgcolor=\"whitesmoke\" style=\"text-align:center\">Avg. NBA Team</th>\n",
       "                          </tr>\n",
       "                        </thead>\n",
       "                  <tr>\n",
       "                    <td bgcolor=\"white\" style=\"text-align:center\">Shooting</td>\n",
       "                    <td bgcolor=\"white\" style=\"text-align:center\">60.0</td>\n",
       "                    <td bgcolor=\"white\" style=\"text-align:center\">52.0</td>\n",
       "                  </tr>\n",
       "                  <tr>\n",
       "                    <td bgcolor=\"white\" style=\"text-align:center\">Rebounding</td>\n",
       "                    <td bgcolor=\"white\" style=\"text-align:center\">15.0</td>\n",
       "                    <td bgcolor=\"white\" style=\"text-align:center\">16.0</td>\n",
       "                  </tr>\n",
       "                  <tr>\n",
       "                    <td bgcolor=\"white\" style=\"text-align:center\">Turnovers</td>\n",
       "                    <td bgcolor=\"white\" style=\"text-align:center\">10.0</td>\n",
       "                    <td bgcolor=\"white\" style=\"text-align:center\">21.0</td>\n",
       "                  </tr>\n",
       "                  <tr>\n",
       "                    <td bgcolor=\"white\" style=\"text-align:center\">Free Throws Rate</td>\n",
       "                    <td bgcolor=\"white\" style=\"text-align:center\">15.0</td>\n",
       "                    <td bgcolor=\"white\" style=\"text-align:center\">11.0</td>\n",
       "                  </tr>\n",
       "                  <tr>\n",
       "                    <td bgcolor=\"white\" style=\"text-align:center\"><b>TOTAL</td>\n",
       "                    <td bgcolor=\"white\" style=\"text-align:center\">100</td>\n",
       "                    <td bgcolor=\"white\" style=\"text-align:center\">100</b></td>\n",
       "                  </tr>\n",
       "                </table>\n",
       "                <hr>\n",
       "\n",
       "\n",
       "    \n",
       "            <img style=\"display: block; margin-left: auto; margin-right: auto;\" src=\"important_players.png\"/><hr>\n",
       "            <img style=\"display: block; margin-left: auto; margin-right: auto;\" src=\"important_individual_features.png\"/><hr>\n",
       "            <img style=\"display: block; margin-left: auto; margin-right: auto;\" src=\"shooting_analysis.png\"/><hr>\n",
       "            \n",
       "            <br>\n",
       "        </div>\n",
       "        "
      ],
      "text/plain": [
       "<IPython.core.display.HTML object>"
      ]
     },
     "metadata": {},
     "output_type": "display_data"
    }
   ],
   "source": [
    "summarize_everything('POR', '1997-98 Season')"
   ]
  },
  {
   "cell_type": "code",
   "execution_count": 1195,
   "metadata": {},
   "outputs": [
    {
     "name": "stdout",
     "output_type": "stream",
     "text": [
      "100%|███████████████████████████████████████████████| 80/80 [00:17<00:00,  4.63trial/s, best loss: -0.8536764705882354]\n"
     ]
    },
    {
     "data": {
      "text/html": [
       "\n",
       "        <div style=\"width: 900px;\">\n",
       "            <div style=\"float: left; width: 420px;\"><img src=\"https://www.nba.com/kings/sites/kings/files/10_-_sacramento.png\"></div>\n",
       "            <div style=\"float: left; width: 480px; text-align: center; margin-top: 30px; font-family:fantasy;font-size:44px;\">Sacramento</div>\n",
       "            <div style=\"float: left; width: 480px; text-align: center; margin-top: 31px; font-family:calibri;font-size:28px;\">Year Founded: <b>1948</b></div>\n",
       "            <div style=\"float: left; width: 480px; text-align: center; margin-top: 32px; font-family:calibri;font-size:28px;\">Team Record: <b>27W - 55L</b></div>\n",
       "            <div style=\"float: left; width: 480px; text-align: center; margin-top: 33px; font-family:calibri;font-size:28px;\">Model Accuracy: <b>85.4%</b></div>\n",
       "            <div style=\"float: left; width: 480px; text-align: center; margin-top: 34px; font-family:calibri;font-size:28px;\">Model ROC-AUC: <b>0.89</b></div>\n",
       "\n",
       "          </div>\n",
       "    "
      ],
      "text/plain": [
       "<IPython.core.display.HTML object>"
      ]
     },
     "metadata": {},
     "output_type": "display_data"
    },
    {
     "name": "stdout",
     "output_type": "stream",
     "text": [
      "100%|███████████████████████████████████████████████| 80/80 [00:21<00:00,  3.78trial/s, best loss: -0.8536764705882354]\n"
     ]
    },
    {
     "data": {
      "text/html": [
       "\n",
       "        <hr>\n",
       "        <div style=\"width: 900px;\">\n",
       "            <img style=\"display: block; margin-left: auto; margin-right: auto;\" src=\"importances_team.png\"/>\n",
       "            \n",
       "            <div class=\"table-responsive\">\n",
       "                      <table class=\"table\">\n",
       "                        <thead>\n",
       "                          <tr>\n",
       "                            <th bgcolor=\"whitesmoke\" style=\"text-align:center\">Factor</th>\n",
       "                            <th bgcolor=\"whitesmoke\" style=\"text-align:center\">SAC</th>\n",
       "                            <th bgcolor=\"whitesmoke\" style=\"text-align:center\">Avg. NBA Team</th>\n",
       "                          </tr>\n",
       "                        </thead>\n",
       "                  <tr>\n",
       "                    <td bgcolor=\"white\" style=\"text-align:center\">Shooting</td>\n",
       "                    <td bgcolor=\"white\" style=\"text-align:center\">55.0</td>\n",
       "                    <td bgcolor=\"white\" style=\"text-align:center\">52.0</td>\n",
       "                  </tr>\n",
       "                  <tr>\n",
       "                    <td bgcolor=\"white\" style=\"text-align:center\">Rebounding</td>\n",
       "                    <td bgcolor=\"white\" style=\"text-align:center\">22.0</td>\n",
       "                    <td bgcolor=\"white\" style=\"text-align:center\">16.0</td>\n",
       "                  </tr>\n",
       "                  <tr>\n",
       "                    <td bgcolor=\"white\" style=\"text-align:center\">Turnovers</td>\n",
       "                    <td bgcolor=\"white\" style=\"text-align:center\">16.0</td>\n",
       "                    <td bgcolor=\"white\" style=\"text-align:center\">21.0</td>\n",
       "                  </tr>\n",
       "                  <tr>\n",
       "                    <td bgcolor=\"white\" style=\"text-align:center\">Free Throws Rate</td>\n",
       "                    <td bgcolor=\"white\" style=\"text-align:center\">8.0</td>\n",
       "                    <td bgcolor=\"white\" style=\"text-align:center\">11.0</td>\n",
       "                  </tr>\n",
       "                  <tr>\n",
       "                    <td bgcolor=\"white\" style=\"text-align:center\"><b>TOTAL</td>\n",
       "                    <td bgcolor=\"white\" style=\"text-align:center\">100</td>\n",
       "                    <td bgcolor=\"white\" style=\"text-align:center\">100</b></td>\n",
       "                  </tr>\n",
       "                </table>\n",
       "                <hr>\n",
       "\n",
       "\n",
       "    \n",
       "            <img style=\"display: block; margin-left: auto; margin-right: auto;\" src=\"important_players.png\"/><hr>\n",
       "            <img style=\"display: block; margin-left: auto; margin-right: auto;\" src=\"important_individual_features.png\"/><hr>\n",
       "            <img style=\"display: block; margin-left: auto; margin-right: auto;\" src=\"shooting_analysis.png\"/><hr>\n",
       "            \n",
       "            <br>\n",
       "        </div>\n",
       "        "
      ],
      "text/plain": [
       "<IPython.core.display.HTML object>"
      ]
     },
     "metadata": {},
     "output_type": "display_data"
    }
   ],
   "source": [
    "summarize_everything('SAC', '1997-98 Season')"
   ]
  },
  {
   "cell_type": "code",
   "execution_count": 1196,
   "metadata": {},
   "outputs": [
    {
     "name": "stdout",
     "output_type": "stream",
     "text": [
      "100%|███████████████████████████████████████████████| 80/80 [00:17<00:00,  4.53trial/s, best loss: -0.8578947368421052]\n"
     ]
    },
    {
     "data": {
      "text/html": [
       "\n",
       "        <div style=\"width: 900px;\">\n",
       "            <div style=\"float: left; width: 420px;\"><img src=\"https://content.sportslogos.net/logos/6/233/full/e04ylwkfdofkr2ctlerjov26s.png\"></div>\n",
       "            <div style=\"float: left; width: 480px; text-align: center; margin-top: 30px; font-family:fantasy;font-size:44px;\">San Antonio</div>\n",
       "            <div style=\"float: left; width: 480px; text-align: center; margin-top: 31px; font-family:calibri;font-size:28px;\">Year Founded: <b>1976</b></div>\n",
       "            <div style=\"float: left; width: 480px; text-align: center; margin-top: 32px; font-family:calibri;font-size:28px;\">Team Record: <b>60W - 31L</b></div>\n",
       "            <div style=\"float: left; width: 480px; text-align: center; margin-top: 33px; font-family:calibri;font-size:28px;\">Model Accuracy: <b>85.8%</b></div>\n",
       "            <div style=\"float: left; width: 480px; text-align: center; margin-top: 34px; font-family:calibri;font-size:28px;\">Model ROC-AUC: <b>0.88</b></div>\n",
       "\n",
       "          </div>\n",
       "    "
      ],
      "text/plain": [
       "<IPython.core.display.HTML object>"
      ]
     },
     "metadata": {},
     "output_type": "display_data"
    },
    {
     "name": "stdout",
     "output_type": "stream",
     "text": [
      "100%|███████████████████████████████████████████████| 80/80 [00:21<00:00,  3.77trial/s, best loss: -0.8456140350877194]\n"
     ]
    },
    {
     "data": {
      "text/html": [
       "\n",
       "        <hr>\n",
       "        <div style=\"width: 900px;\">\n",
       "            <img style=\"display: block; margin-left: auto; margin-right: auto;\" src=\"importances_team.png\"/>\n",
       "            \n",
       "            <div class=\"table-responsive\">\n",
       "                      <table class=\"table\">\n",
       "                        <thead>\n",
       "                          <tr>\n",
       "                            <th bgcolor=\"whitesmoke\" style=\"text-align:center\">Factor</th>\n",
       "                            <th bgcolor=\"whitesmoke\" style=\"text-align:center\">SAS</th>\n",
       "                            <th bgcolor=\"whitesmoke\" style=\"text-align:center\">Avg. NBA Team</th>\n",
       "                          </tr>\n",
       "                        </thead>\n",
       "                  <tr>\n",
       "                    <td bgcolor=\"white\" style=\"text-align:center\">Shooting</td>\n",
       "                    <td bgcolor=\"white\" style=\"text-align:center\">71.0</td>\n",
       "                    <td bgcolor=\"white\" style=\"text-align:center\">52.0</td>\n",
       "                  </tr>\n",
       "                  <tr>\n",
       "                    <td bgcolor=\"white\" style=\"text-align:center\">Rebounding</td>\n",
       "                    <td bgcolor=\"white\" style=\"text-align:center\">12.0</td>\n",
       "                    <td bgcolor=\"white\" style=\"text-align:center\">16.0</td>\n",
       "                  </tr>\n",
       "                  <tr>\n",
       "                    <td bgcolor=\"white\" style=\"text-align:center\">Turnovers</td>\n",
       "                    <td bgcolor=\"white\" style=\"text-align:center\">7.0</td>\n",
       "                    <td bgcolor=\"white\" style=\"text-align:center\">21.0</td>\n",
       "                  </tr>\n",
       "                  <tr>\n",
       "                    <td bgcolor=\"white\" style=\"text-align:center\">Free Throws Rate</td>\n",
       "                    <td bgcolor=\"white\" style=\"text-align:center\">10.0</td>\n",
       "                    <td bgcolor=\"white\" style=\"text-align:center\">11.0</td>\n",
       "                  </tr>\n",
       "                  <tr>\n",
       "                    <td bgcolor=\"white\" style=\"text-align:center\"><b>TOTAL</td>\n",
       "                    <td bgcolor=\"white\" style=\"text-align:center\">100</td>\n",
       "                    <td bgcolor=\"white\" style=\"text-align:center\">100</b></td>\n",
       "                  </tr>\n",
       "                </table>\n",
       "                <hr>\n",
       "\n",
       "\n",
       "    \n",
       "            <img style=\"display: block; margin-left: auto; margin-right: auto;\" src=\"important_players.png\"/><hr>\n",
       "            <img style=\"display: block; margin-left: auto; margin-right: auto;\" src=\"important_individual_features.png\"/><hr>\n",
       "            <img style=\"display: block; margin-left: auto; margin-right: auto;\" src=\"shooting_analysis.png\"/><hr>\n",
       "            \n",
       "            <br>\n",
       "        </div>\n",
       "        "
      ],
      "text/plain": [
       "<IPython.core.display.HTML object>"
      ]
     },
     "metadata": {},
     "output_type": "display_data"
    }
   ],
   "source": [
    "summarize_everything('SAS', '1997-98 Season')"
   ]
  },
  {
   "cell_type": "code",
   "execution_count": 1197,
   "metadata": {},
   "outputs": [
    {
     "name": "stdout",
     "output_type": "stream",
     "text": [
      "100%|███████████████████████████████████████████████| 80/80 [00:17<00:00,  4.49trial/s, best loss: -0.8274853801169589]\n"
     ]
    },
    {
     "data": {
      "text/html": [
       "\n",
       "        <div style=\"width: 900px;\">\n",
       "            <div style=\"float: left; width: 420px;\"><img src=\"https://external-preview.redd.it/qX9powo5lVgvv_WBWX5lbgfJma-CtTsKpn6-Kh1YBuU.jpg?auto=webp&s=412bbf79803684a2cf70be6d424c210bc60eb9f6\"></div>\n",
       "            <div style=\"float: left; width: 480px; text-align: center; margin-top: 30px; font-family:fantasy;font-size:44px;\">Seattle</div>\n",
       "            <div style=\"float: left; width: 480px; text-align: center; margin-top: 31px; font-family:calibri;font-size:28px;\">Year Founded: <b>1967</b></div>\n",
       "            <div style=\"float: left; width: 480px; text-align: center; margin-top: 32px; font-family:calibri;font-size:28px;\">Team Record: <b>65W - 27L</b></div>\n",
       "            <div style=\"float: left; width: 480px; text-align: center; margin-top: 33px; font-family:calibri;font-size:28px;\">Model Accuracy: <b>82.7%</b></div>\n",
       "            <div style=\"float: left; width: 480px; text-align: center; margin-top: 34px; font-family:calibri;font-size:28px;\">Model ROC-AUC: <b>0.9</b></div>\n",
       "\n",
       "          </div>\n",
       "    "
      ],
      "text/plain": [
       "<IPython.core.display.HTML object>"
      ]
     },
     "metadata": {},
     "output_type": "display_data"
    },
    {
     "name": "stdout",
     "output_type": "stream",
     "text": [
      "100%|███████████████████████████████████████████████| 80/80 [00:22<00:00,  3.63trial/s, best loss: -0.8163742690058479]\n"
     ]
    },
    {
     "data": {
      "text/html": [
       "\n",
       "        <hr>\n",
       "        <div style=\"width: 900px;\">\n",
       "            <img style=\"display: block; margin-left: auto; margin-right: auto;\" src=\"importances_team.png\"/>\n",
       "            \n",
       "            <div class=\"table-responsive\">\n",
       "                      <table class=\"table\">\n",
       "                        <thead>\n",
       "                          <tr>\n",
       "                            <th bgcolor=\"whitesmoke\" style=\"text-align:center\">Factor</th>\n",
       "                            <th bgcolor=\"whitesmoke\" style=\"text-align:center\">SEA</th>\n",
       "                            <th bgcolor=\"whitesmoke\" style=\"text-align:center\">Avg. NBA Team</th>\n",
       "                          </tr>\n",
       "                        </thead>\n",
       "                  <tr>\n",
       "                    <td bgcolor=\"white\" style=\"text-align:center\">Shooting</td>\n",
       "                    <td bgcolor=\"white\" style=\"text-align:center\">50.0</td>\n",
       "                    <td bgcolor=\"white\" style=\"text-align:center\">52.0</td>\n",
       "                  </tr>\n",
       "                  <tr>\n",
       "                    <td bgcolor=\"white\" style=\"text-align:center\">Rebounding</td>\n",
       "                    <td bgcolor=\"white\" style=\"text-align:center\">12.0</td>\n",
       "                    <td bgcolor=\"white\" style=\"text-align:center\">16.0</td>\n",
       "                  </tr>\n",
       "                  <tr>\n",
       "                    <td bgcolor=\"white\" style=\"text-align:center\">Turnovers</td>\n",
       "                    <td bgcolor=\"white\" style=\"text-align:center\">25.0</td>\n",
       "                    <td bgcolor=\"white\" style=\"text-align:center\">21.0</td>\n",
       "                  </tr>\n",
       "                  <tr>\n",
       "                    <td bgcolor=\"white\" style=\"text-align:center\">Free Throws Rate</td>\n",
       "                    <td bgcolor=\"white\" style=\"text-align:center\">14.0</td>\n",
       "                    <td bgcolor=\"white\" style=\"text-align:center\">11.0</td>\n",
       "                  </tr>\n",
       "                  <tr>\n",
       "                    <td bgcolor=\"white\" style=\"text-align:center\"><b>TOTAL</td>\n",
       "                    <td bgcolor=\"white\" style=\"text-align:center\">100</td>\n",
       "                    <td bgcolor=\"white\" style=\"text-align:center\">100</b></td>\n",
       "                  </tr>\n",
       "                </table>\n",
       "                <hr>\n",
       "\n",
       "\n",
       "    \n",
       "            <img style=\"display: block; margin-left: auto; margin-right: auto;\" src=\"important_players.png\"/><hr>\n",
       "            <img style=\"display: block; margin-left: auto; margin-right: auto;\" src=\"important_individual_features.png\"/><hr>\n",
       "            <img style=\"display: block; margin-left: auto; margin-right: auto;\" src=\"shooting_analysis.png\"/><hr>\n",
       "            \n",
       "            <br>\n",
       "        </div>\n",
       "        "
      ],
      "text/plain": [
       "<IPython.core.display.HTML object>"
      ]
     },
     "metadata": {},
     "output_type": "display_data"
    }
   ],
   "source": [
    "summarize_everything('SEA', '1997-98 Season')"
   ]
  },
  {
   "cell_type": "code",
   "execution_count": 1198,
   "metadata": {},
   "outputs": [
    {
     "name": "stdout",
     "output_type": "stream",
     "text": [
      "100%|███████████████████████████████████████████████| 80/80 [00:17<00:00,  4.58trial/s, best loss: -0.8426470588235293]\n"
     ]
    },
    {
     "data": {
      "text/html": [
       "\n",
       "        <div style=\"width: 900px;\">\n",
       "            <div style=\"float: left; width: 420px;\"><img src=\"https://images8.alphacoders.com/105/1055875.jpg\"></div>\n",
       "            <div style=\"float: left; width: 480px; text-align: center; margin-top: 30px; font-family:fantasy;font-size:44px;\">Toronto</div>\n",
       "            <div style=\"float: left; width: 480px; text-align: center; margin-top: 31px; font-family:calibri;font-size:28px;\">Year Founded: <b>1995</b></div>\n",
       "            <div style=\"float: left; width: 480px; text-align: center; margin-top: 32px; font-family:calibri;font-size:28px;\">Team Record: <b>16W - 66L</b></div>\n",
       "            <div style=\"float: left; width: 480px; text-align: center; margin-top: 33px; font-family:calibri;font-size:28px;\">Model Accuracy: <b>84.3%</b></div>\n",
       "            <div style=\"float: left; width: 480px; text-align: center; margin-top: 34px; font-family:calibri;font-size:28px;\">Model ROC-AUC: <b>0.76</b></div>\n",
       "\n",
       "          </div>\n",
       "    "
      ],
      "text/plain": [
       "<IPython.core.display.HTML object>"
      ]
     },
     "metadata": {},
     "output_type": "display_data"
    },
    {
     "name": "stdout",
     "output_type": "stream",
     "text": [
      "100%|███████████████████████████████████████████████| 80/80 [00:21<00:00,  3.81trial/s, best loss: -0.8794117647058822]\n"
     ]
    },
    {
     "data": {
      "text/html": [
       "\n",
       "        <hr>\n",
       "        <div style=\"width: 900px;\">\n",
       "            <img style=\"display: block; margin-left: auto; margin-right: auto;\" src=\"importances_team.png\"/>\n",
       "            \n",
       "            <div class=\"table-responsive\">\n",
       "                      <table class=\"table\">\n",
       "                        <thead>\n",
       "                          <tr>\n",
       "                            <th bgcolor=\"whitesmoke\" style=\"text-align:center\">Factor</th>\n",
       "                            <th bgcolor=\"whitesmoke\" style=\"text-align:center\">TOR</th>\n",
       "                            <th bgcolor=\"whitesmoke\" style=\"text-align:center\">Avg. NBA Team</th>\n",
       "                          </tr>\n",
       "                        </thead>\n",
       "                  <tr>\n",
       "                    <td bgcolor=\"white\" style=\"text-align:center\">Shooting</td>\n",
       "                    <td bgcolor=\"white\" style=\"text-align:center\">65.0</td>\n",
       "                    <td bgcolor=\"white\" style=\"text-align:center\">52.0</td>\n",
       "                  </tr>\n",
       "                  <tr>\n",
       "                    <td bgcolor=\"white\" style=\"text-align:center\">Rebounding</td>\n",
       "                    <td bgcolor=\"white\" style=\"text-align:center\">13.0</td>\n",
       "                    <td bgcolor=\"white\" style=\"text-align:center\">16.0</td>\n",
       "                  </tr>\n",
       "                  <tr>\n",
       "                    <td bgcolor=\"white\" style=\"text-align:center\">Turnovers</td>\n",
       "                    <td bgcolor=\"white\" style=\"text-align:center\">14.0</td>\n",
       "                    <td bgcolor=\"white\" style=\"text-align:center\">21.0</td>\n",
       "                  </tr>\n",
       "                  <tr>\n",
       "                    <td bgcolor=\"white\" style=\"text-align:center\">Free Throws Rate</td>\n",
       "                    <td bgcolor=\"white\" style=\"text-align:center\">8.0</td>\n",
       "                    <td bgcolor=\"white\" style=\"text-align:center\">11.0</td>\n",
       "                  </tr>\n",
       "                  <tr>\n",
       "                    <td bgcolor=\"white\" style=\"text-align:center\"><b>TOTAL</td>\n",
       "                    <td bgcolor=\"white\" style=\"text-align:center\">100</td>\n",
       "                    <td bgcolor=\"white\" style=\"text-align:center\">100</b></td>\n",
       "                  </tr>\n",
       "                </table>\n",
       "                <hr>\n",
       "\n",
       "\n",
       "    \n",
       "            <img style=\"display: block; margin-left: auto; margin-right: auto;\" src=\"important_players.png\"/><hr>\n",
       "            <img style=\"display: block; margin-left: auto; margin-right: auto;\" src=\"important_individual_features.png\"/><hr>\n",
       "            <img style=\"display: block; margin-left: auto; margin-right: auto;\" src=\"shooting_analysis.png\"/><hr>\n",
       "            \n",
       "            <br>\n",
       "        </div>\n",
       "        "
      ],
      "text/plain": [
       "<IPython.core.display.HTML object>"
      ]
     },
     "metadata": {},
     "output_type": "display_data"
    }
   ],
   "source": [
    "summarize_everything('TOR', '1997-98 Season')"
   ]
  },
  {
   "cell_type": "code",
   "execution_count": 1199,
   "metadata": {},
   "outputs": [
    {
     "name": "stdout",
     "output_type": "stream",
     "text": [
      "100%|███████████████████████████████████████████████| 80/80 [00:17<00:00,  4.44trial/s, best loss: -0.8638095238095239]\n"
     ]
    },
    {
     "data": {
      "text/html": [
       "\n",
       "        <div style=\"width: 900px;\">\n",
       "            <div style=\"float: left; width: 420px;\"><img src=\"https://content.sportslogos.net/logos/6/234/full/8316e7nrg5xuouqqo21bjgem9.png\"></div>\n",
       "            <div style=\"float: left; width: 480px; text-align: center; margin-top: 30px; font-family:fantasy;font-size:44px;\">Utah</div>\n",
       "            <div style=\"float: left; width: 480px; text-align: center; margin-top: 31px; font-family:calibri;font-size:28px;\">Year Founded: <b>1974</b></div>\n",
       "            <div style=\"float: left; width: 480px; text-align: center; margin-top: 32px; font-family:calibri;font-size:28px;\">Team Record: <b>75W - 27L</b></div>\n",
       "            <div style=\"float: left; width: 480px; text-align: center; margin-top: 33px; font-family:calibri;font-size:28px;\">Model Accuracy: <b>86.4%</b></div>\n",
       "            <div style=\"float: left; width: 480px; text-align: center; margin-top: 34px; font-family:calibri;font-size:28px;\">Model ROC-AUC: <b>0.86</b></div>\n",
       "\n",
       "          </div>\n",
       "    "
      ],
      "text/plain": [
       "<IPython.core.display.HTML object>"
      ]
     },
     "metadata": {},
     "output_type": "display_data"
    },
    {
     "name": "stdout",
     "output_type": "stream",
     "text": [
      "100%|███████████████████████████████████████████████| 80/80 [00:22<00:00,  3.63trial/s, best loss: -0.8338095238095239]\n"
     ]
    },
    {
     "data": {
      "text/html": [
       "\n",
       "        <hr>\n",
       "        <div style=\"width: 900px;\">\n",
       "            <img style=\"display: block; margin-left: auto; margin-right: auto;\" src=\"importances_team.png\"/>\n",
       "            \n",
       "            <div class=\"table-responsive\">\n",
       "                      <table class=\"table\">\n",
       "                        <thead>\n",
       "                          <tr>\n",
       "                            <th bgcolor=\"whitesmoke\" style=\"text-align:center\">Factor</th>\n",
       "                            <th bgcolor=\"whitesmoke\" style=\"text-align:center\">UTA</th>\n",
       "                            <th bgcolor=\"whitesmoke\" style=\"text-align:center\">Avg. NBA Team</th>\n",
       "                          </tr>\n",
       "                        </thead>\n",
       "                  <tr>\n",
       "                    <td bgcolor=\"white\" style=\"text-align:center\">Shooting</td>\n",
       "                    <td bgcolor=\"white\" style=\"text-align:center\">47.0</td>\n",
       "                    <td bgcolor=\"white\" style=\"text-align:center\">52.0</td>\n",
       "                  </tr>\n",
       "                  <tr>\n",
       "                    <td bgcolor=\"white\" style=\"text-align:center\">Rebounding</td>\n",
       "                    <td bgcolor=\"white\" style=\"text-align:center\">22.0</td>\n",
       "                    <td bgcolor=\"white\" style=\"text-align:center\">16.0</td>\n",
       "                  </tr>\n",
       "                  <tr>\n",
       "                    <td bgcolor=\"white\" style=\"text-align:center\">Turnovers</td>\n",
       "                    <td bgcolor=\"white\" style=\"text-align:center\">18.0</td>\n",
       "                    <td bgcolor=\"white\" style=\"text-align:center\">21.0</td>\n",
       "                  </tr>\n",
       "                  <tr>\n",
       "                    <td bgcolor=\"white\" style=\"text-align:center\">Free Throws Rate</td>\n",
       "                    <td bgcolor=\"white\" style=\"text-align:center\">14.0</td>\n",
       "                    <td bgcolor=\"white\" style=\"text-align:center\">11.0</td>\n",
       "                  </tr>\n",
       "                  <tr>\n",
       "                    <td bgcolor=\"white\" style=\"text-align:center\"><b>TOTAL</td>\n",
       "                    <td bgcolor=\"white\" style=\"text-align:center\">100</td>\n",
       "                    <td bgcolor=\"white\" style=\"text-align:center\">100</b></td>\n",
       "                  </tr>\n",
       "                </table>\n",
       "                <hr>\n",
       "\n",
       "\n",
       "    \n",
       "            <img style=\"display: block; margin-left: auto; margin-right: auto;\" src=\"important_players.png\"/><hr>\n",
       "            <img style=\"display: block; margin-left: auto; margin-right: auto;\" src=\"important_individual_features.png\"/><hr>\n",
       "            <img style=\"display: block; margin-left: auto; margin-right: auto;\" src=\"shooting_analysis.png\"/><hr>\n",
       "            \n",
       "            <br>\n",
       "        </div>\n",
       "        "
      ],
      "text/plain": [
       "<IPython.core.display.HTML object>"
      ]
     },
     "metadata": {},
     "output_type": "display_data"
    }
   ],
   "source": [
    "summarize_everything('UTA', '1997-98 Season')"
   ]
  },
  {
   "cell_type": "code",
   "execution_count": 1200,
   "metadata": {},
   "outputs": [
    {
     "name": "stdout",
     "output_type": "stream",
     "text": [
      "100%|███████████████████████████████████████████████| 80/80 [00:17<00:00,  4.56trial/s, best loss: -0.8669117647058823]\n"
     ]
    },
    {
     "data": {
      "text/html": [
       "\n",
       "        <div style=\"width: 900px;\">\n",
       "            <div style=\"float: left; width: 420px;\"><img src=\"https://www.pngkit.com/png/detail/200-2000557_memphis-grizzlies-logo.png\"></div>\n",
       "            <div style=\"float: left; width: 480px; text-align: center; margin-top: 30px; font-family:fantasy;font-size:44px;\">Vancouver</div>\n",
       "            <div style=\"float: left; width: 480px; text-align: center; margin-top: 31px; font-family:calibri;font-size:28px;\">Year Founded: <b>1995</b></div>\n",
       "            <div style=\"float: left; width: 480px; text-align: center; margin-top: 32px; font-family:calibri;font-size:28px;\">Team Record: <b>19W - 63L</b></div>\n",
       "            <div style=\"float: left; width: 480px; text-align: center; margin-top: 33px; font-family:calibri;font-size:28px;\">Model Accuracy: <b>86.7%</b></div>\n",
       "            <div style=\"float: left; width: 480px; text-align: center; margin-top: 34px; font-family:calibri;font-size:28px;\">Model ROC-AUC: <b>0.74</b></div>\n",
       "\n",
       "          </div>\n",
       "    "
      ],
      "text/plain": [
       "<IPython.core.display.HTML object>"
      ]
     },
     "metadata": {},
     "output_type": "display_data"
    },
    {
     "name": "stdout",
     "output_type": "stream",
     "text": [
      "100%|███████████████████████████████████████████████| 80/80 [00:21<00:00,  3.81trial/s, best loss: -0.7933823529411764]\n"
     ]
    },
    {
     "data": {
      "text/html": [
       "\n",
       "        <hr>\n",
       "        <div style=\"width: 900px;\">\n",
       "            <img style=\"display: block; margin-left: auto; margin-right: auto;\" src=\"importances_team.png\"/>\n",
       "            \n",
       "            <div class=\"table-responsive\">\n",
       "                      <table class=\"table\">\n",
       "                        <thead>\n",
       "                          <tr>\n",
       "                            <th bgcolor=\"whitesmoke\" style=\"text-align:center\">Factor</th>\n",
       "                            <th bgcolor=\"whitesmoke\" style=\"text-align:center\">VAN</th>\n",
       "                            <th bgcolor=\"whitesmoke\" style=\"text-align:center\">Avg. NBA Team</th>\n",
       "                          </tr>\n",
       "                        </thead>\n",
       "                  <tr>\n",
       "                    <td bgcolor=\"white\" style=\"text-align:center\">Shooting</td>\n",
       "                    <td bgcolor=\"white\" style=\"text-align:center\">45.0</td>\n",
       "                    <td bgcolor=\"white\" style=\"text-align:center\">52.0</td>\n",
       "                  </tr>\n",
       "                  <tr>\n",
       "                    <td bgcolor=\"white\" style=\"text-align:center\">Rebounding</td>\n",
       "                    <td bgcolor=\"white\" style=\"text-align:center\">30.0</td>\n",
       "                    <td bgcolor=\"white\" style=\"text-align:center\">16.0</td>\n",
       "                  </tr>\n",
       "                  <tr>\n",
       "                    <td bgcolor=\"white\" style=\"text-align:center\">Turnovers</td>\n",
       "                    <td bgcolor=\"white\" style=\"text-align:center\">7.0</td>\n",
       "                    <td bgcolor=\"white\" style=\"text-align:center\">21.0</td>\n",
       "                  </tr>\n",
       "                  <tr>\n",
       "                    <td bgcolor=\"white\" style=\"text-align:center\">Free Throws Rate</td>\n",
       "                    <td bgcolor=\"white\" style=\"text-align:center\">18.0</td>\n",
       "                    <td bgcolor=\"white\" style=\"text-align:center\">11.0</td>\n",
       "                  </tr>\n",
       "                  <tr>\n",
       "                    <td bgcolor=\"white\" style=\"text-align:center\"><b>TOTAL</td>\n",
       "                    <td bgcolor=\"white\" style=\"text-align:center\">100</td>\n",
       "                    <td bgcolor=\"white\" style=\"text-align:center\">100</b></td>\n",
       "                  </tr>\n",
       "                </table>\n",
       "                <hr>\n",
       "\n",
       "\n",
       "    \n",
       "            <img style=\"display: block; margin-left: auto; margin-right: auto;\" src=\"important_players.png\"/><hr>\n",
       "            <img style=\"display: block; margin-left: auto; margin-right: auto;\" src=\"important_individual_features.png\"/><hr>\n",
       "            <img style=\"display: block; margin-left: auto; margin-right: auto;\" src=\"shooting_analysis.png\"/><hr>\n",
       "            \n",
       "            <br>\n",
       "        </div>\n",
       "        "
      ],
      "text/plain": [
       "<IPython.core.display.HTML object>"
      ]
     },
     "metadata": {},
     "output_type": "display_data"
    }
   ],
   "source": [
    "summarize_everything('VAN', '1997-98 Season')"
   ]
  },
  {
   "cell_type": "code",
   "execution_count": 1201,
   "metadata": {},
   "outputs": [
    {
     "name": "stdout",
     "output_type": "stream",
     "text": [
      "100%|███████████████████████████████████████████████| 80/80 [00:17<00:00,  4.67trial/s, best loss: -0.8161764705882353]\n"
     ]
    },
    {
     "data": {
      "text/html": [
       "\n",
       "        <div style=\"width: 900px;\">\n",
       "            <div style=\"float: left; width: 420px;\"><img src=\"https://www.michael-weinstein.com/wp-content/uploads/2011/05/bullets2.jpg\"></div>\n",
       "            <div style=\"float: left; width: 480px; text-align: center; margin-top: 30px; font-family:fantasy;font-size:44px;\">Washington</div>\n",
       "            <div style=\"float: left; width: 480px; text-align: center; margin-top: 31px; font-family:calibri;font-size:28px;\">Year Founded: <b>1961</b></div>\n",
       "            <div style=\"float: left; width: 480px; text-align: center; margin-top: 32px; font-family:calibri;font-size:28px;\">Team Record: <b>42W - 40L</b></div>\n",
       "            <div style=\"float: left; width: 480px; text-align: center; margin-top: 33px; font-family:calibri;font-size:28px;\">Model Accuracy: <b>81.6%</b></div>\n",
       "            <div style=\"float: left; width: 480px; text-align: center; margin-top: 34px; font-family:calibri;font-size:28px;\">Model ROC-AUC: <b>0.78</b></div>\n",
       "\n",
       "          </div>\n",
       "    "
      ],
      "text/plain": [
       "<IPython.core.display.HTML object>"
      ]
     },
     "metadata": {},
     "output_type": "display_data"
    },
    {
     "name": "stdout",
     "output_type": "stream",
     "text": [
      "100%|███████████████████████████████████████████████| 80/80 [00:21<00:00,  3.78trial/s, best loss: -0.8051470588235293]\n"
     ]
    },
    {
     "data": {
      "text/html": [
       "\n",
       "        <hr>\n",
       "        <div style=\"width: 900px;\">\n",
       "            <img style=\"display: block; margin-left: auto; margin-right: auto;\" src=\"importances_team.png\"/>\n",
       "            \n",
       "            <div class=\"table-responsive\">\n",
       "                      <table class=\"table\">\n",
       "                        <thead>\n",
       "                          <tr>\n",
       "                            <th bgcolor=\"whitesmoke\" style=\"text-align:center\">Factor</th>\n",
       "                            <th bgcolor=\"whitesmoke\" style=\"text-align:center\">WAS</th>\n",
       "                            <th bgcolor=\"whitesmoke\" style=\"text-align:center\">Avg. NBA Team</th>\n",
       "                          </tr>\n",
       "                        </thead>\n",
       "                  <tr>\n",
       "                    <td bgcolor=\"white\" style=\"text-align:center\">Shooting</td>\n",
       "                    <td bgcolor=\"white\" style=\"text-align:center\">64.0</td>\n",
       "                    <td bgcolor=\"white\" style=\"text-align:center\">52.0</td>\n",
       "                  </tr>\n",
       "                  <tr>\n",
       "                    <td bgcolor=\"white\" style=\"text-align:center\">Rebounding</td>\n",
       "                    <td bgcolor=\"white\" style=\"text-align:center\">6.0</td>\n",
       "                    <td bgcolor=\"white\" style=\"text-align:center\">16.0</td>\n",
       "                  </tr>\n",
       "                  <tr>\n",
       "                    <td bgcolor=\"white\" style=\"text-align:center\">Turnovers</td>\n",
       "                    <td bgcolor=\"white\" style=\"text-align:center\">20.0</td>\n",
       "                    <td bgcolor=\"white\" style=\"text-align:center\">21.0</td>\n",
       "                  </tr>\n",
       "                  <tr>\n",
       "                    <td bgcolor=\"white\" style=\"text-align:center\">Free Throws Rate</td>\n",
       "                    <td bgcolor=\"white\" style=\"text-align:center\">10.0</td>\n",
       "                    <td bgcolor=\"white\" style=\"text-align:center\">11.0</td>\n",
       "                  </tr>\n",
       "                  <tr>\n",
       "                    <td bgcolor=\"white\" style=\"text-align:center\"><b>TOTAL</td>\n",
       "                    <td bgcolor=\"white\" style=\"text-align:center\">100</td>\n",
       "                    <td bgcolor=\"white\" style=\"text-align:center\">100</b></td>\n",
       "                  </tr>\n",
       "                </table>\n",
       "                <hr>\n",
       "\n",
       "\n",
       "    \n",
       "            <img style=\"display: block; margin-left: auto; margin-right: auto;\" src=\"important_players.png\"/><hr>\n",
       "            <img style=\"display: block; margin-left: auto; margin-right: auto;\" src=\"important_individual_features.png\"/><hr>\n",
       "            <img style=\"display: block; margin-left: auto; margin-right: auto;\" src=\"shooting_analysis.png\"/><hr>\n",
       "            \n",
       "            <br>\n",
       "        </div>\n",
       "        "
      ],
      "text/plain": [
       "<IPython.core.display.HTML object>"
      ]
     },
     "metadata": {},
     "output_type": "display_data"
    }
   ],
   "source": [
    "summarize_everything('WAS', '1997-98 Season')"
   ]
  }
 ],
 "metadata": {
  "kernelspec": {
   "display_name": "Python 3",
   "language": "python",
   "name": "python3"
  },
  "language_info": {
   "codemirror_mode": {
    "name": "ipython",
    "version": 3
   },
   "file_extension": ".py",
   "mimetype": "text/x-python",
   "name": "python",
   "nbconvert_exporter": "python",
   "pygments_lexer": "ipython3",
   "version": "3.7.6"
  }
 },
 "nbformat": 4,
 "nbformat_minor": 4
}
